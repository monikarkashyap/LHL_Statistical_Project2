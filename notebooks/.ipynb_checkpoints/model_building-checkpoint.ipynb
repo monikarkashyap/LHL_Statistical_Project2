{
 "cells": [
  {
   "cell_type": "markdown",
   "metadata": {},
   "source": [
    "***Data Source2: [Yelp](https://www.yelp.com/developers/documentation/v3/get_started) API***"
   ]
  },
  {
   "cell_type": "markdown",
   "metadata": {},
   "source": [
    "***Data Source3:  [CityBikes](https://citybik.es/) API***"
   ]
  },
  {
   "cell_type": "code",
   "execution_count": 67,
   "metadata": {},
   "outputs": [],
   "source": [
    "#imports\n",
    "import pandas as pd\n",
    "import statsmodels.api as sm\n",
    "import matplotlib.pyplot as plt\n",
    "import seaborn as sns\n",
    "import scipy\n",
    "import numpy as np\n",
    "\n",
    "from sklearn.model_selection import train_test_split\n",
    "from sklearn.preprocessing import StandardScaler\n",
    "from sklearn.linear_model import LogisticRegression\n",
    "from sklearn.model_selection import cross_val_score"
   ]
  },
  {
   "cell_type": "code",
   "execution_count": 2,
   "metadata": {},
   "outputs": [
    {
     "data": {
      "text/html": [
       "<div>\n",
       "<style scoped>\n",
       "    .dataframe tbody tr th:only-of-type {\n",
       "        vertical-align: middle;\n",
       "    }\n",
       "\n",
       "    .dataframe tbody tr th {\n",
       "        vertical-align: top;\n",
       "    }\n",
       "\n",
       "    .dataframe thead th {\n",
       "        text-align: right;\n",
       "    }\n",
       "</style>\n",
       "<table border=\"1\" class=\"dataframe\">\n",
       "  <thead>\n",
       "    <tr style=\"text-align: right;\">\n",
       "      <th></th>\n",
       "      <th>id</th>\n",
       "      <th>alias</th>\n",
       "      <th>name</th>\n",
       "      <th>review_count</th>\n",
       "      <th>rating</th>\n",
       "      <th>station</th>\n",
       "      <th>category_alias</th>\n",
       "      <th>category_title</th>\n",
       "      <th>station_id</th>\n",
       "      <th>latitude</th>\n",
       "      <th>longitude</th>\n",
       "      <th>no_of_bikes</th>\n",
       "      <th>network_id</th>\n",
       "    </tr>\n",
       "  </thead>\n",
       "  <tbody>\n",
       "    <tr>\n",
       "      <th>0</th>\n",
       "      <td>o0AHPpZqqWc8jszVVNbooA</td>\n",
       "      <td>au-chien-chic-calais</td>\n",
       "      <td>Au Chien Chic</td>\n",
       "      <td>1.0</td>\n",
       "      <td>5.0</td>\n",
       "      <td>a</td>\n",
       "      <td>restaurants</td>\n",
       "      <td>Restaurants</td>\n",
       "      <td>116978dc6ed165d95a1ce386466bf165</td>\n",
       "      <td>50.946176</td>\n",
       "      <td>1.891176</td>\n",
       "      <td>0</td>\n",
       "      <td>vel-in</td>\n",
       "    </tr>\n",
       "    <tr>\n",
       "      <th>1</th>\n",
       "      <td>o0AHPpZqqWc8jszVVNbooA</td>\n",
       "      <td>au-chien-chic-calais</td>\n",
       "      <td>Au Chien Chic</td>\n",
       "      <td>1.0</td>\n",
       "      <td>5.0</td>\n",
       "      <td>a</td>\n",
       "      <td>beautysvc</td>\n",
       "      <td>Beauty &amp; Spas</td>\n",
       "      <td>116978dc6ed165d95a1ce386466bf165</td>\n",
       "      <td>50.946176</td>\n",
       "      <td>1.891176</td>\n",
       "      <td>0</td>\n",
       "      <td>vel-in</td>\n",
       "    </tr>\n",
       "    <tr>\n",
       "      <th>2</th>\n",
       "      <td>WU6IaRGdEkYOm6r3QZOuUw</td>\n",
       "      <td>l-absinthe-calais-2</td>\n",
       "      <td>L'Absinthe</td>\n",
       "      <td>2.0</td>\n",
       "      <td>4.0</td>\n",
       "      <td>a</td>\n",
       "      <td>bars</td>\n",
       "      <td>Bars</td>\n",
       "      <td>116978dc6ed165d95a1ce386466bf165</td>\n",
       "      <td>50.946176</td>\n",
       "      <td>1.891176</td>\n",
       "      <td>0</td>\n",
       "      <td>vel-in</td>\n",
       "    </tr>\n",
       "    <tr>\n",
       "      <th>3</th>\n",
       "      <td>WU6IaRGdEkYOm6r3QZOuUw</td>\n",
       "      <td>l-absinthe-calais-2</td>\n",
       "      <td>L'Absinthe</td>\n",
       "      <td>2.0</td>\n",
       "      <td>4.0</td>\n",
       "      <td>a</td>\n",
       "      <td>danceclubs</td>\n",
       "      <td>Dance Clubs</td>\n",
       "      <td>116978dc6ed165d95a1ce386466bf165</td>\n",
       "      <td>50.946176</td>\n",
       "      <td>1.891176</td>\n",
       "      <td>0</td>\n",
       "      <td>vel-in</td>\n",
       "    </tr>\n",
       "    <tr>\n",
       "      <th>4</th>\n",
       "      <td>8sdlNaz1z5PosLyL8qPMIA</td>\n",
       "      <td>campanile-calais</td>\n",
       "      <td>Campanile</td>\n",
       "      <td>1.0</td>\n",
       "      <td>2.0</td>\n",
       "      <td>a</td>\n",
       "      <td>french</td>\n",
       "      <td>French</td>\n",
       "      <td>116978dc6ed165d95a1ce386466bf165</td>\n",
       "      <td>50.946176</td>\n",
       "      <td>1.891176</td>\n",
       "      <td>0</td>\n",
       "      <td>vel-in</td>\n",
       "    </tr>\n",
       "  </tbody>\n",
       "</table>\n",
       "</div>"
      ],
      "text/plain": [
       "                       id                 alias           name  review_count  \\\n",
       "0  o0AHPpZqqWc8jszVVNbooA  au-chien-chic-calais  Au Chien Chic           1.0   \n",
       "1  o0AHPpZqqWc8jszVVNbooA  au-chien-chic-calais  Au Chien Chic           1.0   \n",
       "2  WU6IaRGdEkYOm6r3QZOuUw   l-absinthe-calais-2     L'Absinthe           2.0   \n",
       "3  WU6IaRGdEkYOm6r3QZOuUw   l-absinthe-calais-2     L'Absinthe           2.0   \n",
       "4  8sdlNaz1z5PosLyL8qPMIA      campanile-calais      Campanile           1.0   \n",
       "\n",
       "   rating station category_alias category_title  \\\n",
       "0     5.0       a    restaurants    Restaurants   \n",
       "1     5.0       a      beautysvc  Beauty & Spas   \n",
       "2     4.0       a           bars           Bars   \n",
       "3     4.0       a     danceclubs    Dance Clubs   \n",
       "4     2.0       a         french         French   \n",
       "\n",
       "                         station_id   latitude  longitude  no_of_bikes  \\\n",
       "0  116978dc6ed165d95a1ce386466bf165  50.946176   1.891176            0   \n",
       "1  116978dc6ed165d95a1ce386466bf165  50.946176   1.891176            0   \n",
       "2  116978dc6ed165d95a1ce386466bf165  50.946176   1.891176            0   \n",
       "3  116978dc6ed165d95a1ce386466bf165  50.946176   1.891176            0   \n",
       "4  116978dc6ed165d95a1ce386466bf165  50.946176   1.891176            0   \n",
       "\n",
       "  network_id  \n",
       "0     vel-in  \n",
       "1     vel-in  \n",
       "2     vel-in  \n",
       "3     vel-in  \n",
       "4     vel-in  "
      ]
     },
     "execution_count": 2,
     "metadata": {},
     "output_type": "execute_result"
    }
   ],
   "source": [
    "final_data=pd.read_csv(\"../data/final_data.csv\")\n",
    "final_data.head()"
   ]
  },
  {
   "cell_type": "markdown",
   "metadata": {},
   "source": [
    "***Build a regression model.***"
   ]
  },
  {
   "cell_type": "markdown",
   "metadata": {},
   "source": [
    "***Assumptions :***\n",
    "- Choose numerical fields from the dataset like review_count, rating, no_of_bikes\n",
    "- Categorical fields category_alias or category_title "
   ]
  },
  {
   "cell_type": "markdown",
   "metadata": {},
   "source": [
    "***Note:*** Finding the relation between no of bikes and rating"
   ]
  },
  {
   "cell_type": "code",
   "execution_count": 15,
   "metadata": {},
   "outputs": [
    {
     "data": {
      "text/plain": [
       "<seaborn.axisgrid.PairGrid at 0x23b6c9e8d90>"
      ]
     },
     "execution_count": 15,
     "metadata": {},
     "output_type": "execute_result"
    },
    {
     "data": {
      "image/png": "[encoded data removed]",
      "text/plain": [
       "<Figure size 750x750 with 12 Axes>"
      ]
     },
     "metadata": {},
     "output_type": "display_data"
    }
   ],
   "source": [
    "data_slice=final_data[['no_of_bikes','rating','review_count']].copy()\n",
    "sns.pairplot(data_slice)"
   ]
  },
  {
   "cell_type": "code",
   "execution_count": 16,
   "metadata": {},
   "outputs": [
    {
     "data": {
      "image/png": "[encoded data removed]",
      "text/plain": [
       "<Figure size 640x480 with 1 Axes>"
      ]
     },
     "metadata": {},
     "output_type": "display_data"
    }
   ],
   "source": [
    "plt.scatter(data_slice['rating'],data_slice['no_of_bikes'])\n",
    "plt.xlabel('Rating')\n",
    "plt.ylabel('No of Bikes')\n",
    "plt.show()"
   ]
  },
  {
   "cell_type": "markdown",
   "metadata": {},
   "source": [
    "***Note:*** The above graph clearly shows that the relation between dependant variable and independent variable is non-linear"
   ]
  },
  {
   "cell_type": "code",
   "execution_count": 17,
   "metadata": {},
   "outputs": [
    {
     "data": {
      "text/html": [
       "<div>\n",
       "<style scoped>\n",
       "    .dataframe tbody tr th:only-of-type {\n",
       "        vertical-align: middle;\n",
       "    }\n",
       "\n",
       "    .dataframe tbody tr th {\n",
       "        vertical-align: top;\n",
       "    }\n",
       "\n",
       "    .dataframe thead th {\n",
       "        text-align: right;\n",
       "    }\n",
       "</style>\n",
       "<table border=\"1\" class=\"dataframe\">\n",
       "  <thead>\n",
       "    <tr style=\"text-align: right;\">\n",
       "      <th></th>\n",
       "      <th>no_of_bikes</th>\n",
       "      <th>rating</th>\n",
       "      <th>review_count</th>\n",
       "    </tr>\n",
       "  </thead>\n",
       "  <tbody>\n",
       "    <tr>\n",
       "      <th>no_of_bikes</th>\n",
       "      <td>1.000000</td>\n",
       "      <td>-0.174708</td>\n",
       "      <td>0.156515</td>\n",
       "    </tr>\n",
       "    <tr>\n",
       "      <th>rating</th>\n",
       "      <td>-0.174708</td>\n",
       "      <td>1.000000</td>\n",
       "      <td>0.136381</td>\n",
       "    </tr>\n",
       "    <tr>\n",
       "      <th>review_count</th>\n",
       "      <td>0.156515</td>\n",
       "      <td>0.136381</td>\n",
       "      <td>1.000000</td>\n",
       "    </tr>\n",
       "  </tbody>\n",
       "</table>\n",
       "</div>"
      ],
      "text/plain": [
       "              no_of_bikes    rating  review_count\n",
       "no_of_bikes      1.000000 -0.174708      0.156515\n",
       "rating          -0.174708  1.000000      0.136381\n",
       "review_count     0.156515  0.136381      1.000000"
      ]
     },
     "execution_count": 17,
     "metadata": {},
     "output_type": "execute_result"
    }
   ],
   "source": [
    "data_slice.corr()"
   ]
  },
  {
   "cell_type": "markdown",
   "metadata": {},
   "source": [
    "***Note:*** Above values shows a poor correlation as all the values are too close to 0"
   ]
  },
  {
   "cell_type": "code",
   "execution_count": 21,
   "metadata": {},
   "outputs": [
    {
     "name": "stdout",
     "output_type": "stream",
     "text": [
      "0.03191029622769848 0.054964479331345406 0.09496752543038503\n"
     ]
    }
   ],
   "source": [
    "stat, p1 = scipy.stats.pearsonr(data_slice['no_of_bikes'], data_slice['rating'])\n",
    "stat, p2 = scipy.stats.pearsonr(data_slice['no_of_bikes'], data_slice['review_count'])\n",
    "stat, p3 = scipy.stats.pearsonr(data_slice['rating'], data_slice['review_count'])\n",
    "print(p1, p2, p3)"
   ]
  },
  {
   "cell_type": "markdown",
   "metadata": {},
   "source": [
    "***Note:*** Using Pearson's cofficient test the only one p-value is <0.05 so the other two will follow H-Null Hypothesis.p1 shows some significance in correlation between ***no_of_bikes*** and ***rating***\n",
    "- Lets run a Regression Model to find tha more in-sites"
   ]
  },
  {
   "cell_type": "code",
   "execution_count": null,
   "metadata": {},
   "outputs": [],
   "source": []
  },
  {
   "cell_type": "code",
   "execution_count": 22,
   "metadata": {},
   "outputs": [
    {
     "name": "stdout",
     "output_type": "stream",
     "text": [
      "                            OLS Regression Results                            \n",
      "==============================================================================\n",
      "Dep. Variable:            no_of_bikes   R-squared:                       0.064\n",
      "Model:                            OLS   Adj. R-squared:                  0.051\n",
      "Method:                 Least Squares   F-statistic:                     5.031\n",
      "Date:                Sun, 24 Sep 2023   Prob (F-statistic):            0.00769\n",
      "Time:                        20:12:27   Log-Likelihood:                -290.05\n",
      "No. Observations:                 151   AIC:                             586.1\n",
      "Df Residuals:                     148   BIC:                             595.1\n",
      "Df Model:                           2                                         \n",
      "Covariance Type:            nonrobust                                         \n",
      "================================================================================\n",
      "                   coef    std err          t      P>|t|      [0.025      0.975]\n",
      "--------------------------------------------------------------------------------\n",
      "const            2.8600      0.547      5.224      0.000       1.778       3.942\n",
      "rating          -0.3438      0.138     -2.488      0.014      -0.617      -0.071\n",
      "review_count     0.0567      0.025      2.289      0.024       0.008       0.106\n",
      "==============================================================================\n",
      "Omnibus:                       32.020   Durbin-Watson:                   0.318\n",
      "Prob(Omnibus):                  0.000   Jarque-Bera (JB):               51.679\n",
      "Skew:                           1.057   Prob(JB):                     6.00e-12\n",
      "Kurtosis:                       4.935   Cond. No.                         32.5\n",
      "==============================================================================\n",
      "\n",
      "Notes:\n",
      "[1] Standard Errors assume that the covariance matrix of the errors is correctly specified.\n"
     ]
    }
   ],
   "source": [
    "y=final_data['no_of_bikes']\n",
    "X=final_data[['rating','review_count']]\n",
    "model = sm.OLS(y, sm.add_constant(X)).fit()\n",
    "print(model.summary())"
   ]
  },
  {
   "cell_type": "markdown",
   "metadata": {},
   "source": [
    "***Note:*** Interpret the results"
   ]
  },
  {
   "cell_type": "code",
   "execution_count": 23,
   "metadata": {},
   "outputs": [
    {
     "data": {
      "text/plain": [
       "const           2.860005\n",
       "rating         -0.343791\n",
       "review_count    0.056740\n",
       "dtype: float64"
      ]
     },
     "execution_count": 23,
     "metadata": {},
     "output_type": "execute_result"
    }
   ],
   "source": [
    "model.params"
   ]
  },
  {
   "cell_type": "markdown",
   "metadata": {},
   "source": [
    "- The constant terms is the intercept of the regression line.which tells the noise present in model.\n",
    "- The coefficient term tells the change in y for a unit change in X\n",
    "- p-values for both the independent variables are small so we can reject null hypothesis\n",
    "- but the biggest flaw in this model is very low values of R-squared and Adj.R-squared.That means we need to drop insignificant variables"
   ]
  },
  {
   "cell_type": "markdown",
   "metadata": {},
   "source": [
    "***Note:*** lets try another regression"
   ]
  },
  {
   "cell_type": "code",
   "execution_count": 26,
   "metadata": {},
   "outputs": [
    {
     "name": "stdout",
     "output_type": "stream",
     "text": [
      "                            OLS Regression Results                            \n",
      "==============================================================================\n",
      "Dep. Variable:            no_of_bikes   R-squared:                       0.031\n",
      "Model:                            OLS   Adj. R-squared:                  0.024\n",
      "Method:                 Least Squares   F-statistic:                     4.691\n",
      "Date:                Sun, 24 Sep 2023   Prob (F-statistic):             0.0319\n",
      "Time:                        20:39:55   Log-Likelihood:                -292.67\n",
      "No. Observations:                 151   AIC:                             589.3\n",
      "Df Residuals:                     149   BIC:                             595.4\n",
      "Df Model:                           1                                         \n",
      "Covariance Type:            nonrobust                                         \n",
      "==============================================================================\n",
      "                 coef    std err          t      P>|t|      [0.025      0.975]\n",
      "------------------------------------------------------------------------------\n",
      "const          2.9622      0.553      5.353      0.000       1.869       4.056\n",
      "rating        -0.3007      0.139     -2.166      0.032      -0.575      -0.026\n",
      "==============================================================================\n",
      "Omnibus:                       45.555   Durbin-Watson:                   0.298\n",
      "Prob(Omnibus):                  0.000   Jarque-Bera (JB):              101.783\n",
      "Skew:                           1.293   Prob(JB):                     7.91e-23\n",
      "Kurtosis:                       6.081   Cond. No.                         17.0\n",
      "==============================================================================\n",
      "\n",
      "Notes:\n",
      "[1] Standard Errors assume that the covariance matrix of the errors is correctly specified.\n"
     ]
    }
   ],
   "source": [
    "y=final_data['no_of_bikes']\n",
    "X=final_data[['rating']]\n",
    "model = sm.OLS(y, sm.add_constant(X)).fit()\n",
    "print(model.summary())"
   ]
  },
  {
   "cell_type": "markdown",
   "metadata": {},
   "source": [
    "***Note:*** we can clearly see that by ommiting review_count the model become worst with poor R-square"
   ]
  },
  {
   "cell_type": "markdown",
   "metadata": {},
   "source": [
    "***Note:*** Let's try with sqrt(y)"
   ]
  },
  {
   "cell_type": "code",
   "execution_count": 30,
   "metadata": {},
   "outputs": [
    {
     "name": "stdout",
     "output_type": "stream",
     "text": [
      "                            OLS Regression Results                            \n",
      "==============================================================================\n",
      "Dep. Variable:            no_of_bikes   R-squared:                       0.032\n",
      "Model:                            OLS   Adj. R-squared:                  0.025\n",
      "Method:                 Least Squares   F-statistic:                     4.862\n",
      "Date:                Sun, 24 Sep 2023   Prob (F-statistic):             0.0290\n",
      "Time:                        20:44:18   Log-Likelihood:                -176.31\n",
      "No. Observations:                 151   AIC:                             356.6\n",
      "Df Residuals:                     149   BIC:                             362.7\n",
      "Df Model:                           1                                         \n",
      "Covariance Type:            nonrobust                                         \n",
      "==============================================================================\n",
      "                 coef    std err          t      P>|t|      [0.025      0.975]\n",
      "------------------------------------------------------------------------------\n",
      "const          1.6316      0.256      6.372      0.000       1.126       2.138\n",
      "rating        -0.1416      0.064     -2.205      0.029      -0.269      -0.015\n",
      "==============================================================================\n",
      "Omnibus:                       17.095   Durbin-Watson:                   0.165\n",
      "Prob(Omnibus):                  0.000   Jarque-Bera (JB):                6.105\n",
      "Skew:                          -0.187   Prob(JB):                       0.0472\n",
      "Kurtosis:                       2.089   Cond. No.                         17.0\n",
      "==============================================================================\n",
      "\n",
      "Notes:\n",
      "[1] Standard Errors assume that the covariance matrix of the errors is correctly specified.\n"
     ]
    }
   ],
   "source": [
    "y=np.sqrt(final_data['no_of_bikes'])\n",
    "X=final_data[['rating']]\n",
    "model = sm.OLS(y, sm.add_constant(X)).fit()\n",
    "print(model.summary())"
   ]
  },
  {
   "cell_type": "markdown",
   "metadata": {},
   "source": [
    "***Note:*** Still the same type of result"
   ]
  },
  {
   "cell_type": "markdown",
   "metadata": {},
   "source": [
    "***Provide model output and an interpretation of the results.***"
   ]
  },
  {
   "cell_type": "markdown",
   "metadata": {},
   "source": [
    "***Result:*** As we have tried various approches but the above model and the corresponding variables could not reveal significant results."
   ]
  },
  {
   "cell_type": "markdown",
   "metadata": {},
   "source": [
    "# Stretch"
   ]
  },
  {
   "cell_type": "markdown",
   "metadata": {},
   "source": [
    "How can you turn the regression model into a classification model?"
   ]
  },
  {
   "cell_type": "markdown",
   "metadata": {},
   "source": [
    "***Assumptions:***\n",
    "- for the classification regression we choose the dependent variable as 'category_title'\n",
    "- map the category"
   ]
  },
  {
   "cell_type": "code",
   "execution_count": 48,
   "metadata": {},
   "outputs": [
    {
     "data": {
      "text/html": [
       "<div>\n",
       "<style scoped>\n",
       "    .dataframe tbody tr th:only-of-type {\n",
       "        vertical-align: middle;\n",
       "    }\n",
       "\n",
       "    .dataframe tbody tr th {\n",
       "        vertical-align: top;\n",
       "    }\n",
       "\n",
       "    .dataframe thead th {\n",
       "        text-align: right;\n",
       "    }\n",
       "</style>\n",
       "<table border=\"1\" class=\"dataframe\">\n",
       "  <thead>\n",
       "    <tr style=\"text-align: right;\">\n",
       "      <th></th>\n",
       "      <th>category_title</th>\n",
       "      <th>rating</th>\n",
       "      <th>review_count</th>\n",
       "      <th>no_of_bikes</th>\n",
       "    </tr>\n",
       "  </thead>\n",
       "  <tbody>\n",
       "    <tr>\n",
       "      <th>0</th>\n",
       "      <td>Restaurants</td>\n",
       "      <td>5.0</td>\n",
       "      <td>1.0</td>\n",
       "      <td>0</td>\n",
       "    </tr>\n",
       "    <tr>\n",
       "      <th>1</th>\n",
       "      <td>Beauty &amp; Spas</td>\n",
       "      <td>5.0</td>\n",
       "      <td>1.0</td>\n",
       "      <td>0</td>\n",
       "    </tr>\n",
       "    <tr>\n",
       "      <th>2</th>\n",
       "      <td>Bars</td>\n",
       "      <td>4.0</td>\n",
       "      <td>2.0</td>\n",
       "      <td>0</td>\n",
       "    </tr>\n",
       "    <tr>\n",
       "      <th>3</th>\n",
       "      <td>Dance Clubs</td>\n",
       "      <td>4.0</td>\n",
       "      <td>2.0</td>\n",
       "      <td>0</td>\n",
       "    </tr>\n",
       "    <tr>\n",
       "      <th>4</th>\n",
       "      <td>French</td>\n",
       "      <td>2.0</td>\n",
       "      <td>1.0</td>\n",
       "      <td>0</td>\n",
       "    </tr>\n",
       "  </tbody>\n",
       "</table>\n",
       "</div>"
      ],
      "text/plain": [
       "  category_title  rating  review_count  no_of_bikes\n",
       "0    Restaurants     5.0           1.0            0\n",
       "1  Beauty & Spas     5.0           1.0            0\n",
       "2           Bars     4.0           2.0            0\n",
       "3    Dance Clubs     4.0           2.0            0\n",
       "4         French     2.0           1.0            0"
      ]
     },
     "execution_count": 48,
     "metadata": {},
     "output_type": "execute_result"
    }
   ],
   "source": [
    "data_slice1=final_data[['category_title','rating','review_count','no_of_bikes']].copy()\n",
    "data_slice1.head()"
   ]
  },
  {
   "cell_type": "code",
   "execution_count": 38,
   "metadata": {},
   "outputs": [
    {
     "data": {
      "text/plain": [
       "array(['Restaurants', 'Beauty & Spas', 'Bars', 'Dance Clubs', 'French',\n",
       "       'Hotels', 'Fast Food', 'Seafood',\n",
       "       'Landmarks & Historical Buildings', 'Bistros', 'Brasseries',\n",
       "       'Food Delivery Services', 'Italian', 'Pizza', 'Japanese',\n",
       "       'Pan Asian', 'Bakeries', 'Performing Arts', 'Cultural Center',\n",
       "       'Thai', 'Creperies', 'Pubs', 'Wine Bars', 'Salad', 'Beaches',\n",
       "       'Sandwiches', 'Buffets', 'Wok', 'Shoe Stores', 'Jewelry',\n",
       "       'Car Rental', 'Steakhouses', 'Chicken Shop', 'Burgers', 'Desserts',\n",
       "       'Vegetarian', 'Moroccan', 'Music Venues', 'American (Traditional)',\n",
       "       'Cafes', 'Breakfast & Brunch', 'Chinese', 'Casinos', 'Barbeque'],\n",
       "      dtype=object)"
      ]
     },
     "execution_count": 38,
     "metadata": {},
     "output_type": "execute_result"
    }
   ],
   "source": [
    "unique_cat=data_slice1['category_title'].unique()\n",
    "unique_cat"
   ]
  },
  {
   "cell_type": "code",
   "execution_count": 41,
   "metadata": {},
   "outputs": [
    {
     "data": {
      "text/plain": [
       "{1: 'Restaurants',\n",
       " 2: 'Beauty & Spas',\n",
       " 3: 'Bars',\n",
       " 4: 'Dance Clubs',\n",
       " 5: 'French',\n",
       " 6: 'Hotels',\n",
       " 7: 'Fast Food',\n",
       " 8: 'Seafood',\n",
       " 9: 'Landmarks & Historical Buildings',\n",
       " 10: 'Bistros',\n",
       " 11: 'Brasseries',\n",
       " 12: 'Food Delivery Services',\n",
       " 13: 'Italian',\n",
       " 14: 'Pizza',\n",
       " 15: 'Japanese',\n",
       " 16: 'Pan Asian',\n",
       " 17: 'Bakeries',\n",
       " 18: 'Performing Arts',\n",
       " 19: 'Cultural Center',\n",
       " 20: 'Thai',\n",
       " 21: 'Creperies',\n",
       " 22: 'Pubs',\n",
       " 23: 'Wine Bars',\n",
       " 24: 'Salad',\n",
       " 25: 'Beaches',\n",
       " 26: 'Sandwiches',\n",
       " 27: 'Buffets',\n",
       " 28: 'Wok',\n",
       " 29: 'Shoe Stores',\n",
       " 30: 'Jewelry',\n",
       " 31: 'Car Rental',\n",
       " 32: 'Steakhouses',\n",
       " 33: 'Chicken Shop',\n",
       " 34: 'Burgers',\n",
       " 35: 'Desserts',\n",
       " 36: 'Vegetarian',\n",
       " 37: 'Moroccan',\n",
       " 38: 'Music Venues',\n",
       " 39: 'American (Traditional)',\n",
       " 40: 'Cafes',\n",
       " 41: 'Breakfast & Brunch',\n",
       " 42: 'Chinese',\n",
       " 43: 'Casinos',\n",
       " 44: 'Barbeque'}"
      ]
     },
     "execution_count": 41,
     "metadata": {},
     "output_type": "execute_result"
    }
   ],
   "source": [
    "unique_cat1=dict(enumerate(unique_cat.flatten(), 1))\n",
    "unique_cat1"
   ]
  },
  {
   "cell_type": "code",
   "execution_count": 43,
   "metadata": {},
   "outputs": [
    {
     "data": {
      "text/plain": [
       "{'Restaurants': 1,\n",
       " 'Beauty & Spas': 2,\n",
       " 'Bars': 3,\n",
       " 'Dance Clubs': 4,\n",
       " 'French': 5,\n",
       " 'Hotels': 6,\n",
       " 'Fast Food': 7,\n",
       " 'Seafood': 8,\n",
       " 'Landmarks & Historical Buildings': 9,\n",
       " 'Bistros': 10,\n",
       " 'Brasseries': 11,\n",
       " 'Food Delivery Services': 12,\n",
       " 'Italian': 13,\n",
       " 'Pizza': 14,\n",
       " 'Japanese': 15,\n",
       " 'Pan Asian': 16,\n",
       " 'Bakeries': 17,\n",
       " 'Performing Arts': 18,\n",
       " 'Cultural Center': 19,\n",
       " 'Thai': 20,\n",
       " 'Creperies': 21,\n",
       " 'Pubs': 22,\n",
       " 'Wine Bars': 23,\n",
       " 'Salad': 24,\n",
       " 'Beaches': 25,\n",
       " 'Sandwiches': 26,\n",
       " 'Buffets': 27,\n",
       " 'Wok': 28,\n",
       " 'Shoe Stores': 29,\n",
       " 'Jewelry': 30,\n",
       " 'Car Rental': 31,\n",
       " 'Steakhouses': 32,\n",
       " 'Chicken Shop': 33,\n",
       " 'Burgers': 34,\n",
       " 'Desserts': 35,\n",
       " 'Vegetarian': 36,\n",
       " 'Moroccan': 37,\n",
       " 'Music Venues': 38,\n",
       " 'American (Traditional)': 39,\n",
       " 'Cafes': 40,\n",
       " 'Breakfast & Brunch': 41,\n",
       " 'Chinese': 42,\n",
       " 'Casinos': 43,\n",
       " 'Barbeque': 44}"
      ]
     },
     "execution_count": 43,
     "metadata": {},
     "output_type": "execute_result"
    }
   ],
   "source": [
    "swapped_dict = {value: key for key, value in unique_cat1.items()}\n",
    "swapped_dict"
   ]
  },
  {
   "cell_type": "code",
   "execution_count": 52,
   "metadata": {},
   "outputs": [
    {
     "data": {
      "text/html": [
       "<div>\n",
       "<style scoped>\n",
       "    .dataframe tbody tr th:only-of-type {\n",
       "        vertical-align: middle;\n",
       "    }\n",
       "\n",
       "    .dataframe tbody tr th {\n",
       "        vertical-align: top;\n",
       "    }\n",
       "\n",
       "    .dataframe thead th {\n",
       "        text-align: right;\n",
       "    }\n",
       "</style>\n",
       "<table border=\"1\" class=\"dataframe\">\n",
       "  <thead>\n",
       "    <tr style=\"text-align: right;\">\n",
       "      <th></th>\n",
       "      <th>category_title</th>\n",
       "      <th>rating</th>\n",
       "      <th>review_count</th>\n",
       "      <th>no_of_bikes</th>\n",
       "      <th>category_code</th>\n",
       "    </tr>\n",
       "  </thead>\n",
       "  <tbody>\n",
       "    <tr>\n",
       "      <th>0</th>\n",
       "      <td>Restaurants</td>\n",
       "      <td>5.0</td>\n",
       "      <td>1.0</td>\n",
       "      <td>0</td>\n",
       "      <td>1</td>\n",
       "    </tr>\n",
       "    <tr>\n",
       "      <th>1</th>\n",
       "      <td>Beauty &amp; Spas</td>\n",
       "      <td>5.0</td>\n",
       "      <td>1.0</td>\n",
       "      <td>0</td>\n",
       "      <td>2</td>\n",
       "    </tr>\n",
       "    <tr>\n",
       "      <th>2</th>\n",
       "      <td>Bars</td>\n",
       "      <td>4.0</td>\n",
       "      <td>2.0</td>\n",
       "      <td>0</td>\n",
       "      <td>3</td>\n",
       "    </tr>\n",
       "    <tr>\n",
       "      <th>3</th>\n",
       "      <td>Dance Clubs</td>\n",
       "      <td>4.0</td>\n",
       "      <td>2.0</td>\n",
       "      <td>0</td>\n",
       "      <td>4</td>\n",
       "    </tr>\n",
       "    <tr>\n",
       "      <th>4</th>\n",
       "      <td>French</td>\n",
       "      <td>2.0</td>\n",
       "      <td>1.0</td>\n",
       "      <td>0</td>\n",
       "      <td>5</td>\n",
       "    </tr>\n",
       "    <tr>\n",
       "      <th>5</th>\n",
       "      <td>Hotels</td>\n",
       "      <td>2.0</td>\n",
       "      <td>1.0</td>\n",
       "      <td>0</td>\n",
       "      <td>6</td>\n",
       "    </tr>\n",
       "    <tr>\n",
       "      <th>6</th>\n",
       "      <td>Fast Food</td>\n",
       "      <td>3.5</td>\n",
       "      <td>5.0</td>\n",
       "      <td>0</td>\n",
       "      <td>7</td>\n",
       "    </tr>\n",
       "    <tr>\n",
       "      <th>7</th>\n",
       "      <td>French</td>\n",
       "      <td>5.0</td>\n",
       "      <td>2.0</td>\n",
       "      <td>0</td>\n",
       "      <td>5</td>\n",
       "    </tr>\n",
       "    <tr>\n",
       "      <th>8</th>\n",
       "      <td>Seafood</td>\n",
       "      <td>5.0</td>\n",
       "      <td>2.0</td>\n",
       "      <td>0</td>\n",
       "      <td>8</td>\n",
       "    </tr>\n",
       "    <tr>\n",
       "      <th>9</th>\n",
       "      <td>Landmarks &amp; Historical Buildings</td>\n",
       "      <td>4.5</td>\n",
       "      <td>3.0</td>\n",
       "      <td>0</td>\n",
       "      <td>9</td>\n",
       "    </tr>\n",
       "  </tbody>\n",
       "</table>\n",
       "</div>"
      ],
      "text/plain": [
       "                     category_title  rating  review_count  no_of_bikes  \\\n",
       "0                       Restaurants     5.0           1.0            0   \n",
       "1                     Beauty & Spas     5.0           1.0            0   \n",
       "2                              Bars     4.0           2.0            0   \n",
       "3                       Dance Clubs     4.0           2.0            0   \n",
       "4                            French     2.0           1.0            0   \n",
       "5                            Hotels     2.0           1.0            0   \n",
       "6                         Fast Food     3.5           5.0            0   \n",
       "7                            French     5.0           2.0            0   \n",
       "8                           Seafood     5.0           2.0            0   \n",
       "9  Landmarks & Historical Buildings     4.5           3.0            0   \n",
       "\n",
       "   category_code  \n",
       "0              1  \n",
       "1              2  \n",
       "2              3  \n",
       "3              4  \n",
       "4              5  \n",
       "5              6  \n",
       "6              7  \n",
       "7              5  \n",
       "8              8  \n",
       "9              9  "
      ]
     },
     "execution_count": 52,
     "metadata": {},
     "output_type": "execute_result"
    }
   ],
   "source": [
    "data_slice1['category_code'] = data_slice1['category_title'].map(swapped_dict)\n",
    "data_slice1 = data_slice1.reindex()\n",
    "data_slice1.head(10)"
   ]
  },
  {
   "cell_type": "code",
   "execution_count": 53,
   "metadata": {},
   "outputs": [
    {
     "data": {
      "text/plain": [
       "<seaborn.axisgrid.PairGrid at 0x23b6dce6340>"
      ]
     },
     "execution_count": 53,
     "metadata": {},
     "output_type": "execute_result"
    },
    {
     "data": {
      "image/png": "[encoded data removed]",
      "text/plain": [
       "<Figure size 1000x1000 with 20 Axes>"
      ]
     },
     "metadata": {},
     "output_type": "display_data"
    }
   ],
   "source": [
    "sns.pairplot(data_slice1[['category_code','rating','review_count','no_of_bikes']])\n"
   ]
  },
  {
   "cell_type": "markdown",
   "metadata": {},
   "source": [
    "***Note:*** Lets start classification Model\n",
    "- Take category_code as dependent and rating,review_count,no_of_bikes as independent"
   ]
  },
  {
   "cell_type": "code",
   "execution_count": null,
   "metadata": {},
   "outputs": [],
   "source": []
  },
  {
   "cell_type": "code",
   "execution_count": 77,
   "metadata": {},
   "outputs": [],
   "source": [
    "y = data_slice1['category_code']\n",
    "X = data_slice1[['rating','review_count']]\n",
    "#Split the data into training and testing set\n",
    "X_train,X_test,y_train,y_test=train_test_split(X,y,test_size=0.2,\n",
    "                                               random_state=42, shuffle=True) "
   ]
  },
  {
   "cell_type": "code",
   "execution_count": 78,
   "metadata": {},
   "outputs": [
    {
     "name": "stdout",
     "output_type": "stream",
     "text": [
      "X_train shape: (120, 2)\n",
      "X_test shape: (31, 2)\n",
      "y_train shape: (120, 1)\n",
      "y_test shape: (31, 1)\n"
     ]
    }
   ],
   "source": [
    "#Data was splitted as 80% train data and 20% test data.\n",
    " \n",
    "y_train = y_train.values.reshape(-1,1)\n",
    "y_test = y_test.values.reshape(-1,1)\n",
    " \n",
    "print(\"X_train shape:\",X_train.shape)\n",
    "print(\"X_test shape:\",X_test.shape)\n",
    "print(\"y_train shape:\",y_train.shape)\n",
    "print(\"y_test shape:\",y_test.shape)"
   ]
  },
  {
   "cell_type": "code",
   "execution_count": 100,
   "metadata": {},
   "outputs": [],
   "source": [
    "#Feature Scaling\n",
    "sc = StandardScaler()\n",
    "X_train = sc.fit_transform(X_train)\n",
    "X_test = sc.fit_transform(X_test)"
   ]
  },
  {
   "cell_type": "code",
   "execution_count": 101,
   "metadata": {},
   "outputs": [
    {
     "name": "stdout",
     "output_type": "stream",
     "text": [
      "Train Score: 0.13333333333333333\n",
      "Test Score: 0.22580645161290322\n"
     ]
    },
    {
     "name": "stderr",
     "output_type": "stream",
     "text": [
      "B:\\monika\\datascience\\lib\\site-packages\\sklearn\\model_selection\\_split.py:676: UserWarning: The least populated class in y has only 1 members, which is less than n_splits=5.\n",
      "  warnings.warn(\n",
      "B:\\monika\\datascience\\lib\\site-packages\\sklearn\\utils\\validation.py:993: DataConversionWarning: A column-vector y was passed when a 1d array was expected. Please change the shape of y to (n_samples, ), for example using ravel().\n",
      "  y = column_or_1d(y, warn=True)\n",
      "B:\\monika\\datascience\\lib\\site-packages\\sklearn\\utils\\validation.py:993: DataConversionWarning: A column-vector y was passed when a 1d array was expected. Please change the shape of y to (n_samples, ), for example using ravel().\n",
      "  y = column_or_1d(y, warn=True)\n",
      "B:\\monika\\datascience\\lib\\site-packages\\sklearn\\utils\\validation.py:993: DataConversionWarning: A column-vector y was passed when a 1d array was expected. Please change the shape of y to (n_samples, ), for example using ravel().\n",
      "  y = column_or_1d(y, warn=True)\n",
      "B:\\monika\\datascience\\lib\\site-packages\\sklearn\\utils\\validation.py:993: DataConversionWarning: A column-vector y was passed when a 1d array was expected. Please change the shape of y to (n_samples, ), for example using ravel().\n",
      "  y = column_or_1d(y, warn=True)\n",
      "B:\\monika\\datascience\\lib\\site-packages\\sklearn\\utils\\validation.py:993: DataConversionWarning: A column-vector y was passed when a 1d array was expected. Please change the shape of y to (n_samples, ), for example using ravel().\n",
      "  y = column_or_1d(y, warn=True)\n",
      "B:\\monika\\datascience\\lib\\site-packages\\sklearn\\utils\\validation.py:993: DataConversionWarning: A column-vector y was passed when a 1d array was expected. Please change the shape of y to (n_samples, ), for example using ravel().\n",
      "  y = column_or_1d(y, warn=True)\n"
     ]
    }
   ],
   "source": [
    "reg = LogisticRegression(random_state = 42)\n",
    "accuracies = cross_val_score(reg, X_train, y_train, cv=5)\n",
    "reg.fit(X_train,y_train)\n",
    "y_pred = reg.predict(X_test)\n",
    " \n",
    "#Obtain accuracy\n",
    "print(\"Train Score:\",np.mean(accuracies))\n",
    "print(\"Test Score:\",reg.score(X_test,y_test))"
   ]
  },
  {
   "cell_type": "markdown",
   "metadata": {},
   "source": [
    "\n",
    "***Note:*** The accuracy score gives the accuracy of the model prediction which comes out to be very low i.e 22% in this case.So this model lacks some more significance.\n",
    "- One reason could be the sample size is small that means it lacks the sufficient amount of data to make model and predictions."
   ]
  },
  {
   "cell_type": "code",
   "execution_count": null,
   "metadata": {},
   "outputs": [],
   "source": []
  }
 ],
 "metadata": {
  "kernelspec": {
   "display_name": "Python 3 (ipykernel)",
   "language": "python",
   "name": "python3"
  },
  "language_info": {
   "codemirror_mode": {
    "name": "ipython",
    "version": 3
   },
   "file_extension": ".py",
   "mimetype": "text/x-python",
   "name": "python",
   "nbconvert_exporter": "python",
   "pygments_lexer": "ipython3",
   "version": "3.9.13"
  }
 },
 "nbformat": 4,
 "nbformat_minor": 4
}
