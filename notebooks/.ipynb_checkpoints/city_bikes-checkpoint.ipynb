{
 "cells": [
  {
   "cell_type": "markdown",
   "metadata": {},
   "source": [
    "# CityBikes"
   ]
  },
  {
   "cell_type": "markdown",
   "metadata": {},
   "source": [
    "***Data Source:  [CityBikes](https://citybik.es/) API***"
   ]
  },
  {
   "cell_type": "code",
   "execution_count": 1,
   "metadata": {},
   "outputs": [],
   "source": [
    "#libraries\n",
    "import pandas as pd\n",
    "import requests \n",
    "import numpy as np\n"
   ]
  },
  {
   "cell_type": "markdown",
   "metadata": {},
   "source": [
    "***Importing and Exploring the data***"
   ]
  },
  {
   "cell_type": "code",
   "execution_count": 43,
   "metadata": {},
   "outputs": [],
   "source": [
    "url=\"http://api.citybik.es/v2/networks\"\n",
    "headers = {\"accept\": \"application/json\"}\n",
    "response=requests.get(url,headers=headers)\n",
    "if response.status_code!=200:\n",
    "    print(\"Request Failed\")"
   ]
  },
  {
   "cell_type": "code",
   "execution_count": null,
   "metadata": {},
   "outputs": [],
   "source": [
    "data=response.json()\n",
    "networks=pd.json_normalize(data['networks'])"
   ]
  },
  {
   "cell_type": "code",
   "execution_count": 8,
   "metadata": {},
   "outputs": [
    {
     "data": {
      "text/html": [
       "<div>\n",
       "<style scoped>\n",
       "    .dataframe tbody tr th:only-of-type {\n",
       "        vertical-align: middle;\n",
       "    }\n",
       "\n",
       "    .dataframe tbody tr th {\n",
       "        vertical-align: top;\n",
       "    }\n",
       "\n",
       "    .dataframe thead th {\n",
       "        text-align: right;\n",
       "    }\n",
       "</style>\n",
       "<table border=\"1\" class=\"dataframe\">\n",
       "  <thead>\n",
       "    <tr style=\"text-align: right;\">\n",
       "      <th></th>\n",
       "      <th>company</th>\n",
       "      <th>href</th>\n",
       "      <th>id</th>\n",
       "      <th>name</th>\n",
       "      <th>location.city</th>\n",
       "      <th>location.country</th>\n",
       "      <th>location.latitude</th>\n",
       "      <th>location.longitude</th>\n",
       "      <th>source</th>\n",
       "      <th>gbfs_href</th>\n",
       "      <th>license.name</th>\n",
       "      <th>license.url</th>\n",
       "      <th>ebikes</th>\n",
       "    </tr>\n",
       "  </thead>\n",
       "  <tbody>\n",
       "    <tr>\n",
       "      <th>0</th>\n",
       "      <td>[ЗАО «СитиБайк»]</td>\n",
       "      <td>/v2/networks/velobike-moscow</td>\n",
       "      <td>velobike-moscow</td>\n",
       "      <td>Velobike</td>\n",
       "      <td>Moscow</td>\n",
       "      <td>RU</td>\n",
       "      <td>55.750000</td>\n",
       "      <td>37.616667</td>\n",
       "      <td>NaN</td>\n",
       "      <td>NaN</td>\n",
       "      <td>NaN</td>\n",
       "      <td>NaN</td>\n",
       "      <td>NaN</td>\n",
       "    </tr>\n",
       "    <tr>\n",
       "      <th>1</th>\n",
       "      <td>[Urban Infrastructure Partner]</td>\n",
       "      <td>/v2/networks/baerum-bysykkel</td>\n",
       "      <td>baerum-bysykkel</td>\n",
       "      <td>Bysykkel</td>\n",
       "      <td>Bærum</td>\n",
       "      <td>NO</td>\n",
       "      <td>59.894550</td>\n",
       "      <td>10.546343</td>\n",
       "      <td>NaN</td>\n",
       "      <td>NaN</td>\n",
       "      <td>NaN</td>\n",
       "      <td>NaN</td>\n",
       "      <td>NaN</td>\n",
       "    </tr>\n",
       "    <tr>\n",
       "      <th>2</th>\n",
       "      <td>[Comunicare S.r.l.]</td>\n",
       "      <td>/v2/networks/bicincitta-siena</td>\n",
       "      <td>bicincitta-siena</td>\n",
       "      <td>Bicincittà</td>\n",
       "      <td>Siena</td>\n",
       "      <td>IT</td>\n",
       "      <td>43.318600</td>\n",
       "      <td>11.330600</td>\n",
       "      <td>https://www.bicincitta.com/frmLeStazioni.aspx?...</td>\n",
       "      <td>NaN</td>\n",
       "      <td>NaN</td>\n",
       "      <td>NaN</td>\n",
       "      <td>NaN</td>\n",
       "    </tr>\n",
       "    <tr>\n",
       "      <th>3</th>\n",
       "      <td>[Cyclopolis Systems]</td>\n",
       "      <td>/v2/networks/cyclopolis-maroussi</td>\n",
       "      <td>cyclopolis-maroussi</td>\n",
       "      <td>Cyclopolis</td>\n",
       "      <td>Maroussi</td>\n",
       "      <td>GR</td>\n",
       "      <td>38.056872</td>\n",
       "      <td>23.808330</td>\n",
       "      <td>NaN</td>\n",
       "      <td>NaN</td>\n",
       "      <td>NaN</td>\n",
       "      <td>NaN</td>\n",
       "      <td>NaN</td>\n",
       "    </tr>\n",
       "    <tr>\n",
       "      <th>4</th>\n",
       "      <td>[Cyclopolis Systems]</td>\n",
       "      <td>/v2/networks/cyclopolis-nafplio</td>\n",
       "      <td>cyclopolis-nafplio</td>\n",
       "      <td>Cyclopolis</td>\n",
       "      <td>Nafplio</td>\n",
       "      <td>GR</td>\n",
       "      <td>37.563940</td>\n",
       "      <td>22.809340</td>\n",
       "      <td>NaN</td>\n",
       "      <td>NaN</td>\n",
       "      <td>NaN</td>\n",
       "      <td>NaN</td>\n",
       "      <td>NaN</td>\n",
       "    </tr>\n",
       "  </tbody>\n",
       "</table>\n",
       "</div>"
      ],
      "text/plain": [
       "                          company                              href  \\\n",
       "0                [ЗАО «СитиБайк»]      /v2/networks/velobike-moscow   \n",
       "1  [Urban Infrastructure Partner]      /v2/networks/baerum-bysykkel   \n",
       "2             [Comunicare S.r.l.]     /v2/networks/bicincitta-siena   \n",
       "3            [Cyclopolis Systems]  /v2/networks/cyclopolis-maroussi   \n",
       "4            [Cyclopolis Systems]   /v2/networks/cyclopolis-nafplio   \n",
       "\n",
       "                    id        name location.city location.country  \\\n",
       "0      velobike-moscow    Velobike        Moscow               RU   \n",
       "1      baerum-bysykkel    Bysykkel         Bærum               NO   \n",
       "2     bicincitta-siena  Bicincittà         Siena               IT   \n",
       "3  cyclopolis-maroussi  Cyclopolis      Maroussi               GR   \n",
       "4   cyclopolis-nafplio  Cyclopolis       Nafplio               GR   \n",
       "\n",
       "   location.latitude  location.longitude  \\\n",
       "0          55.750000           37.616667   \n",
       "1          59.894550           10.546343   \n",
       "2          43.318600           11.330600   \n",
       "3          38.056872           23.808330   \n",
       "4          37.563940           22.809340   \n",
       "\n",
       "                                              source gbfs_href license.name  \\\n",
       "0                                                NaN       NaN          NaN   \n",
       "1                                                NaN       NaN          NaN   \n",
       "2  https://www.bicincitta.com/frmLeStazioni.aspx?...       NaN          NaN   \n",
       "3                                                NaN       NaN          NaN   \n",
       "4                                                NaN       NaN          NaN   \n",
       "\n",
       "  license.url ebikes  \n",
       "0         NaN    NaN  \n",
       "1         NaN    NaN  \n",
       "2         NaN    NaN  \n",
       "3         NaN    NaN  \n",
       "4         NaN    NaN  "
      ]
     },
     "execution_count": 8,
     "metadata": {},
     "output_type": "execute_result"
    }
   ],
   "source": [
    "networks.head()"
   ]
  },
  {
   "cell_type": "code",
   "execution_count": 21,
   "metadata": {},
   "outputs": [],
   "source": [
    "networks.to_csv('../data/raw_networks.csv', index=False)"
   ]
  },
  {
   "cell_type": "code",
   "execution_count": 15,
   "metadata": {},
   "outputs": [
    {
     "data": {
      "text/plain": [
       "(590, 13)"
      ]
     },
     "execution_count": 15,
     "metadata": {},
     "output_type": "execute_result"
    }
   ],
   "source": [
    "networks.shape"
   ]
  },
  {
   "cell_type": "code",
   "execution_count": 14,
   "metadata": {},
   "outputs": [
    {
     "data": {
      "text/plain": [
       "Index(['company', 'href', 'id', 'name', 'location.city', 'location.country',\n",
       "       'location.latitude', 'location.longitude', 'source', 'gbfs_href',\n",
       "       'license.name', 'license.url', 'ebikes'],\n",
       "      dtype='object')"
      ]
     },
     "execution_count": 14,
     "metadata": {},
     "output_type": "execute_result"
    }
   ],
   "source": [
    "networks.columns"
   ]
  },
  {
   "cell_type": "code",
   "execution_count": 9,
   "metadata": {},
   "outputs": [
    {
     "name": "stdout",
     "output_type": "stream",
     "text": [
      "<class 'pandas.core.frame.DataFrame'>\n",
      "RangeIndex: 590 entries, 0 to 589\n",
      "Data columns (total 13 columns):\n",
      " #   Column              Non-Null Count  Dtype  \n",
      "---  ------              --------------  -----  \n",
      " 0   company             579 non-null    object \n",
      " 1   href                590 non-null    object \n",
      " 2   id                  590 non-null    object \n",
      " 3   name                590 non-null    object \n",
      " 4   location.city       590 non-null    object \n",
      " 5   location.country    590 non-null    object \n",
      " 6   location.latitude   590 non-null    float64\n",
      " 7   location.longitude  590 non-null    float64\n",
      " 8   source              158 non-null    object \n",
      " 9   gbfs_href           89 non-null     object \n",
      " 10  license.name        25 non-null     object \n",
      " 11  license.url         25 non-null     object \n",
      " 12  ebikes              25 non-null     object \n",
      "dtypes: float64(2), object(11)\n",
      "memory usage: 60.0+ KB\n"
     ]
    }
   ],
   "source": [
    "networks.info()"
   ]
  },
  {
   "cell_type": "code",
   "execution_count": 13,
   "metadata": {},
   "outputs": [
    {
     "data": {
      "text/plain": [
       "company                11\n",
       "href                    0\n",
       "id                      0\n",
       "name                    0\n",
       "location.city           0\n",
       "location.country        0\n",
       "location.latitude       0\n",
       "location.longitude      0\n",
       "source                432\n",
       "gbfs_href             501\n",
       "license.name          565\n",
       "license.url           565\n",
       "ebikes                565\n",
       "dtype: int64"
      ]
     },
     "execution_count": 13,
     "metadata": {},
     "output_type": "execute_result"
    }
   ],
   "source": [
    "networks.isnull().sum()"
   ]
  },
  {
   "cell_type": "code",
   "execution_count": 23,
   "metadata": {},
   "outputs": [],
   "source": [
    "networks_df=networks.copy()"
   ]
  },
  {
   "cell_type": "code",
   "execution_count": 25,
   "metadata": {},
   "outputs": [
    {
     "data": {
      "text/plain": [
       "True    25\n",
       "Name: ebikes, dtype: int64"
      ]
     },
     "execution_count": 25,
     "metadata": {},
     "output_type": "execute_result"
    }
   ],
   "source": [
    "networks_df['ebikes'].value_counts()"
   ]
  },
  {
   "cell_type": "markdown",
   "metadata": {},
   "source": [
    "***Note:*** Here we assume missing values as 'False' for 'ebikes' column"
   ]
  },
  {
   "cell_type": "code",
   "execution_count": 27,
   "metadata": {},
   "outputs": [],
   "source": [
    "networks_df['ebikes'] = networks_df['ebikes'].fillna(False)"
   ]
  },
  {
   "cell_type": "code",
   "execution_count": null,
   "metadata": {},
   "outputs": [],
   "source": []
  },
  {
   "cell_type": "code",
   "execution_count": 30,
   "metadata": {},
   "outputs": [
    {
     "data": {
      "text/plain": [
       "https://developer.jcdecaux.com/#/opendata/licence             22\n",
       "https://www.govdata.de/dl-de/by-2-0                            1\n",
       "etalab.gouv.fr/wp-content/uploads/2018/11/open-licence.pdf     1\n",
       "https://opendatacommons.org/licenses/odbl/                     1\n",
       "Name: license.url, dtype: int64"
      ]
     },
     "execution_count": 30,
     "metadata": {},
     "output_type": "execute_result"
    }
   ],
   "source": [
    "networks_df['license.url'].value_counts()"
   ]
  },
  {
   "cell_type": "code",
   "execution_count": 31,
   "metadata": {},
   "outputs": [
    {
     "data": {
      "text/plain": [
       "Open Licence                                          22\n",
       "Data licence Germany – attribution – version 2.0       1\n",
       "OPEN LICENCE 2.0                                       1\n",
       "Open Data Commons Open Database License 1.0 (ODbL)     1\n",
       "Name: license.name, dtype: int64"
      ]
     },
     "execution_count": 31,
     "metadata": {},
     "output_type": "execute_result"
    }
   ],
   "source": [
    "networks_df['license.name'].value_counts()"
   ]
  },
  {
   "cell_type": "code",
   "execution_count": 32,
   "metadata": {},
   "outputs": [
    {
     "data": {
      "text/plain": [
       "                                                                  2\n",
       "https://asp.publicbikesystem.net/ube/gbfs/v1/gbfs.json            1\n",
       "https://gbfs.baywheels.com/gbfs/gbfs.json                         1\n",
       "https://api.gbfs.v1.ecovelo.mobi/gbfs/marseillan                  1\n",
       "https://api.gbfs.v1.ecovelo.mobi/gbfs/tanlib                      1\n",
       "                                                                 ..\n",
       "https://gbfs.bcycle.com/bcycle_indego/gbfs.json                   1\n",
       "https://gbfs.bluebikes.com/gbfs/gbfs.json                         1\n",
       "https://gbfs.bcycle.com/bcycle_houston/gbfs.json                  1\n",
       "https://gbfs.bcycle.com/bcycle_heartland/gbfs.json                1\n",
       "https://tucson.publicbikesystem.net/customer/gbfs/v2/gbfs.json    1\n",
       "Name: gbfs_href, Length: 88, dtype: int64"
      ]
     },
     "execution_count": 32,
     "metadata": {},
     "output_type": "execute_result"
    }
   ],
   "source": [
    "networks_df['gbfs_href'].value_counts()"
   ]
  },
  {
   "cell_type": "code",
   "execution_count": 33,
   "metadata": {},
   "outputs": [
    {
     "data": {
      "text/plain": [
       "https://developer.jcdecaux.com                          22\n",
       "https://api.publibike.ch/v1/static/api.html              8\n",
       "https://www.bicincitta.com/frmLeStazioni.aspx?ID=202     1\n",
       "https://www.bicincitta.com/frmLeStazioni.aspx?ID=229     1\n",
       "https://www.bicincitta.com/frmLeStazioni.aspx?ID=106     1\n",
       "                                                        ..\n",
       "https://www.bicincitta.com/frmLeStazioni.aspx?ID=138     1\n",
       "https://www.bicincitta.com/frmLeStazioni.aspx?ID=126     1\n",
       "https://www.bicincitta.com/frmLeStazioni.aspx?ID=141     1\n",
       "https://www.bicincitta.com/frmLeStazioni.aspx?ID=134     1\n",
       "https://www.bicincitta.com/frmLeStazioni.aspx?ID=275     1\n",
       "Name: source, Length: 130, dtype: int64"
      ]
     },
     "execution_count": 33,
     "metadata": {},
     "output_type": "execute_result"
    }
   ],
   "source": [
    "networks_df['source'].value_counts()"
   ]
  },
  {
   "cell_type": "code",
   "execution_count": 34,
   "metadata": {},
   "outputs": [
    {
     "data": {
      "text/plain": [
       "[Nextbike GmbH]                                          221\n",
       "[Comunicare S.r.l.]                                      123\n",
       "[JCDecaux]                                                22\n",
       "[Cyclopolis Systems]                                      16\n",
       "[BCycle, LLC]                                             16\n",
       "                                                        ... \n",
       "[Keolis]                                                   1\n",
       "[Keolis Bordeaux Métropole]                                1\n",
       "[Keolis, Rennes Metropole]                                 1\n",
       "[BKT bici publica S.A. de C.V., PBSC Urban Solutions]      1\n",
       "[PBSC Urban Solutions, Shift Transit]                      1\n",
       "Name: company, Length: 90, dtype: int64"
      ]
     },
     "execution_count": 34,
     "metadata": {},
     "output_type": "execute_result"
    }
   ],
   "source": [
    "networks_df['company'].value_counts()"
   ]
  },
  {
   "cell_type": "code",
   "execution_count": 39,
   "metadata": {},
   "outputs": [
    {
     "data": {
      "text/html": [
       "<div>\n",
       "<style scoped>\n",
       "    .dataframe tbody tr th:only-of-type {\n",
       "        vertical-align: middle;\n",
       "    }\n",
       "\n",
       "    .dataframe tbody tr th {\n",
       "        vertical-align: top;\n",
       "    }\n",
       "\n",
       "    .dataframe thead th {\n",
       "        text-align: right;\n",
       "    }\n",
       "</style>\n",
       "<table border=\"1\" class=\"dataframe\">\n",
       "  <thead>\n",
       "    <tr style=\"text-align: right;\">\n",
       "      <th></th>\n",
       "      <th>company</th>\n",
       "      <th>href</th>\n",
       "      <th>id</th>\n",
       "      <th>name</th>\n",
       "      <th>location.city</th>\n",
       "      <th>location.country</th>\n",
       "      <th>location.latitude</th>\n",
       "      <th>location.longitude</th>\n",
       "      <th>source</th>\n",
       "      <th>gbfs_href</th>\n",
       "      <th>license.name</th>\n",
       "      <th>license.url</th>\n",
       "      <th>ebikes</th>\n",
       "    </tr>\n",
       "  </thead>\n",
       "  <tbody>\n",
       "    <tr>\n",
       "      <th>34</th>\n",
       "      <td>None</td>\n",
       "      <td>/v2/networks/velib</td>\n",
       "      <td>velib</td>\n",
       "      <td>Vélib' Métropole</td>\n",
       "      <td>Paris</td>\n",
       "      <td>FR</td>\n",
       "      <td>48.856614</td>\n",
       "      <td>2.352222</td>\n",
       "      <td>NaN</td>\n",
       "      <td>https://velib-metropole-opendata.smoove.pro/op...</td>\n",
       "      <td>OPEN LICENCE 2.0</td>\n",
       "      <td>etalab.gouv.fr/wp-content/uploads/2018/11/open...</td>\n",
       "      <td>True</td>\n",
       "    </tr>\n",
       "    <tr>\n",
       "      <th>43</th>\n",
       "      <td>None</td>\n",
       "      <td>/v2/networks/ecobici</td>\n",
       "      <td>ecobici</td>\n",
       "      <td>EcoBici</td>\n",
       "      <td>Cd de México</td>\n",
       "      <td>MX</td>\n",
       "      <td>19.432608</td>\n",
       "      <td>-99.133208</td>\n",
       "      <td>NaN</td>\n",
       "      <td>https://gbfs.mex.lyftbikes.com/gbfs/gbfs.json</td>\n",
       "      <td>NaN</td>\n",
       "      <td>NaN</td>\n",
       "      <td>False</td>\n",
       "    </tr>\n",
       "    <tr>\n",
       "      <th>72</th>\n",
       "      <td>None</td>\n",
       "      <td>/v2/networks/bicicorunha</td>\n",
       "      <td>bicicorunha</td>\n",
       "      <td>Bicicoruña</td>\n",
       "      <td>A Coruña</td>\n",
       "      <td>ES</td>\n",
       "      <td>43.362300</td>\n",
       "      <td>-8.411500</td>\n",
       "      <td>NaN</td>\n",
       "      <td>https://acoruna.publicbikesystem.net/customer/...</td>\n",
       "      <td>NaN</td>\n",
       "      <td>NaN</td>\n",
       "      <td>False</td>\n",
       "    </tr>\n",
       "    <tr>\n",
       "      <th>131</th>\n",
       "      <td>None</td>\n",
       "      <td>/v2/networks/oslo-bysykkel</td>\n",
       "      <td>oslo-bysykkel</td>\n",
       "      <td>Bysykkel</td>\n",
       "      <td>Oslo</td>\n",
       "      <td>NO</td>\n",
       "      <td>59.913869</td>\n",
       "      <td>10.752245</td>\n",
       "      <td>NaN</td>\n",
       "      <td>https://gbfs.urbansharing.com/oslobysykkel.no/...</td>\n",
       "      <td>NaN</td>\n",
       "      <td>NaN</td>\n",
       "      <td>False</td>\n",
       "    </tr>\n",
       "    <tr>\n",
       "      <th>132</th>\n",
       "      <td>None</td>\n",
       "      <td>/v2/networks/bergen-bysykkel</td>\n",
       "      <td>bergen-bysykkel</td>\n",
       "      <td>Bysykkel</td>\n",
       "      <td>Bergen</td>\n",
       "      <td>NO</td>\n",
       "      <td>60.391263</td>\n",
       "      <td>5.322054</td>\n",
       "      <td>NaN</td>\n",
       "      <td>https://gbfs.urbansharing.com/bergenbysykkel.n...</td>\n",
       "      <td>NaN</td>\n",
       "      <td>NaN</td>\n",
       "      <td>False</td>\n",
       "    </tr>\n",
       "    <tr>\n",
       "      <th>133</th>\n",
       "      <td>None</td>\n",
       "      <td>/v2/networks/trondheim-bysykkel</td>\n",
       "      <td>trondheim-bysykkel</td>\n",
       "      <td>Bysykkel</td>\n",
       "      <td>Trondheim</td>\n",
       "      <td>NO</td>\n",
       "      <td>63.430724</td>\n",
       "      <td>10.393678</td>\n",
       "      <td>NaN</td>\n",
       "      <td>https://gbfs.urbansharing.com/trondheimbysykke...</td>\n",
       "      <td>NaN</td>\n",
       "      <td>NaN</td>\n",
       "      <td>False</td>\n",
       "    </tr>\n",
       "    <tr>\n",
       "      <th>430</th>\n",
       "      <td>None</td>\n",
       "      <td>/v2/networks/bikeverona</td>\n",
       "      <td>bikeverona</td>\n",
       "      <td>Verona Bike</td>\n",
       "      <td>Verona</td>\n",
       "      <td>IT</td>\n",
       "      <td>45.438611</td>\n",
       "      <td>10.992778</td>\n",
       "      <td>NaN</td>\n",
       "      <td>https://gbfs.urbansharing.com/bikeverona.it/gb...</td>\n",
       "      <td>NaN</td>\n",
       "      <td>NaN</td>\n",
       "      <td>False</td>\n",
       "    </tr>\n",
       "    <tr>\n",
       "      <th>437</th>\n",
       "      <td>None</td>\n",
       "      <td>/v2/networks/optymo</td>\n",
       "      <td>optymo</td>\n",
       "      <td>Optymo</td>\n",
       "      <td>Belfort</td>\n",
       "      <td>FR</td>\n",
       "      <td>47.641111</td>\n",
       "      <td>6.849444</td>\n",
       "      <td>NaN</td>\n",
       "      <td>https://belfort-gbfs.klervi.net/gbfs/gbfs.json</td>\n",
       "      <td>NaN</td>\n",
       "      <td>NaN</td>\n",
       "      <td>False</td>\n",
       "    </tr>\n",
       "    <tr>\n",
       "      <th>522</th>\n",
       "      <td>None</td>\n",
       "      <td>/v2/networks/velocity-aachen</td>\n",
       "      <td>velocity-aachen</td>\n",
       "      <td>Velocity</td>\n",
       "      <td>Aachen</td>\n",
       "      <td>DE</td>\n",
       "      <td>50.776667</td>\n",
       "      <td>6.083611</td>\n",
       "      <td>NaN</td>\n",
       "      <td>https://nitro.openvelo.org/aachen/velocity/v2/...</td>\n",
       "      <td>NaN</td>\n",
       "      <td>NaN</td>\n",
       "      <td>False</td>\n",
       "    </tr>\n",
       "    <tr>\n",
       "      <th>523</th>\n",
       "      <td>None</td>\n",
       "      <td>/v2/networks/avelo-quebec</td>\n",
       "      <td>avelo-quebec</td>\n",
       "      <td>àVélo</td>\n",
       "      <td>Québec</td>\n",
       "      <td>CA</td>\n",
       "      <td>46.813050</td>\n",
       "      <td>-71.216800</td>\n",
       "      <td>NaN</td>\n",
       "      <td>https://quebec.publicbikesystem.net/customer/g...</td>\n",
       "      <td>NaN</td>\n",
       "      <td>NaN</td>\n",
       "      <td>False</td>\n",
       "    </tr>\n",
       "    <tr>\n",
       "      <th>524</th>\n",
       "      <td>None</td>\n",
       "      <td>/v2/networks/acces-velo-saguenay</td>\n",
       "      <td>acces-velo-saguenay</td>\n",
       "      <td>Accès Vélo</td>\n",
       "      <td>Saguenay</td>\n",
       "      <td>CA</td>\n",
       "      <td>48.433333</td>\n",
       "      <td>-71.083333</td>\n",
       "      <td>NaN</td>\n",
       "      <td>https://saguenay.publicbikesystem.net/customer...</td>\n",
       "      <td>NaN</td>\n",
       "      <td>NaN</td>\n",
       "      <td>False</td>\n",
       "    </tr>\n",
       "  </tbody>\n",
       "</table>\n",
       "</div>"
      ],
      "text/plain": [
       "    company                              href                   id  \\\n",
       "34     None                /v2/networks/velib                velib   \n",
       "43     None              /v2/networks/ecobici              ecobici   \n",
       "72     None          /v2/networks/bicicorunha          bicicorunha   \n",
       "131    None        /v2/networks/oslo-bysykkel        oslo-bysykkel   \n",
       "132    None      /v2/networks/bergen-bysykkel      bergen-bysykkel   \n",
       "133    None   /v2/networks/trondheim-bysykkel   trondheim-bysykkel   \n",
       "430    None           /v2/networks/bikeverona           bikeverona   \n",
       "437    None               /v2/networks/optymo               optymo   \n",
       "522    None      /v2/networks/velocity-aachen      velocity-aachen   \n",
       "523    None         /v2/networks/avelo-quebec         avelo-quebec   \n",
       "524    None  /v2/networks/acces-velo-saguenay  acces-velo-saguenay   \n",
       "\n",
       "                 name location.city location.country  location.latitude  \\\n",
       "34   Vélib' Métropole         Paris               FR          48.856614   \n",
       "43            EcoBici  Cd de México               MX          19.432608   \n",
       "72         Bicicoruña      A Coruña               ES          43.362300   \n",
       "131          Bysykkel          Oslo               NO          59.913869   \n",
       "132          Bysykkel        Bergen               NO          60.391263   \n",
       "133          Bysykkel     Trondheim               NO          63.430724   \n",
       "430       Verona Bike        Verona               IT          45.438611   \n",
       "437            Optymo       Belfort               FR          47.641111   \n",
       "522          Velocity        Aachen               DE          50.776667   \n",
       "523             àVélo        Québec               CA          46.813050   \n",
       "524        Accès Vélo      Saguenay               CA          48.433333   \n",
       "\n",
       "     location.longitude source  \\\n",
       "34             2.352222    NaN   \n",
       "43           -99.133208    NaN   \n",
       "72            -8.411500    NaN   \n",
       "131           10.752245    NaN   \n",
       "132            5.322054    NaN   \n",
       "133           10.393678    NaN   \n",
       "430           10.992778    NaN   \n",
       "437            6.849444    NaN   \n",
       "522            6.083611    NaN   \n",
       "523          -71.216800    NaN   \n",
       "524          -71.083333    NaN   \n",
       "\n",
       "                                             gbfs_href      license.name  \\\n",
       "34   https://velib-metropole-opendata.smoove.pro/op...  OPEN LICENCE 2.0   \n",
       "43       https://gbfs.mex.lyftbikes.com/gbfs/gbfs.json               NaN   \n",
       "72   https://acoruna.publicbikesystem.net/customer/...               NaN   \n",
       "131  https://gbfs.urbansharing.com/oslobysykkel.no/...               NaN   \n",
       "132  https://gbfs.urbansharing.com/bergenbysykkel.n...               NaN   \n",
       "133  https://gbfs.urbansharing.com/trondheimbysykke...               NaN   \n",
       "430  https://gbfs.urbansharing.com/bikeverona.it/gb...               NaN   \n",
       "437     https://belfort-gbfs.klervi.net/gbfs/gbfs.json               NaN   \n",
       "522  https://nitro.openvelo.org/aachen/velocity/v2/...               NaN   \n",
       "523  https://quebec.publicbikesystem.net/customer/g...               NaN   \n",
       "524  https://saguenay.publicbikesystem.net/customer...               NaN   \n",
       "\n",
       "                                           license.url  ebikes  \n",
       "34   etalab.gouv.fr/wp-content/uploads/2018/11/open...    True  \n",
       "43                                                 NaN   False  \n",
       "72                                                 NaN   False  \n",
       "131                                                NaN   False  \n",
       "132                                                NaN   False  \n",
       "133                                                NaN   False  \n",
       "430                                                NaN   False  \n",
       "437                                                NaN   False  \n",
       "522                                                NaN   False  \n",
       "523                                                NaN   False  \n",
       "524                                                NaN   False  "
      ]
     },
     "execution_count": 39,
     "metadata": {},
     "output_type": "execute_result"
    }
   ],
   "source": [
    "networks_df[networks_df['company'].isnull()]"
   ]
  },
  {
   "cell_type": "code",
   "execution_count": 47,
   "metadata": {},
   "outputs": [
    {
     "data": {
      "text/plain": [
       "False    590\n",
       "dtype: int64"
      ]
     },
     "execution_count": 47,
     "metadata": {},
     "output_type": "execute_result"
    }
   ],
   "source": [
    "networks_df.duplicated(['href', 'id', 'name', 'location.city', 'location.country','location.latitude', 'location.longitude']).value_counts()"
   ]
  },
  {
   "cell_type": "code",
   "execution_count": 43,
   "metadata": {},
   "outputs": [
    {
     "data": {
      "text/plain": [
       "velobike-moscow       1\n",
       "ascoli-piceno         1\n",
       "cyclopolis-limnos     1\n",
       "bicincitta-mantova    1\n",
       "bicincitta-siena      1\n",
       "                     ..\n",
       "bealler               1\n",
       "albabici              1\n",
       "bicialcazar           1\n",
       "tallinja-bike         1\n",
       "nextbike-prerov       1\n",
       "Name: id, Length: 590, dtype: int64"
      ]
     },
     "execution_count": 43,
     "metadata": {},
     "output_type": "execute_result"
    }
   ],
   "source": [
    "networks_df['id'].value_counts().sort_values(ascending=False)"
   ]
  },
  {
   "cell_type": "markdown",
   "metadata": {},
   "source": [
    "***Note:*** We will drop those columns having more than 70% values are NULL and we could not find the any significant pattern in values to fill in. If in future we need these columns in our analysis we can import these from our 'raw_networks' backup\n"
   ]
  },
  {
   "cell_type": "markdown",
   "metadata": {},
   "source": [
    "***Note:*** We will not drop 'company' column as no of null values are very low"
   ]
  },
  {
   "cell_type": "code",
   "execution_count": 51,
   "metadata": {},
   "outputs": [],
   "source": [
    "networks_df.drop(['source', 'gbfs_href', 'license.name', 'license.url'], axis=1,inplace=True)"
   ]
  },
  {
   "cell_type": "code",
   "execution_count": 52,
   "metadata": {},
   "outputs": [
    {
     "data": {
      "text/plain": [
       "(590, 9)"
      ]
     },
     "execution_count": 52,
     "metadata": {},
     "output_type": "execute_result"
    }
   ],
   "source": [
    "networks_df.shape\n",
    "                     "
   ]
  },
  {
   "cell_type": "markdown",
   "metadata": {},
   "source": [
    "***Note:*** Rename the column to give more decent names"
   ]
  },
  {
   "cell_type": "code",
   "execution_count": 57,
   "metadata": {},
   "outputs": [],
   "source": [
    "networks_df.rename(columns={\"location.city\": \"city\",\"location.country\": \"country\", \"location.latitude\": \"latitude\",\"location.longitude\":\"longitude\"},inplace=True)"
   ]
  },
  {
   "cell_type": "code",
   "execution_count": 59,
   "metadata": {},
   "outputs": [
    {
     "data": {
      "text/html": [
       "<div>\n",
       "<style scoped>\n",
       "    .dataframe tbody tr th:only-of-type {\n",
       "        vertical-align: middle;\n",
       "    }\n",
       "\n",
       "    .dataframe tbody tr th {\n",
       "        vertical-align: top;\n",
       "    }\n",
       "\n",
       "    .dataframe thead th {\n",
       "        text-align: right;\n",
       "    }\n",
       "</style>\n",
       "<table border=\"1\" class=\"dataframe\">\n",
       "  <thead>\n",
       "    <tr style=\"text-align: right;\">\n",
       "      <th></th>\n",
       "      <th>company</th>\n",
       "      <th>href</th>\n",
       "      <th>id</th>\n",
       "      <th>name</th>\n",
       "      <th>city</th>\n",
       "      <th>country</th>\n",
       "      <th>latitude</th>\n",
       "      <th>longitude</th>\n",
       "      <th>ebikes</th>\n",
       "    </tr>\n",
       "  </thead>\n",
       "  <tbody>\n",
       "    <tr>\n",
       "      <th>0</th>\n",
       "      <td>[ЗАО «СитиБайк»]</td>\n",
       "      <td>/v2/networks/velobike-moscow</td>\n",
       "      <td>velobike-moscow</td>\n",
       "      <td>Velobike</td>\n",
       "      <td>Moscow</td>\n",
       "      <td>RU</td>\n",
       "      <td>55.750000</td>\n",
       "      <td>37.616667</td>\n",
       "      <td>False</td>\n",
       "    </tr>\n",
       "    <tr>\n",
       "      <th>1</th>\n",
       "      <td>[Urban Infrastructure Partner]</td>\n",
       "      <td>/v2/networks/baerum-bysykkel</td>\n",
       "      <td>baerum-bysykkel</td>\n",
       "      <td>Bysykkel</td>\n",
       "      <td>Bærum</td>\n",
       "      <td>NO</td>\n",
       "      <td>59.894550</td>\n",
       "      <td>10.546343</td>\n",
       "      <td>False</td>\n",
       "    </tr>\n",
       "    <tr>\n",
       "      <th>2</th>\n",
       "      <td>[Comunicare S.r.l.]</td>\n",
       "      <td>/v2/networks/bicincitta-siena</td>\n",
       "      <td>bicincitta-siena</td>\n",
       "      <td>Bicincittà</td>\n",
       "      <td>Siena</td>\n",
       "      <td>IT</td>\n",
       "      <td>43.318600</td>\n",
       "      <td>11.330600</td>\n",
       "      <td>False</td>\n",
       "    </tr>\n",
       "    <tr>\n",
       "      <th>3</th>\n",
       "      <td>[Cyclopolis Systems]</td>\n",
       "      <td>/v2/networks/cyclopolis-maroussi</td>\n",
       "      <td>cyclopolis-maroussi</td>\n",
       "      <td>Cyclopolis</td>\n",
       "      <td>Maroussi</td>\n",
       "      <td>GR</td>\n",
       "      <td>38.056872</td>\n",
       "      <td>23.808330</td>\n",
       "      <td>False</td>\n",
       "    </tr>\n",
       "    <tr>\n",
       "      <th>4</th>\n",
       "      <td>[Cyclopolis Systems]</td>\n",
       "      <td>/v2/networks/cyclopolis-nafplio</td>\n",
       "      <td>cyclopolis-nafplio</td>\n",
       "      <td>Cyclopolis</td>\n",
       "      <td>Nafplio</td>\n",
       "      <td>GR</td>\n",
       "      <td>37.563940</td>\n",
       "      <td>22.809340</td>\n",
       "      <td>False</td>\n",
       "    </tr>\n",
       "  </tbody>\n",
       "</table>\n",
       "</div>"
      ],
      "text/plain": [
       "                          company                              href  \\\n",
       "0                [ЗАО «СитиБайк»]      /v2/networks/velobike-moscow   \n",
       "1  [Urban Infrastructure Partner]      /v2/networks/baerum-bysykkel   \n",
       "2             [Comunicare S.r.l.]     /v2/networks/bicincitta-siena   \n",
       "3            [Cyclopolis Systems]  /v2/networks/cyclopolis-maroussi   \n",
       "4            [Cyclopolis Systems]   /v2/networks/cyclopolis-nafplio   \n",
       "\n",
       "                    id        name      city country   latitude  longitude  \\\n",
       "0      velobike-moscow    Velobike    Moscow      RU  55.750000  37.616667   \n",
       "1      baerum-bysykkel    Bysykkel     Bærum      NO  59.894550  10.546343   \n",
       "2     bicincitta-siena  Bicincittà     Siena      IT  43.318600  11.330600   \n",
       "3  cyclopolis-maroussi  Cyclopolis  Maroussi      GR  38.056872  23.808330   \n",
       "4   cyclopolis-nafplio  Cyclopolis   Nafplio      GR  37.563940  22.809340   \n",
       "\n",
       "   ebikes  \n",
       "0   False  \n",
       "1   False  \n",
       "2   False  \n",
       "3   False  \n",
       "4   False  "
      ]
     },
     "execution_count": 59,
     "metadata": {},
     "output_type": "execute_result"
    }
   ],
   "source": [
    "networks_df.head()"
   ]
  },
  {
   "cell_type": "code",
   "execution_count": 60,
   "metadata": {},
   "outputs": [
    {
     "data": {
      "text/plain": [
       "company      11\n",
       "href          0\n",
       "id            0\n",
       "name          0\n",
       "city          0\n",
       "country       0\n",
       "latitude      0\n",
       "longitude     0\n",
       "ebikes        0\n",
       "dtype: int64"
      ]
     },
     "execution_count": 60,
     "metadata": {},
     "output_type": "execute_result"
    }
   ],
   "source": [
    "networks_df.isnull().sum()"
   ]
  },
  {
   "cell_type": "code",
   "execution_count": 61,
   "metadata": {},
   "outputs": [
    {
     "data": {
      "text/plain": [
       "IT    128\n",
       "DE     80\n",
       "FR     49\n",
       "ES     39\n",
       "US     36\n",
       "GR     31\n",
       "CZ     27\n",
       "HR     26\n",
       "PL     23\n",
       "CH     18\n",
       "AT     18\n",
       "BR     17\n",
       "GB     10\n",
       "SI      8\n",
       "CA      6\n",
       "IE      5\n",
       "SK      5\n",
       "NO      5\n",
       "BE      4\n",
       "RO      4\n",
       "MX      4\n",
       "UA      4\n",
       "TR      4\n",
       "RU      3\n",
       "CY      3\n",
       "BA      3\n",
       "SE      3\n",
       "KZ      3\n",
       "FI      2\n",
       "LU      2\n",
       "MT      2\n",
       "AR      2\n",
       "NZ      2\n",
       "PT      1\n",
       "LT      1\n",
       "NL      1\n",
       "CO      1\n",
       "GE      1\n",
       "ME      1\n",
       "HU      1\n",
       "JP      1\n",
       "TH      1\n",
       "CL      1\n",
       "MC      1\n",
       "LV      1\n",
       "AE      1\n",
       "IL      1\n",
       "Name: country, dtype: int64"
      ]
     },
     "execution_count": 61,
     "metadata": {},
     "output_type": "execute_result"
    }
   ],
   "source": [
    "networks_df['country'].value_counts().sort_values(ascending=False)"
   ]
  },
  {
   "cell_type": "code",
   "execution_count": 86,
   "metadata": {},
   "outputs": [
    {
     "data": {
      "text/plain": [
       "Calais                     2\n",
       "Bergamo                    2\n",
       "Bratislava                 2\n",
       "São Paulo                  2\n",
       "Ljubljana                  2\n",
       "                          ..\n",
       "Aller                      1\n",
       "Albacete                   1\n",
       "Alcázar de San Juan        1\n",
       "Valletta - Malta - Gozo    1\n",
       "Prerov                     1\n",
       "Name: city, Length: 583, dtype: int64"
      ]
     },
     "execution_count": 86,
     "metadata": {},
     "output_type": "execute_result"
    }
   ],
   "source": [
    "networks_df['city'].value_counts().sort_values(ascending=False)"
   ]
  },
  {
   "cell_type": "markdown",
   "metadata": {},
   "source": [
    "***Note:*** Change the datatype of the column"
   ]
  },
  {
   "cell_type": "code",
   "execution_count": 75,
   "metadata": {},
   "outputs": [
    {
     "data": {
      "text/plain": [
       "0      False\n",
       "1      False\n",
       "2      False\n",
       "3      False\n",
       "4      False\n",
       "       ...  \n",
       "585    False\n",
       "586    False\n",
       "587    False\n",
       "588    False\n",
       "589    False\n",
       "Name: ebikes, Length: 590, dtype: bool"
      ]
     },
     "execution_count": 75,
     "metadata": {},
     "output_type": "execute_result"
    }
   ],
   "source": [
    "networks_df['ebikes'].astype('bool')"
   ]
  },
  {
   "cell_type": "code",
   "execution_count": 76,
   "metadata": {},
   "outputs": [
    {
     "name": "stdout",
     "output_type": "stream",
     "text": [
      "<class 'pandas.core.frame.DataFrame'>\n",
      "RangeIndex: 590 entries, 0 to 589\n",
      "Data columns (total 9 columns):\n",
      " #   Column     Non-Null Count  Dtype  \n",
      "---  ------     --------------  -----  \n",
      " 0   company    579 non-null    object \n",
      " 1   href       590 non-null    object \n",
      " 2   id         590 non-null    object \n",
      " 3   name       590 non-null    object \n",
      " 4   city       590 non-null    object \n",
      " 5   country    590 non-null    object \n",
      " 6   latitude   590 non-null    float64\n",
      " 7   longitude  590 non-null    float64\n",
      " 8   ebikes     590 non-null    bool   \n",
      "dtypes: bool(1), float64(2), object(6)\n",
      "memory usage: 37.6+ KB\n"
     ]
    }
   ],
   "source": [
    "networks_df.info()"
   ]
  },
  {
   "cell_type": "markdown",
   "metadata": {},
   "source": [
    "***Note:***\n",
    "- At this stage we consider our dataframe cleaned.It contains some Null values in company column but we can ignore those at this stage as we are more interested in rest of the column values.\n",
    "- Save the cleaned Dataframe into csv file"
   ]
  },
  {
   "cell_type": "code",
   "execution_count": 63,
   "metadata": {},
   "outputs": [],
   "source": [
    "networks_df.to_csv('../data/networks.csv', index=False)"
   ]
  },
  {
   "cell_type": "code",
   "execution_count": null,
   "metadata": {},
   "outputs": [],
   "source": []
  },
  {
   "cell_type": "markdown",
   "metadata": {},
   "source": [
    "***Note:*** Just a quick check for the backup"
   ]
  },
  {
   "cell_type": "code",
   "execution_count": 2,
   "metadata": {},
   "outputs": [
    {
     "name": "stdout",
     "output_type": "stream",
     "text": [
      "<class 'pandas.core.frame.DataFrame'>\n",
      "RangeIndex: 590 entries, 0 to 589\n",
      "Data columns (total 9 columns):\n",
      " #   Column     Non-Null Count  Dtype  \n",
      "---  ------     --------------  -----  \n",
      " 0   company    579 non-null    object \n",
      " 1   href       590 non-null    object \n",
      " 2   id         590 non-null    object \n",
      " 3   name       590 non-null    object \n",
      " 4   city       590 non-null    object \n",
      " 5   country    590 non-null    object \n",
      " 6   latitude   590 non-null    float64\n",
      " 7   longitude  590 non-null    float64\n",
      " 8   ebikes     590 non-null    bool   \n",
      "dtypes: bool(1), float64(2), object(6)\n",
      "memory usage: 37.6+ KB\n"
     ]
    }
   ],
   "source": [
    "df=pd.read_csv('../data/networks.csv')\n",
    "df.info()"
   ]
  },
  {
   "cell_type": "markdown",
   "metadata": {},
   "source": [
    "***Note:*** It seems perfect"
   ]
  },
  {
   "cell_type": "code",
   "execution_count": 3,
   "metadata": {},
   "outputs": [],
   "source": [
    "#networks_df=df.copy()"
   ]
  },
  {
   "cell_type": "markdown",
   "metadata": {},
   "source": [
    "***Send a request to CityBikes for the city of your choice.***"
   ]
  },
  {
   "cell_type": "markdown",
   "metadata": {},
   "source": [
    "- The City of my choice is ***New York***\n",
    "- Lets first check if that city exists in networks data"
   ]
  },
  {
   "cell_type": "code",
   "execution_count": 7,
   "metadata": {},
   "outputs": [
    {
     "data": {
      "text/html": [
       "<div>\n",
       "<style scoped>\n",
       "    .dataframe tbody tr th:only-of-type {\n",
       "        vertical-align: middle;\n",
       "    }\n",
       "\n",
       "    .dataframe tbody tr th {\n",
       "        vertical-align: top;\n",
       "    }\n",
       "\n",
       "    .dataframe thead th {\n",
       "        text-align: right;\n",
       "    }\n",
       "</style>\n",
       "<table border=\"1\" class=\"dataframe\">\n",
       "  <thead>\n",
       "    <tr style=\"text-align: right;\">\n",
       "      <th></th>\n",
       "      <th>company</th>\n",
       "      <th>href</th>\n",
       "      <th>id</th>\n",
       "      <th>name</th>\n",
       "      <th>city</th>\n",
       "      <th>country</th>\n",
       "      <th>latitude</th>\n",
       "      <th>longitude</th>\n",
       "      <th>ebikes</th>\n",
       "    </tr>\n",
       "  </thead>\n",
       "  <tbody>\n",
       "    <tr>\n",
       "      <th>97</th>\n",
       "      <td>['NYC Bike Share, LLC', 'Motivate Internationa...</td>\n",
       "      <td>/v2/networks/citi-bike-nyc</td>\n",
       "      <td>citi-bike-nyc</td>\n",
       "      <td>Citi Bike</td>\n",
       "      <td>New York, NY</td>\n",
       "      <td>US</td>\n",
       "      <td>40.714353</td>\n",
       "      <td>-74.005973</td>\n",
       "      <td>True</td>\n",
       "    </tr>\n",
       "  </tbody>\n",
       "</table>\n",
       "</div>"
      ],
      "text/plain": [
       "                                              company  \\\n",
       "97  ['NYC Bike Share, LLC', 'Motivate Internationa...   \n",
       "\n",
       "                          href             id       name          city  \\\n",
       "97  /v2/networks/citi-bike-nyc  citi-bike-nyc  Citi Bike  New York, NY   \n",
       "\n",
       "   country   latitude  longitude  ebikes  \n",
       "97      US  40.714353 -74.005973    True  "
      ]
     },
     "execution_count": 7,
     "metadata": {},
     "output_type": "execute_result"
    }
   ],
   "source": [
    "networks_df[networks_df['city'].str.contains('New York'.strip(),case=False)]"
   ]
  },
  {
   "cell_type": "markdown",
   "metadata": {},
   "source": [
    "***Note:*** As we can see there is only one network corresponding to ***'New York'*** city, so to make this statistical journey more exciting I choose some other city having more than one networks.\n",
    "- Therefore I choose beautiful city of ***France*** named ***Calais*** famous for fishing."
   ]
  },
  {
   "cell_type": "code",
   "execution_count": 4,
   "metadata": {},
   "outputs": [
    {
     "data": {
      "text/html": [
       "<div>\n",
       "<style scoped>\n",
       "    .dataframe tbody tr th:only-of-type {\n",
       "        vertical-align: middle;\n",
       "    }\n",
       "\n",
       "    .dataframe tbody tr th {\n",
       "        vertical-align: top;\n",
       "    }\n",
       "\n",
       "    .dataframe thead th {\n",
       "        text-align: right;\n",
       "    }\n",
       "</style>\n",
       "<table border=\"1\" class=\"dataframe\">\n",
       "  <thead>\n",
       "    <tr style=\"text-align: right;\">\n",
       "      <th></th>\n",
       "      <th>company</th>\n",
       "      <th>href</th>\n",
       "      <th>id</th>\n",
       "      <th>name</th>\n",
       "      <th>city</th>\n",
       "      <th>country</th>\n",
       "      <th>latitude</th>\n",
       "      <th>longitude</th>\n",
       "      <th>ebikes</th>\n",
       "    </tr>\n",
       "  </thead>\n",
       "  <tbody>\n",
       "    <tr>\n",
       "      <th>182</th>\n",
       "      <td>['Veolia']</td>\n",
       "      <td>/v2/networks/vel-in</td>\n",
       "      <td>vel-in</td>\n",
       "      <td>Vél'in</td>\n",
       "      <td>Calais</td>\n",
       "      <td>FR</td>\n",
       "      <td>50.950000</td>\n",
       "      <td>1.850000</td>\n",
       "      <td>False</td>\n",
       "    </tr>\n",
       "    <tr>\n",
       "      <th>414</th>\n",
       "      <td>['Ecovelo']</td>\n",
       "      <td>/v2/networks/velectin</td>\n",
       "      <td>velectin</td>\n",
       "      <td>Velect’in</td>\n",
       "      <td>Calais</td>\n",
       "      <td>FR</td>\n",
       "      <td>50.948056</td>\n",
       "      <td>1.856389</td>\n",
       "      <td>True</td>\n",
       "    </tr>\n",
       "  </tbody>\n",
       "</table>\n",
       "</div>"
      ],
      "text/plain": [
       "         company                   href        id       name    city country  \\\n",
       "182   ['Veolia']    /v2/networks/vel-in    vel-in     Vél'in  Calais      FR   \n",
       "414  ['Ecovelo']  /v2/networks/velectin  velectin  Velect’in  Calais      FR   \n",
       "\n",
       "      latitude  longitude  ebikes  \n",
       "182  50.950000   1.850000   False  \n",
       "414  50.948056   1.856389    True  "
      ]
     },
     "execution_count": 4,
     "metadata": {},
     "output_type": "execute_result"
    }
   ],
   "source": [
    "city_networks=networks_df[networks_df['city'].str.contains('Calais'.strip(),case=False)]\n",
    "city_networks"
   ]
  },
  {
   "cell_type": "code",
   "execution_count": 5,
   "metadata": {},
   "outputs": [
    {
     "data": {
      "text/html": [
       "<div>\n",
       "<style scoped>\n",
       "    .dataframe tbody tr th:only-of-type {\n",
       "        vertical-align: middle;\n",
       "    }\n",
       "\n",
       "    .dataframe tbody tr th {\n",
       "        vertical-align: top;\n",
       "    }\n",
       "\n",
       "    .dataframe thead th {\n",
       "        text-align: right;\n",
       "    }\n",
       "</style>\n",
       "<table border=\"1\" class=\"dataframe\">\n",
       "  <thead>\n",
       "    <tr style=\"text-align: right;\">\n",
       "      <th></th>\n",
       "      <th>empty_slots</th>\n",
       "      <th>free_bikes</th>\n",
       "      <th>id</th>\n",
       "      <th>latitude</th>\n",
       "      <th>longitude</th>\n",
       "      <th>name</th>\n",
       "      <th>timestamp</th>\n",
       "      <th>extra.online</th>\n",
       "      <th>extra.slots</th>\n",
       "      <th>extra.slots_available</th>\n",
       "      <th>extra.uid</th>\n",
       "      <th>network_id</th>\n",
       "      <th>extra.address</th>\n",
       "      <th>extra.last_updated</th>\n",
       "      <th>extra.renting</th>\n",
       "      <th>extra.returning</th>\n",
       "    </tr>\n",
       "  </thead>\n",
       "  <tbody>\n",
       "    <tr>\n",
       "      <th>0</th>\n",
       "      <td>0</td>\n",
       "      <td>0</td>\n",
       "      <td>116978dc6ed165d95a1ce386466bf165</td>\n",
       "      <td>50.946176</td>\n",
       "      <td>1.891176</td>\n",
       "      <td>a</td>\n",
       "      <td>2023-09-24T17:27:39.840000Z</td>\n",
       "      <td>False</td>\n",
       "      <td>0</td>\n",
       "      <td>0.0</td>\n",
       "      <td>52</td>\n",
       "      <td>vel-in</td>\n",
       "      <td>NaN</td>\n",
       "      <td>NaN</td>\n",
       "      <td>NaN</td>\n",
       "      <td>NaN</td>\n",
       "    </tr>\n",
       "    <tr>\n",
       "      <th>1</th>\n",
       "      <td>0</td>\n",
       "      <td>0</td>\n",
       "      <td>3b58c82f8aca0fd26a55dd5fcb82f9ec</td>\n",
       "      <td>50.960770</td>\n",
       "      <td>1.873922</td>\n",
       "      <td>b</td>\n",
       "      <td>2023-09-24T17:27:39.842000Z</td>\n",
       "      <td>False</td>\n",
       "      <td>0</td>\n",
       "      <td>0.0</td>\n",
       "      <td>54</td>\n",
       "      <td>vel-in</td>\n",
       "      <td>NaN</td>\n",
       "      <td>NaN</td>\n",
       "      <td>NaN</td>\n",
       "      <td>NaN</td>\n",
       "    </tr>\n",
       "    <tr>\n",
       "      <th>2</th>\n",
       "      <td>15</td>\n",
       "      <td>0</td>\n",
       "      <td>fedaa58e592a7e4156cf9f89e3f44560</td>\n",
       "      <td>50.946609</td>\n",
       "      <td>1.858303</td>\n",
       "      <td>01 : Lafayette</td>\n",
       "      <td>2023-09-24T17:27:39.764000Z</td>\n",
       "      <td>True</td>\n",
       "      <td>15</td>\n",
       "      <td>15.0</td>\n",
       "      <td>1</td>\n",
       "      <td>vel-in</td>\n",
       "      <td>NaN</td>\n",
       "      <td>NaN</td>\n",
       "      <td>NaN</td>\n",
       "      <td>NaN</td>\n",
       "    </tr>\n",
       "    <tr>\n",
       "      <th>3</th>\n",
       "      <td>17</td>\n",
       "      <td>1</td>\n",
       "      <td>a75dfb30a2a5e87b7ad50863923461ce</td>\n",
       "      <td>50.947377</td>\n",
       "      <td>1.853769</td>\n",
       "      <td>02 : Théatre</td>\n",
       "      <td>2023-09-24T17:27:39.774000Z</td>\n",
       "      <td>True</td>\n",
       "      <td>18</td>\n",
       "      <td>18.0</td>\n",
       "      <td>2</td>\n",
       "      <td>vel-in</td>\n",
       "      <td>NaN</td>\n",
       "      <td>NaN</td>\n",
       "      <td>NaN</td>\n",
       "      <td>NaN</td>\n",
       "    </tr>\n",
       "    <tr>\n",
       "      <th>4</th>\n",
       "      <td>25</td>\n",
       "      <td>2</td>\n",
       "      <td>9723c2436cfc9652882bf1b7c7e182e7</td>\n",
       "      <td>50.953303</td>\n",
       "      <td>1.851278</td>\n",
       "      <td>04 : Gare SNCF</td>\n",
       "      <td>2023-09-24T17:27:39.775000Z</td>\n",
       "      <td>True</td>\n",
       "      <td>27</td>\n",
       "      <td>27.0</td>\n",
       "      <td>4</td>\n",
       "      <td>vel-in</td>\n",
       "      <td>NaN</td>\n",
       "      <td>NaN</td>\n",
       "      <td>NaN</td>\n",
       "      <td>NaN</td>\n",
       "    </tr>\n",
       "    <tr>\n",
       "      <th>...</th>\n",
       "      <td>...</td>\n",
       "      <td>...</td>\n",
       "      <td>...</td>\n",
       "      <td>...</td>\n",
       "      <td>...</td>\n",
       "      <td>...</td>\n",
       "      <td>...</td>\n",
       "      <td>...</td>\n",
       "      <td>...</td>\n",
       "      <td>...</td>\n",
       "      <td>...</td>\n",
       "      <td>...</td>\n",
       "      <td>...</td>\n",
       "      <td>...</td>\n",
       "      <td>...</td>\n",
       "      <td>...</td>\n",
       "    </tr>\n",
       "    <tr>\n",
       "      <th>64</th>\n",
       "      <td>10</td>\n",
       "      <td>0</td>\n",
       "      <td>5f71f7dfa65b9d9262f2f966f3f481aa</td>\n",
       "      <td>50.936090</td>\n",
       "      <td>1.800010</td>\n",
       "      <td>COQUELLES</td>\n",
       "      <td>2023-09-24T17:28:27.876000Z</td>\n",
       "      <td>NaN</td>\n",
       "      <td>10</td>\n",
       "      <td>NaN</td>\n",
       "      <td>stn_8WQURqherzFNRsNbRKGR5c</td>\n",
       "      <td>velectin</td>\n",
       "      <td></td>\n",
       "      <td>1.695577e+09</td>\n",
       "      <td>True</td>\n",
       "      <td>True</td>\n",
       "    </tr>\n",
       "    <tr>\n",
       "      <th>65</th>\n",
       "      <td>5</td>\n",
       "      <td>0</td>\n",
       "      <td>df6340be3e22aafbeb98c0f9a33567aa</td>\n",
       "      <td>50.952317</td>\n",
       "      <td>1.879304</td>\n",
       "      <td>UNIVERSITE</td>\n",
       "      <td>2023-09-24T17:28:27.876000Z</td>\n",
       "      <td>NaN</td>\n",
       "      <td>5</td>\n",
       "      <td>NaN</td>\n",
       "      <td>stn_8JrAxETvjn2MiNYLfpuo47</td>\n",
       "      <td>velectin</td>\n",
       "      <td></td>\n",
       "      <td>1.695577e+09</td>\n",
       "      <td>True</td>\n",
       "      <td>True</td>\n",
       "    </tr>\n",
       "    <tr>\n",
       "      <th>66</th>\n",
       "      <td>15</td>\n",
       "      <td>0</td>\n",
       "      <td>18885eecc620dfb8247e4b965eea7094</td>\n",
       "      <td>50.964960</td>\n",
       "      <td>1.843470</td>\n",
       "      <td>PLUVIOSE</td>\n",
       "      <td>2023-09-24T17:28:27.870000Z</td>\n",
       "      <td>NaN</td>\n",
       "      <td>15</td>\n",
       "      <td>NaN</td>\n",
       "      <td>stn_ZJGSvopEf7JCjhEknQLRvM</td>\n",
       "      <td>velectin</td>\n",
       "      <td></td>\n",
       "      <td>1.695577e+09</td>\n",
       "      <td>True</td>\n",
       "      <td>True</td>\n",
       "    </tr>\n",
       "    <tr>\n",
       "      <th>67</th>\n",
       "      <td>5</td>\n",
       "      <td>0</td>\n",
       "      <td>0272a902cd9247078766c259f2ae3e1d</td>\n",
       "      <td>50.953262</td>\n",
       "      <td>1.850975</td>\n",
       "      <td>Gare SNCF</td>\n",
       "      <td>2023-09-24T17:28:27.873000Z</td>\n",
       "      <td>NaN</td>\n",
       "      <td>5</td>\n",
       "      <td>NaN</td>\n",
       "      <td>stn_Uzajj3jSxz9fnNyxZZpqgC</td>\n",
       "      <td>velectin</td>\n",
       "      <td></td>\n",
       "      <td>1.695577e+09</td>\n",
       "      <td>True</td>\n",
       "      <td>True</td>\n",
       "    </tr>\n",
       "    <tr>\n",
       "      <th>68</th>\n",
       "      <td>9</td>\n",
       "      <td>1</td>\n",
       "      <td>1b484820df4753450d86331715b0eed7</td>\n",
       "      <td>50.949146</td>\n",
       "      <td>1.956255</td>\n",
       "      <td>MAIRIE DE MARCK</td>\n",
       "      <td>2023-09-24T17:28:27.875000Z</td>\n",
       "      <td>NaN</td>\n",
       "      <td>10</td>\n",
       "      <td>NaN</td>\n",
       "      <td>stn_AxsPJEA5S6naCgBYzdXQ8m</td>\n",
       "      <td>velectin</td>\n",
       "      <td></td>\n",
       "      <td>1.695577e+09</td>\n",
       "      <td>True</td>\n",
       "      <td>True</td>\n",
       "    </tr>\n",
       "  </tbody>\n",
       "</table>\n",
       "<p>69 rows × 16 columns</p>\n",
       "</div>"
      ],
      "text/plain": [
       "    empty_slots  free_bikes                                id   latitude  \\\n",
       "0             0           0  116978dc6ed165d95a1ce386466bf165  50.946176   \n",
       "1             0           0  3b58c82f8aca0fd26a55dd5fcb82f9ec  50.960770   \n",
       "2            15           0  fedaa58e592a7e4156cf9f89e3f44560  50.946609   \n",
       "3            17           1  a75dfb30a2a5e87b7ad50863923461ce  50.947377   \n",
       "4            25           2  9723c2436cfc9652882bf1b7c7e182e7  50.953303   \n",
       "..          ...         ...                               ...        ...   \n",
       "64           10           0  5f71f7dfa65b9d9262f2f966f3f481aa  50.936090   \n",
       "65            5           0  df6340be3e22aafbeb98c0f9a33567aa  50.952317   \n",
       "66           15           0  18885eecc620dfb8247e4b965eea7094  50.964960   \n",
       "67            5           0  0272a902cd9247078766c259f2ae3e1d  50.953262   \n",
       "68            9           1  1b484820df4753450d86331715b0eed7  50.949146   \n",
       "\n",
       "    longitude             name                    timestamp extra.online  \\\n",
       "0    1.891176                a  2023-09-24T17:27:39.840000Z        False   \n",
       "1    1.873922                b  2023-09-24T17:27:39.842000Z        False   \n",
       "2    1.858303   01 : Lafayette  2023-09-24T17:27:39.764000Z         True   \n",
       "3    1.853769     02 : Théatre  2023-09-24T17:27:39.774000Z         True   \n",
       "4    1.851278   04 : Gare SNCF  2023-09-24T17:27:39.775000Z         True   \n",
       "..        ...              ...                          ...          ...   \n",
       "64   1.800010        COQUELLES  2023-09-24T17:28:27.876000Z          NaN   \n",
       "65   1.879304       UNIVERSITE  2023-09-24T17:28:27.876000Z          NaN   \n",
       "66   1.843470         PLUVIOSE  2023-09-24T17:28:27.870000Z          NaN   \n",
       "67   1.850975        Gare SNCF  2023-09-24T17:28:27.873000Z          NaN   \n",
       "68   1.956255  MAIRIE DE MARCK  2023-09-24T17:28:27.875000Z          NaN   \n",
       "\n",
       "    extra.slots  extra.slots_available                   extra.uid network_id  \\\n",
       "0             0                    0.0                          52     vel-in   \n",
       "1             0                    0.0                          54     vel-in   \n",
       "2            15                   15.0                           1     vel-in   \n",
       "3            18                   18.0                           2     vel-in   \n",
       "4            27                   27.0                           4     vel-in   \n",
       "..          ...                    ...                         ...        ...   \n",
       "64           10                    NaN  stn_8WQURqherzFNRsNbRKGR5c   velectin   \n",
       "65            5                    NaN  stn_8JrAxETvjn2MiNYLfpuo47   velectin   \n",
       "66           15                    NaN  stn_ZJGSvopEf7JCjhEknQLRvM   velectin   \n",
       "67            5                    NaN  stn_Uzajj3jSxz9fnNyxZZpqgC   velectin   \n",
       "68           10                    NaN  stn_AxsPJEA5S6naCgBYzdXQ8m   velectin   \n",
       "\n",
       "   extra.address  extra.last_updated extra.renting extra.returning  \n",
       "0            NaN                 NaN           NaN             NaN  \n",
       "1            NaN                 NaN           NaN             NaN  \n",
       "2            NaN                 NaN           NaN             NaN  \n",
       "3            NaN                 NaN           NaN             NaN  \n",
       "4            NaN                 NaN           NaN             NaN  \n",
       "..           ...                 ...           ...             ...  \n",
       "64                      1.695577e+09          True            True  \n",
       "65                      1.695577e+09          True            True  \n",
       "66                      1.695577e+09          True            True  \n",
       "67                      1.695577e+09          True            True  \n",
       "68                      1.695577e+09          True            True  \n",
       "\n",
       "[69 rows x 16 columns]"
      ]
     },
     "execution_count": 5,
     "metadata": {},
     "output_type": "execute_result"
    }
   ],
   "source": [
    "stations=pd.DataFrame()\n",
    "for index, row in city_networks.iterrows():\n",
    "    try:\n",
    "        url=f\"http://api.citybik.es/v2/networks/{row['id']}?fields=stations,location\"\n",
    "        headers = {\"accept\": \"application/json\"}\n",
    "        response=requests.get(url,headers=headers)\n",
    "        response.raise_for_status()\n",
    "        data_temp=response.json()\n",
    "        st=pd.json_normalize(data_temp['network']['stations'])\n",
    "        st['network_id']=row['id']\n",
    "        stations=pd.concat([stations,st], ignore_index=True)\n",
    "    except requests.exceptions.HTTPError as errh:\n",
    "        print(\"HTTP Error\")\n",
    "        print(errh.args[0])\n",
    "stations"
   ]
  },
  {
   "cell_type": "markdown",
   "metadata": {},
   "source": [
    "***Note:*** save this data into csv file for backup"
   ]
  },
  {
   "cell_type": "code",
   "execution_count": 6,
   "metadata": {},
   "outputs": [],
   "source": [
    "stations.to_csv('../data/raw_stations.csv', index=False)"
   ]
  },
  {
   "cell_type": "code",
   "execution_count": null,
   "metadata": {},
   "outputs": [],
   "source": []
  },
  {
   "cell_type": "markdown",
   "metadata": {},
   "source": [
    "***Parse through the response to get the details you want for the bike stations in that city (latitude, longitude, number of bikes).***"
   ]
  },
  {
   "cell_type": "markdown",
   "metadata": {},
   "source": [
    "***Note:*** we will create a new DataFrame having only the fields of interest to make it simple and easy. Later on at any point if we find the requirement of any other column we can import it from the raw_stations backup"
   ]
  },
  {
   "cell_type": "code",
   "execution_count": 7,
   "metadata": {},
   "outputs": [
    {
     "data": {
      "text/plain": [
       "Index(['empty_slots', 'free_bikes', 'id', 'latitude', 'longitude', 'name',\n",
       "       'timestamp', 'extra.online', 'extra.slots', 'extra.slots_available',\n",
       "       'extra.uid', 'network_id', 'extra.address', 'extra.last_updated',\n",
       "       'extra.renting', 'extra.returning'],\n",
       "      dtype='object')"
      ]
     },
     "execution_count": 7,
     "metadata": {},
     "output_type": "execute_result"
    }
   ],
   "source": [
    "stations.columns"
   ]
  },
  {
   "cell_type": "code",
   "execution_count": 11,
   "metadata": {},
   "outputs": [
    {
     "data": {
      "text/html": [
       "<div>\n",
       "<style scoped>\n",
       "    .dataframe tbody tr th:only-of-type {\n",
       "        vertical-align: middle;\n",
       "    }\n",
       "\n",
       "    .dataframe tbody tr th {\n",
       "        vertical-align: top;\n",
       "    }\n",
       "\n",
       "    .dataframe thead th {\n",
       "        text-align: right;\n",
       "    }\n",
       "</style>\n",
       "<table border=\"1\" class=\"dataframe\">\n",
       "  <thead>\n",
       "    <tr style=\"text-align: right;\">\n",
       "      <th></th>\n",
       "      <th>id</th>\n",
       "      <th>name</th>\n",
       "      <th>latitude</th>\n",
       "      <th>longitude</th>\n",
       "      <th>free_bikes</th>\n",
       "      <th>network_id</th>\n",
       "    </tr>\n",
       "  </thead>\n",
       "  <tbody>\n",
       "    <tr>\n",
       "      <th>0</th>\n",
       "      <td>116978dc6ed165d95a1ce386466bf165</td>\n",
       "      <td>a</td>\n",
       "      <td>50.946176</td>\n",
       "      <td>1.891176</td>\n",
       "      <td>0</td>\n",
       "      <td>vel-in</td>\n",
       "    </tr>\n",
       "    <tr>\n",
       "      <th>1</th>\n",
       "      <td>3b58c82f8aca0fd26a55dd5fcb82f9ec</td>\n",
       "      <td>b</td>\n",
       "      <td>50.960770</td>\n",
       "      <td>1.873922</td>\n",
       "      <td>0</td>\n",
       "      <td>vel-in</td>\n",
       "    </tr>\n",
       "    <tr>\n",
       "      <th>2</th>\n",
       "      <td>fedaa58e592a7e4156cf9f89e3f44560</td>\n",
       "      <td>01 : Lafayette</td>\n",
       "      <td>50.946609</td>\n",
       "      <td>1.858303</td>\n",
       "      <td>0</td>\n",
       "      <td>vel-in</td>\n",
       "    </tr>\n",
       "    <tr>\n",
       "      <th>3</th>\n",
       "      <td>a75dfb30a2a5e87b7ad50863923461ce</td>\n",
       "      <td>02 : Théatre</td>\n",
       "      <td>50.947377</td>\n",
       "      <td>1.853769</td>\n",
       "      <td>1</td>\n",
       "      <td>vel-in</td>\n",
       "    </tr>\n",
       "    <tr>\n",
       "      <th>4</th>\n",
       "      <td>9723c2436cfc9652882bf1b7c7e182e7</td>\n",
       "      <td>04 : Gare SNCF</td>\n",
       "      <td>50.953303</td>\n",
       "      <td>1.851278</td>\n",
       "      <td>2</td>\n",
       "      <td>vel-in</td>\n",
       "    </tr>\n",
       "  </tbody>\n",
       "</table>\n",
       "</div>"
      ],
      "text/plain": [
       "                                 id            name   latitude  longitude  \\\n",
       "0  116978dc6ed165d95a1ce386466bf165               a  50.946176   1.891176   \n",
       "1  3b58c82f8aca0fd26a55dd5fcb82f9ec               b  50.960770   1.873922   \n",
       "2  fedaa58e592a7e4156cf9f89e3f44560  01 : Lafayette  50.946609   1.858303   \n",
       "3  a75dfb30a2a5e87b7ad50863923461ce    02 : Théatre  50.947377   1.853769   \n",
       "4  9723c2436cfc9652882bf1b7c7e182e7  04 : Gare SNCF  50.953303   1.851278   \n",
       "\n",
       "   free_bikes network_id  \n",
       "0           0     vel-in  \n",
       "1           0     vel-in  \n",
       "2           0     vel-in  \n",
       "3           1     vel-in  \n",
       "4           2     vel-in  "
      ]
     },
     "execution_count": 11,
     "metadata": {},
     "output_type": "execute_result"
    }
   ],
   "source": [
    "stations_df=stations[['id','name','latitude', 'longitude', 'free_bikes','network_id']].copy()\n",
    "stations_df.head()"
   ]
  },
  {
   "cell_type": "markdown",
   "metadata": {},
   "source": [
    "***Put your parsed results into a DataFrame.***"
   ]
  },
  {
   "cell_type": "code",
   "execution_count": 12,
   "metadata": {},
   "outputs": [],
   "source": [
    "stations_df.rename(columns={\"id\": \"station_id\",\"name\":\"station\", \"free_bikes\": \"no_of_bikes\"},inplace=True)"
   ]
  },
  {
   "cell_type": "code",
   "execution_count": 13,
   "metadata": {},
   "outputs": [
    {
     "name": "stdout",
     "output_type": "stream",
     "text": [
      "<class 'pandas.core.frame.DataFrame'>\n",
      "RangeIndex: 69 entries, 0 to 68\n",
      "Data columns (total 6 columns):\n",
      " #   Column       Non-Null Count  Dtype  \n",
      "---  ------       --------------  -----  \n",
      " 0   station_id   69 non-null     object \n",
      " 1   station      69 non-null     object \n",
      " 2   latitude     69 non-null     float64\n",
      " 3   longitude    69 non-null     float64\n",
      " 4   no_of_bikes  69 non-null     int64  \n",
      " 5   network_id   69 non-null     object \n",
      "dtypes: float64(2), int64(1), object(3)\n",
      "memory usage: 3.4+ KB\n"
     ]
    }
   ],
   "source": [
    "stations_df.info()"
   ]
  },
  {
   "cell_type": "markdown",
   "metadata": {},
   "source": [
    "***Note:*** The above data shows there is no null or missing values. For now we consider it clean and save the data in csv for future use."
   ]
  },
  {
   "cell_type": "code",
   "execution_count": 14,
   "metadata": {},
   "outputs": [],
   "source": [
    "stations_df.to_csv('../data/calais_stations.csv', index=False)"
   ]
  },
  {
   "cell_type": "code",
   "execution_count": null,
   "metadata": {},
   "outputs": [],
   "source": []
  }
 ],
 "metadata": {
  "kernelspec": {
   "display_name": "Python 3 (ipykernel)",
   "language": "python",
   "name": "python3"
  },
  "language_info": {
   "codemirror_mode": {
    "name": "ipython",
    "version": 3
   },
   "file_extension": ".py",
   "mimetype": "text/x-python",
   "name": "python",
   "nbconvert_exporter": "python",
   "pygments_lexer": "ipython3",
   "version": "3.9.13"
  }
 },
 "nbformat": 4,
 "nbformat_minor": 4
}
