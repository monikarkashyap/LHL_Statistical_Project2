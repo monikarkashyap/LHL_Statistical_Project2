{
 "cells": [
  {
   "cell_type": "markdown",
   "metadata": {},
   "source": [
    "# CityBikes"
   ]
  },
  {
   "cell_type": "markdown",
   "metadata": {},
   "source": [
    "***Data Source:  [CityBikes](https://citybik.es/) API***"
   ]
  },
  {
   "cell_type": "code",
   "execution_count": 2,
   "metadata": {},
   "outputs": [],
   "source": [
    "#libraries\n",
    "import pandas as pd\n",
    "import requests \n",
    "import numpy as np\n"
   ]
  },
  {
   "cell_type": "markdown",
   "metadata": {},
   "source": [
    "***Importing and Exploring the data***"
   ]
  },
  {
   "cell_type": "code",
   "execution_count": 112,
   "metadata": {},
   "outputs": [],
   "source": [
    "# Query the CityBikes API to get the data about the networks beacuse network is the top level of the data having information about the bikes\n",
    "def fetch_city_bikes():\n",
    "    try:\n",
    "        url=\"http://api.citybik.es/v2/networks\"\n",
    "        headers = {\"accept\": \"application/json\"}\n",
    "        response=requests.get(url,headers=headers)\n",
    "        response.raise_for_status() #\n",
    "    except requests.exceptions.HTTPError as errh:\n",
    "        print(\"HTTP Error\")\n",
    "        print(errh.args[0])\n",
    "    else:\n",
    "        return response\n",
    "      "
   ]
  },
  {
   "cell_type": "code",
   "execution_count": 113,
   "metadata": {},
   "outputs": [],
   "source": [
    "res=fetch_city_bikes()\n",
    "data=res.json() #Convert the response to json \n"
   ]
  },
  {
   "cell_type": "code",
   "execution_count": 114,
   "metadata": {},
   "outputs": [],
   "source": [
    "#Normalize semi-structured JSON data into a flat table.\n",
    "networks=pd.json_normalize(data['networks']) # networks is a top node of the json containing data of our interest"
   ]
  },
  {
   "cell_type": "code",
   "execution_count": 115,
   "metadata": {},
   "outputs": [
    {
     "data": {
      "text/html": [
       "<div>\n",
       "<style scoped>\n",
       "    .dataframe tbody tr th:only-of-type {\n",
       "        vertical-align: middle;\n",
       "    }\n",
       "\n",
       "    .dataframe tbody tr th {\n",
       "        vertical-align: top;\n",
       "    }\n",
       "\n",
       "    .dataframe thead th {\n",
       "        text-align: right;\n",
       "    }\n",
       "</style>\n",
       "<table border=\"1\" class=\"dataframe\">\n",
       "  <thead>\n",
       "    <tr style=\"text-align: right;\">\n",
       "      <th></th>\n",
       "      <th>company</th>\n",
       "      <th>href</th>\n",
       "      <th>id</th>\n",
       "      <th>name</th>\n",
       "      <th>location.city</th>\n",
       "      <th>location.country</th>\n",
       "      <th>location.latitude</th>\n",
       "      <th>location.longitude</th>\n",
       "      <th>source</th>\n",
       "      <th>gbfs_href</th>\n",
       "      <th>license.name</th>\n",
       "      <th>license.url</th>\n",
       "      <th>ebikes</th>\n",
       "    </tr>\n",
       "  </thead>\n",
       "  <tbody>\n",
       "    <tr>\n",
       "      <th>0</th>\n",
       "      <td>[ЗАО «СитиБайк»]</td>\n",
       "      <td>/v2/networks/velobike-moscow</td>\n",
       "      <td>velobike-moscow</td>\n",
       "      <td>Velobike</td>\n",
       "      <td>Moscow</td>\n",
       "      <td>RU</td>\n",
       "      <td>55.750000</td>\n",
       "      <td>37.616667</td>\n",
       "      <td>NaN</td>\n",
       "      <td>NaN</td>\n",
       "      <td>NaN</td>\n",
       "      <td>NaN</td>\n",
       "      <td>NaN</td>\n",
       "    </tr>\n",
       "    <tr>\n",
       "      <th>1</th>\n",
       "      <td>[Urban Infrastructure Partner]</td>\n",
       "      <td>/v2/networks/baerum-bysykkel</td>\n",
       "      <td>baerum-bysykkel</td>\n",
       "      <td>Bysykkel</td>\n",
       "      <td>Bærum</td>\n",
       "      <td>NO</td>\n",
       "      <td>59.894550</td>\n",
       "      <td>10.546343</td>\n",
       "      <td>NaN</td>\n",
       "      <td>NaN</td>\n",
       "      <td>NaN</td>\n",
       "      <td>NaN</td>\n",
       "      <td>NaN</td>\n",
       "    </tr>\n",
       "    <tr>\n",
       "      <th>2</th>\n",
       "      <td>[Comunicare S.r.l.]</td>\n",
       "      <td>/v2/networks/bicincitta-siena</td>\n",
       "      <td>bicincitta-siena</td>\n",
       "      <td>Bicincittà</td>\n",
       "      <td>Siena</td>\n",
       "      <td>IT</td>\n",
       "      <td>43.318600</td>\n",
       "      <td>11.330600</td>\n",
       "      <td>https://www.bicincitta.com/frmLeStazioni.aspx?...</td>\n",
       "      <td>NaN</td>\n",
       "      <td>NaN</td>\n",
       "      <td>NaN</td>\n",
       "      <td>NaN</td>\n",
       "    </tr>\n",
       "    <tr>\n",
       "      <th>3</th>\n",
       "      <td>[Cyclopolis Systems]</td>\n",
       "      <td>/v2/networks/cyclopolis-maroussi</td>\n",
       "      <td>cyclopolis-maroussi</td>\n",
       "      <td>Cyclopolis</td>\n",
       "      <td>Maroussi</td>\n",
       "      <td>GR</td>\n",
       "      <td>38.056872</td>\n",
       "      <td>23.808330</td>\n",
       "      <td>NaN</td>\n",
       "      <td>NaN</td>\n",
       "      <td>NaN</td>\n",
       "      <td>NaN</td>\n",
       "      <td>NaN</td>\n",
       "    </tr>\n",
       "    <tr>\n",
       "      <th>4</th>\n",
       "      <td>[Cyclopolis Systems]</td>\n",
       "      <td>/v2/networks/cyclopolis-nafplio</td>\n",
       "      <td>cyclopolis-nafplio</td>\n",
       "      <td>Cyclopolis</td>\n",
       "      <td>Nafplio</td>\n",
       "      <td>GR</td>\n",
       "      <td>37.563940</td>\n",
       "      <td>22.809340</td>\n",
       "      <td>NaN</td>\n",
       "      <td>NaN</td>\n",
       "      <td>NaN</td>\n",
       "      <td>NaN</td>\n",
       "      <td>NaN</td>\n",
       "    </tr>\n",
       "  </tbody>\n",
       "</table>\n",
       "</div>"
      ],
      "text/plain": [
       "                          company                              href  \\\n",
       "0                [ЗАО «СитиБайк»]      /v2/networks/velobike-moscow   \n",
       "1  [Urban Infrastructure Partner]      /v2/networks/baerum-bysykkel   \n",
       "2             [Comunicare S.r.l.]     /v2/networks/bicincitta-siena   \n",
       "3            [Cyclopolis Systems]  /v2/networks/cyclopolis-maroussi   \n",
       "4            [Cyclopolis Systems]   /v2/networks/cyclopolis-nafplio   \n",
       "\n",
       "                    id        name location.city location.country  \\\n",
       "0      velobike-moscow    Velobike        Moscow               RU   \n",
       "1      baerum-bysykkel    Bysykkel         Bærum               NO   \n",
       "2     bicincitta-siena  Bicincittà         Siena               IT   \n",
       "3  cyclopolis-maroussi  Cyclopolis      Maroussi               GR   \n",
       "4   cyclopolis-nafplio  Cyclopolis       Nafplio               GR   \n",
       "\n",
       "   location.latitude  location.longitude  \\\n",
       "0          55.750000           37.616667   \n",
       "1          59.894550           10.546343   \n",
       "2          43.318600           11.330600   \n",
       "3          38.056872           23.808330   \n",
       "4          37.563940           22.809340   \n",
       "\n",
       "                                              source gbfs_href license.name  \\\n",
       "0                                                NaN       NaN          NaN   \n",
       "1                                                NaN       NaN          NaN   \n",
       "2  https://www.bicincitta.com/frmLeStazioni.aspx?...       NaN          NaN   \n",
       "3                                                NaN       NaN          NaN   \n",
       "4                                                NaN       NaN          NaN   \n",
       "\n",
       "  license.url ebikes  \n",
       "0         NaN    NaN  \n",
       "1         NaN    NaN  \n",
       "2         NaN    NaN  \n",
       "3         NaN    NaN  \n",
       "4         NaN    NaN  "
      ]
     },
     "execution_count": 115,
     "metadata": {},
     "output_type": "execute_result"
    }
   ],
   "source": [
    "networks.head()"
   ]
  },
  {
   "cell_type": "code",
   "execution_count": 116,
   "metadata": {},
   "outputs": [],
   "source": [
    "# Save the networks raw data in csv file so that \n",
    "# we no need to requery the API incase we want to refresh the our dataframe \n",
    "networks.to_csv('../data/raw_networks.csv', index=False)"
   ]
  },
  {
   "cell_type": "code",
   "execution_count": 148,
   "metadata": {},
   "outputs": [],
   "source": [
    "# we can get our dataframe from the csv file if we need at any time \n",
    "#networks=pd.read_csv('../data/raw_networks.csv')"
   ]
  },
  {
   "cell_type": "markdown",
   "metadata": {},
   "source": [
    "***Lets explore the networks dataframe***"
   ]
  },
  {
   "cell_type": "code",
   "execution_count": 149,
   "metadata": {},
   "outputs": [
    {
     "data": {
      "text/plain": [
       "(590, 13)"
      ]
     },
     "execution_count": 149,
     "metadata": {},
     "output_type": "execute_result"
    }
   ],
   "source": [
    "networks.shape # the output shows dataframe have 590 rows and 13 columns"
   ]
  },
  {
   "cell_type": "code",
   "execution_count": 150,
   "metadata": {},
   "outputs": [
    {
     "name": "stdout",
     "output_type": "stream",
     "text": [
      "<class 'pandas.core.frame.DataFrame'>\n",
      "RangeIndex: 590 entries, 0 to 589\n",
      "Data columns (total 13 columns):\n",
      " #   Column              Non-Null Count  Dtype  \n",
      "---  ------              --------------  -----  \n",
      " 0   company             579 non-null    object \n",
      " 1   href                590 non-null    object \n",
      " 2   id                  590 non-null    object \n",
      " 3   name                590 non-null    object \n",
      " 4   location.city       590 non-null    object \n",
      " 5   location.country    590 non-null    object \n",
      " 6   location.latitude   590 non-null    float64\n",
      " 7   location.longitude  590 non-null    float64\n",
      " 8   source              158 non-null    object \n",
      " 9   gbfs_href           87 non-null     object \n",
      " 10  license.name        25 non-null     object \n",
      " 11  license.url         25 non-null     object \n",
      " 12  ebikes              25 non-null     object \n",
      "dtypes: float64(2), object(11)\n",
      "memory usage: 60.0+ KB\n"
     ]
    }
   ],
   "source": [
    "networks.info() #summary of dataframe"
   ]
  },
  {
   "cell_type": "code",
   "execution_count": 151,
   "metadata": {},
   "outputs": [
    {
     "data": {
      "text/plain": [
       "company                11\n",
       "href                    0\n",
       "id                      0\n",
       "name                    0\n",
       "location.city           0\n",
       "location.country        0\n",
       "location.latitude       0\n",
       "location.longitude      0\n",
       "source                432\n",
       "gbfs_href             503\n",
       "license.name          565\n",
       "license.url           565\n",
       "ebikes                565\n",
       "dtype: int64"
      ]
     },
     "execution_count": 151,
     "metadata": {},
     "output_type": "execute_result"
    }
   ],
   "source": [
    "networks.isnull().sum() # it provide the brief summary of the total no of null values in each column of dataframe"
   ]
  },
  {
   "cell_type": "code",
   "execution_count": 152,
   "metadata": {},
   "outputs": [],
   "source": [
    "networks_df=networks.copy() # we can copy a DataFrame without affecting the original(deep copy)"
   ]
  },
  {
   "cell_type": "markdown",
   "metadata": {},
   "source": [
    "***Note:*** The above functions provide the basic information (like no of rows,columns,column name list, datatype and null value count of each column) about the dataframe networks."
   ]
  },
  {
   "cell_type": "code",
   "execution_count": 13,
   "metadata": {},
   "outputs": [],
   "source": [
    "#Lets do some data cleaning"
   ]
  },
  {
   "cell_type": "code",
   "execution_count": 153,
   "metadata": {},
   "outputs": [
    {
     "data": {
      "text/plain": [
       "Index(['company', 'href', 'id', 'name', 'location.city', 'location.country',\n",
       "       'location.latitude', 'location.longitude', 'source', 'gbfs_href',\n",
       "       'license.name', 'license.url', 'ebikes'],\n",
       "      dtype='object')"
      ]
     },
     "execution_count": 153,
     "metadata": {},
     "output_type": "execute_result"
    }
   ],
   "source": [
    "networks_df.columns # columns list"
   ]
  },
  {
   "cell_type": "code",
   "execution_count": 154,
   "metadata": {},
   "outputs": [],
   "source": [
    "# we will remove the columns which are out of scope of our poits of interest\n",
    "#inplace will change the dataframe itself\n",
    "# axis=1 used for columns. we will use these attributes throughout this project \n",
    "networks_df.drop(['location.latitude', 'location.longitude','href','company','source', 'gbfs_href','license.name', 'license.url'],axis=1,inplace=True)\n"
   ]
  },
  {
   "cell_type": "code",
   "execution_count": 155,
   "metadata": {},
   "outputs": [
    {
     "data": {
      "text/plain": [
       "Index(['id', 'name', 'location.city', 'location.country', 'ebikes'], dtype='object')"
      ]
     },
     "execution_count": 155,
     "metadata": {},
     "output_type": "execute_result"
    }
   ],
   "source": [
    "networks_df.columns # columns list"
   ]
  },
  {
   "cell_type": "code",
   "execution_count": 124,
   "metadata": {},
   "outputs": [],
   "source": [
    "# ebikes column cleaning"
   ]
  },
  {
   "cell_type": "code",
   "execution_count": 156,
   "metadata": {},
   "outputs": [
    {
     "data": {
      "text/plain": [
       "NaN     565\n",
       "True     25\n",
       "Name: ebikes, dtype: int64"
      ]
     },
     "execution_count": 156,
     "metadata": {},
     "output_type": "execute_result"
    }
   ],
   "source": [
    "networks_df['ebikes'].value_counts(dropna=False)# count the distict values and including NaN values"
   ]
  },
  {
   "cell_type": "markdown",
   "metadata": {},
   "source": [
    "***Note:*** Here we assume missing values as 'False' for 'ebikes' column"
   ]
  },
  {
   "cell_type": "code",
   "execution_count": 157,
   "metadata": {},
   "outputs": [],
   "source": [
    "networks_df['ebikes'] = networks_df['ebikes'].fillna(False) #fill the NaN in ebikes column as opposite to True i.e. 'False'"
   ]
  },
  {
   "cell_type": "code",
   "execution_count": 158,
   "metadata": {},
   "outputs": [
    {
     "data": {
      "text/plain": [
       "False    565\n",
       "True      25\n",
       "Name: ebikes, dtype: int64"
      ]
     },
     "execution_count": 158,
     "metadata": {},
     "output_type": "execute_result"
    }
   ],
   "source": [
    "networks_df['ebikes'].value_counts(dropna=False) # Now it looks more significant"
   ]
  },
  {
   "cell_type": "code",
   "execution_count": 159,
   "metadata": {},
   "outputs": [
    {
     "data": {
      "text/plain": [
       "0      False\n",
       "1      False\n",
       "2      False\n",
       "3      False\n",
       "4      False\n",
       "       ...  \n",
       "585    False\n",
       "586    False\n",
       "587    False\n",
       "588    False\n",
       "589    False\n",
       "Name: ebikes, Length: 590, dtype: bool"
      ]
     },
     "execution_count": 159,
     "metadata": {},
     "output_type": "execute_result"
    }
   ],
   "source": [
    "networks_df['ebikes'].astype('bool') # Change the datatype of the column"
   ]
  },
  {
   "cell_type": "code",
   "execution_count": 129,
   "metadata": {},
   "outputs": [
    {
     "name": "stdout",
     "output_type": "stream",
     "text": [
      "<class 'pandas.core.frame.DataFrame'>\n",
      "RangeIndex: 590 entries, 0 to 589\n",
      "Data columns (total 7 columns):\n",
      " #   Column              Non-Null Count  Dtype  \n",
      "---  ------              --------------  -----  \n",
      " 0   id                  590 non-null    object \n",
      " 1   name                590 non-null    object \n",
      " 2   location.city       590 non-null    object \n",
      " 3   location.country    590 non-null    object \n",
      " 4   location.latitude   590 non-null    float64\n",
      " 5   location.longitude  590 non-null    float64\n",
      " 6   ebikes              590 non-null    bool   \n",
      "dtypes: bool(1), float64(2), object(4)\n",
      "memory usage: 28.4+ KB\n"
     ]
    }
   ],
   "source": [
    "networks_df.info()"
   ]
  },
  {
   "cell_type": "code",
   "execution_count": 130,
   "metadata": {},
   "outputs": [],
   "source": [
    "# end of ebikes column cleaning"
   ]
  },
  {
   "cell_type": "code",
   "execution_count": 160,
   "metadata": {},
   "outputs": [
    {
     "data": {
      "text/plain": [
       "id                  0\n",
       "name                0\n",
       "location.city       0\n",
       "location.country    0\n",
       "ebikes              0\n",
       "dtype: int64"
      ]
     },
     "execution_count": 160,
     "metadata": {},
     "output_type": "execute_result"
    }
   ],
   "source": [
    "#Again check for null values\n",
    "networks_df.isnull().sum()\n"
   ]
  },
  {
   "cell_type": "markdown",
   "metadata": {},
   "source": [
    "***Note:***  So Now out dataframe does not contains any null values"
   ]
  },
  {
   "cell_type": "code",
   "execution_count": 161,
   "metadata": {},
   "outputs": [
    {
     "data": {
      "text/plain": [
       "False    590\n",
       "dtype: int64"
      ]
     },
     "execution_count": 161,
     "metadata": {},
     "output_type": "execute_result"
    }
   ],
   "source": [
    "# Lets check for duplicate rows\n",
    "networks_df.duplicated().value_counts()"
   ]
  },
  {
   "cell_type": "markdown",
   "metadata": {},
   "source": [
    "***Note:*** So no duplicate records found as no of duplicate rows is represented as 'True' value count"
   ]
  },
  {
   "cell_type": "markdown",
   "metadata": {},
   "source": [
    "***Note:*** Rename the column to give more decent names"
   ]
  },
  {
   "cell_type": "code",
   "execution_count": 162,
   "metadata": {},
   "outputs": [],
   "source": [
    "networks_df.rename(columns={\"id\":\"network_id\",\n",
    "                            \"name\":\"network_name\",\n",
    "                            \"location.city\": \"city\",\n",
    "                            \"location.country\": \"country\"},inplace=True)"
   ]
  },
  {
   "cell_type": "code",
   "execution_count": 163,
   "metadata": {},
   "outputs": [
    {
     "data": {
      "text/html": [
       "<div>\n",
       "<style scoped>\n",
       "    .dataframe tbody tr th:only-of-type {\n",
       "        vertical-align: middle;\n",
       "    }\n",
       "\n",
       "    .dataframe tbody tr th {\n",
       "        vertical-align: top;\n",
       "    }\n",
       "\n",
       "    .dataframe thead th {\n",
       "        text-align: right;\n",
       "    }\n",
       "</style>\n",
       "<table border=\"1\" class=\"dataframe\">\n",
       "  <thead>\n",
       "    <tr style=\"text-align: right;\">\n",
       "      <th></th>\n",
       "      <th>network_id</th>\n",
       "      <th>network_name</th>\n",
       "      <th>city</th>\n",
       "      <th>country</th>\n",
       "      <th>ebikes</th>\n",
       "    </tr>\n",
       "  </thead>\n",
       "  <tbody>\n",
       "    <tr>\n",
       "      <th>0</th>\n",
       "      <td>velobike-moscow</td>\n",
       "      <td>Velobike</td>\n",
       "      <td>Moscow</td>\n",
       "      <td>RU</td>\n",
       "      <td>False</td>\n",
       "    </tr>\n",
       "    <tr>\n",
       "      <th>1</th>\n",
       "      <td>baerum-bysykkel</td>\n",
       "      <td>Bysykkel</td>\n",
       "      <td>Bærum</td>\n",
       "      <td>NO</td>\n",
       "      <td>False</td>\n",
       "    </tr>\n",
       "    <tr>\n",
       "      <th>2</th>\n",
       "      <td>bicincitta-siena</td>\n",
       "      <td>Bicincittà</td>\n",
       "      <td>Siena</td>\n",
       "      <td>IT</td>\n",
       "      <td>False</td>\n",
       "    </tr>\n",
       "    <tr>\n",
       "      <th>3</th>\n",
       "      <td>cyclopolis-maroussi</td>\n",
       "      <td>Cyclopolis</td>\n",
       "      <td>Maroussi</td>\n",
       "      <td>GR</td>\n",
       "      <td>False</td>\n",
       "    </tr>\n",
       "    <tr>\n",
       "      <th>4</th>\n",
       "      <td>cyclopolis-nafplio</td>\n",
       "      <td>Cyclopolis</td>\n",
       "      <td>Nafplio</td>\n",
       "      <td>GR</td>\n",
       "      <td>False</td>\n",
       "    </tr>\n",
       "  </tbody>\n",
       "</table>\n",
       "</div>"
      ],
      "text/plain": [
       "            network_id network_name      city country  ebikes\n",
       "0      velobike-moscow     Velobike    Moscow      RU   False\n",
       "1      baerum-bysykkel     Bysykkel     Bærum      NO   False\n",
       "2     bicincitta-siena   Bicincittà     Siena      IT   False\n",
       "3  cyclopolis-maroussi   Cyclopolis  Maroussi      GR   False\n",
       "4   cyclopolis-nafplio   Cyclopolis   Nafplio      GR   False"
      ]
     },
     "execution_count": 163,
     "metadata": {},
     "output_type": "execute_result"
    }
   ],
   "source": [
    "networks_df.head()"
   ]
  },
  {
   "cell_type": "markdown",
   "metadata": {},
   "source": [
    "***Note:***\n",
    "- At this stage we consider our dataframe cleaned.\n",
    "- Save the cleaned Dataframe into csv file"
   ]
  },
  {
   "cell_type": "code",
   "execution_count": 164,
   "metadata": {},
   "outputs": [],
   "source": [
    "networks_df.to_csv('../data/networks.csv', index=False)"
   ]
  },
  {
   "cell_type": "markdown",
   "metadata": {},
   "source": [
    "***Note:*** Just a quick check for the backup"
   ]
  },
  {
   "cell_type": "code",
   "execution_count": 165,
   "metadata": {},
   "outputs": [
    {
     "name": "stdout",
     "output_type": "stream",
     "text": [
      "<class 'pandas.core.frame.DataFrame'>\n",
      "RangeIndex: 590 entries, 0 to 589\n",
      "Data columns (total 5 columns):\n",
      " #   Column        Non-Null Count  Dtype \n",
      "---  ------        --------------  ----- \n",
      " 0   network_id    590 non-null    object\n",
      " 1   network_name  590 non-null    object\n",
      " 2   city          590 non-null    object\n",
      " 3   country       590 non-null    object\n",
      " 4   ebikes        590 non-null    bool  \n",
      "dtypes: bool(1), object(4)\n",
      "memory usage: 19.1+ KB\n"
     ]
    }
   ],
   "source": [
    "df=pd.read_csv('../data/networks.csv')\n",
    "df.info()"
   ]
  },
  {
   "cell_type": "markdown",
   "metadata": {},
   "source": [
    "***Note:*** It seems perfect"
   ]
  },
  {
   "cell_type": "code",
   "execution_count": 137,
   "metadata": {},
   "outputs": [],
   "source": [
    "#networks_df=df.copy()"
   ]
  },
  {
   "cell_type": "markdown",
   "metadata": {},
   "source": [
    "***Send a request to CityBikes for the city of your choice.***"
   ]
  },
  {
   "cell_type": "code",
   "execution_count": 138,
   "metadata": {},
   "outputs": [],
   "source": [
    "def fetch_stations(network_id,stations):\n",
    "    try:\n",
    "        url=f\"http://api.citybik.es/v2/networks/{network_id}?fields=stations,id\"\n",
    "        headers = {\"accept\": \"application/json\"}\n",
    "        response=requests.get(url,headers=headers)\n",
    "        response.raise_for_status()\n",
    "        data_temp=response.json()\n",
    "        st=pd.json_normalize(data_temp['network']['stations']) #parse the json at stations node\n",
    "        st['network_id']=data_temp['network']['id'] #find the network id and add this to the stations dataframe\n",
    "        stations=pd.concat([stations,st], ignore_index=True)     \n",
    "    except requests.exceptions.HTTPError as errh:\n",
    "        print(\"HTTP Error\")\n",
    "        print(errh.args[0])\n",
    "    else:\n",
    "        print(\"Process Completed for network \", network_id)\n",
    "        return stations\n",
    "\n"
   ]
  },
  {
   "cell_type": "code",
   "execution_count": 139,
   "metadata": {},
   "outputs": [],
   "source": [
    "\n",
    "def fetch_stations_of_city(city):\n",
    "    city_networks=networks_df[networks_df['city'].str.contains(city.strip(),case=False)] \n",
    "     # str convert the DF column to sting as contains work only on str.\n",
    "    # contains checks if 'Paris' exists in as a part of string in city column like it also picks record if city value is 'FR Paris' or something similar\n",
    "    # case is used to go with case insensitive search\n",
    "    stations=pd.DataFrame()\n",
    "    for index, row in city_networks.iterrows():\n",
    "        stations=fetch_stations(row['network_id'],stations)\n",
    "    return stations\n",
    "   "
   ]
  },
  {
   "cell_type": "markdown",
   "metadata": {},
   "source": [
    "- The City of my choice is ***Paris***"
   ]
  },
  {
   "cell_type": "code",
   "execution_count": 166,
   "metadata": {},
   "outputs": [
    {
     "name": "stdout",
     "output_type": "stream",
     "text": [
      "Process Completed for network  velib\n",
      "Process Completed for network  saclay-captainbike\n"
     ]
    },
    {
     "data": {
      "text/html": [
       "<div>\n",
       "<style scoped>\n",
       "    .dataframe tbody tr th:only-of-type {\n",
       "        vertical-align: middle;\n",
       "    }\n",
       "\n",
       "    .dataframe tbody tr th {\n",
       "        vertical-align: top;\n",
       "    }\n",
       "\n",
       "    .dataframe thead th {\n",
       "        text-align: right;\n",
       "    }\n",
       "</style>\n",
       "<table border=\"1\" class=\"dataframe\">\n",
       "  <thead>\n",
       "    <tr style=\"text-align: right;\">\n",
       "      <th></th>\n",
       "      <th>empty_slots</th>\n",
       "      <th>free_bikes</th>\n",
       "      <th>id</th>\n",
       "      <th>latitude</th>\n",
       "      <th>longitude</th>\n",
       "      <th>name</th>\n",
       "      <th>timestamp</th>\n",
       "      <th>extra.banking</th>\n",
       "      <th>extra.ebikes</th>\n",
       "      <th>extra.last_updated</th>\n",
       "      <th>extra.payment-terminal</th>\n",
       "      <th>extra.renting</th>\n",
       "      <th>extra.returning</th>\n",
       "      <th>extra.slots</th>\n",
       "      <th>extra.station_id</th>\n",
       "      <th>extra.uid</th>\n",
       "      <th>extra.payment</th>\n",
       "      <th>network_id</th>\n",
       "      <th>extra.address</th>\n",
       "    </tr>\n",
       "  </thead>\n",
       "  <tbody>\n",
       "    <tr>\n",
       "      <th>0</th>\n",
       "      <td>34</td>\n",
       "      <td>1</td>\n",
       "      <td>78ec9186acd18a0b30bd3156d24b9f8d</td>\n",
       "      <td>48.865983</td>\n",
       "      <td>2.275725</td>\n",
       "      <td>Benjamin Godard - Victor Hugo</td>\n",
       "      <td>2023-09-27T05:19:41.321000Z</td>\n",
       "      <td>False</td>\n",
       "      <td>0.0</td>\n",
       "      <td>1695790722</td>\n",
       "      <td>False</td>\n",
       "      <td>1</td>\n",
       "      <td>1</td>\n",
       "      <td>35</td>\n",
       "      <td>213688169.0</td>\n",
       "      <td>16107</td>\n",
       "      <td>NaN</td>\n",
       "      <td>velib</td>\n",
       "      <td>NaN</td>\n",
       "    </tr>\n",
       "    <tr>\n",
       "      <th>1</th>\n",
       "      <td>51</td>\n",
       "      <td>2</td>\n",
       "      <td>43c856353b954711f2bbee185a1f9d04</td>\n",
       "      <td>48.853756</td>\n",
       "      <td>2.339096</td>\n",
       "      <td>André Mazet - Saint-André des Arts</td>\n",
       "      <td>2023-09-27T05:19:41.255000Z</td>\n",
       "      <td>True</td>\n",
       "      <td>0.0</td>\n",
       "      <td>1695790846</td>\n",
       "      <td>True</td>\n",
       "      <td>1</td>\n",
       "      <td>1</td>\n",
       "      <td>55</td>\n",
       "      <td>99950133.0</td>\n",
       "      <td>6015</td>\n",
       "      <td>[creditcard]</td>\n",
       "      <td>velib</td>\n",
       "      <td>NaN</td>\n",
       "    </tr>\n",
       "    <tr>\n",
       "      <th>2</th>\n",
       "      <td>32</td>\n",
       "      <td>5</td>\n",
       "      <td>9b2700f3b19beb1dd9df2fd6a013789f</td>\n",
       "      <td>48.867872</td>\n",
       "      <td>2.364898</td>\n",
       "      <td>Faubourg Du Temple - Republique</td>\n",
       "      <td>2023-09-27T05:19:38.914000Z</td>\n",
       "      <td>True</td>\n",
       "      <td>1.0</td>\n",
       "      <td>1695791070</td>\n",
       "      <td>True</td>\n",
       "      <td>1</td>\n",
       "      <td>1</td>\n",
       "      <td>38</td>\n",
       "      <td>312165511.0</td>\n",
       "      <td>11037</td>\n",
       "      <td>[creditcard]</td>\n",
       "      <td>velib</td>\n",
       "      <td>NaN</td>\n",
       "    </tr>\n",
       "    <tr>\n",
       "      <th>3</th>\n",
       "      <td>19</td>\n",
       "      <td>1</td>\n",
       "      <td>80778031e1a033712bfc3a27a190d5dd</td>\n",
       "      <td>48.856452</td>\n",
       "      <td>2.334852</td>\n",
       "      <td>Beaux-Arts - Bonaparte</td>\n",
       "      <td>2023-09-27T05:19:39.546000Z</td>\n",
       "      <td>True</td>\n",
       "      <td>1.0</td>\n",
       "      <td>1695790987</td>\n",
       "      <td>True</td>\n",
       "      <td>1</td>\n",
       "      <td>1</td>\n",
       "      <td>20</td>\n",
       "      <td>210405211.0</td>\n",
       "      <td>6021</td>\n",
       "      <td>[creditcard]</td>\n",
       "      <td>velib</td>\n",
       "      <td>NaN</td>\n",
       "    </tr>\n",
       "    <tr>\n",
       "      <th>4</th>\n",
       "      <td>21</td>\n",
       "      <td>0</td>\n",
       "      <td>f8f9ec30d28856f9b7fad103be9e4674</td>\n",
       "      <td>48.879296</td>\n",
       "      <td>2.337360</td>\n",
       "      <td>Toudouze - Clauzel</td>\n",
       "      <td>2023-09-27T05:19:39.655000Z</td>\n",
       "      <td>True</td>\n",
       "      <td>0.0</td>\n",
       "      <td>1695790999</td>\n",
       "      <td>True</td>\n",
       "      <td>1</td>\n",
       "      <td>1</td>\n",
       "      <td>21</td>\n",
       "      <td>36255.0</td>\n",
       "      <td>9020</td>\n",
       "      <td>[creditcard]</td>\n",
       "      <td>velib</td>\n",
       "      <td>NaN</td>\n",
       "    </tr>\n",
       "  </tbody>\n",
       "</table>\n",
       "</div>"
      ],
      "text/plain": [
       "   empty_slots  free_bikes                                id   latitude  \\\n",
       "0           34           1  78ec9186acd18a0b30bd3156d24b9f8d  48.865983   \n",
       "1           51           2  43c856353b954711f2bbee185a1f9d04  48.853756   \n",
       "2           32           5  9b2700f3b19beb1dd9df2fd6a013789f  48.867872   \n",
       "3           19           1  80778031e1a033712bfc3a27a190d5dd  48.856452   \n",
       "4           21           0  f8f9ec30d28856f9b7fad103be9e4674  48.879296   \n",
       "\n",
       "   longitude                                name                    timestamp  \\\n",
       "0   2.275725       Benjamin Godard - Victor Hugo  2023-09-27T05:19:41.321000Z   \n",
       "1   2.339096  André Mazet - Saint-André des Arts  2023-09-27T05:19:41.255000Z   \n",
       "2   2.364898     Faubourg Du Temple - Republique  2023-09-27T05:19:38.914000Z   \n",
       "3   2.334852              Beaux-Arts - Bonaparte  2023-09-27T05:19:39.546000Z   \n",
       "4   2.337360                  Toudouze - Clauzel  2023-09-27T05:19:39.655000Z   \n",
       "\n",
       "  extra.banking  extra.ebikes  extra.last_updated extra.payment-terminal  \\\n",
       "0         False           0.0          1695790722                  False   \n",
       "1          True           0.0          1695790846                   True   \n",
       "2          True           1.0          1695791070                   True   \n",
       "3          True           1.0          1695790987                   True   \n",
       "4          True           0.0          1695790999                   True   \n",
       "\n",
       "   extra.renting  extra.returning  extra.slots  extra.station_id extra.uid  \\\n",
       "0              1                1           35       213688169.0     16107   \n",
       "1              1                1           55        99950133.0      6015   \n",
       "2              1                1           38       312165511.0     11037   \n",
       "3              1                1           20       210405211.0      6021   \n",
       "4              1                1           21           36255.0      9020   \n",
       "\n",
       "  extra.payment network_id extra.address  \n",
       "0           NaN      velib           NaN  \n",
       "1  [creditcard]      velib           NaN  \n",
       "2  [creditcard]      velib           NaN  \n",
       "3  [creditcard]      velib           NaN  \n",
       "4  [creditcard]      velib           NaN  "
      ]
     },
     "execution_count": 166,
     "metadata": {},
     "output_type": "execute_result"
    }
   ],
   "source": [
    "city='Paris'\n",
    "stations=fetch_stations_of_city(city)\n",
    "stations.head()"
   ]
  },
  {
   "cell_type": "markdown",
   "metadata": {},
   "source": [
    "***Note:*** save this data into csv file for backup"
   ]
  },
  {
   "cell_type": "code",
   "execution_count": 167,
   "metadata": {},
   "outputs": [],
   "source": [
    "stations.to_csv('../data/raw_stations.csv', index=False)"
   ]
  },
  {
   "cell_type": "markdown",
   "metadata": {},
   "source": [
    "***Parse through the response to get the details you want for the bike stations in that city (latitude, longitude, number of bikes).***"
   ]
  },
  {
   "cell_type": "markdown",
   "metadata": {},
   "source": [
    "***Note:*** we will create a new DataFrame having only the fields of interest to make it simple and easy. Later on at any point if we find the requirement of any other column we can import it from the raw_stations backup"
   ]
  },
  {
   "cell_type": "code",
   "execution_count": 168,
   "metadata": {},
   "outputs": [
    {
     "data": {
      "text/plain": [
       "Index(['empty_slots', 'free_bikes', 'id', 'latitude', 'longitude', 'name',\n",
       "       'timestamp', 'extra.banking', 'extra.ebikes', 'extra.last_updated',\n",
       "       'extra.payment-terminal', 'extra.renting', 'extra.returning',\n",
       "       'extra.slots', 'extra.station_id', 'extra.uid', 'extra.payment',\n",
       "       'network_id', 'extra.address'],\n",
       "      dtype='object')"
      ]
     },
     "execution_count": 168,
     "metadata": {},
     "output_type": "execute_result"
    }
   ],
   "source": [
    "stations.columns #display the columns and fetch only the required ones"
   ]
  },
  {
   "cell_type": "code",
   "execution_count": 174,
   "metadata": {},
   "outputs": [
    {
     "data": {
      "text/html": [
       "<div>\n",
       "<style scoped>\n",
       "    .dataframe tbody tr th:only-of-type {\n",
       "        vertical-align: middle;\n",
       "    }\n",
       "\n",
       "    .dataframe tbody tr th {\n",
       "        vertical-align: top;\n",
       "    }\n",
       "\n",
       "    .dataframe thead th {\n",
       "        text-align: right;\n",
       "    }\n",
       "</style>\n",
       "<table border=\"1\" class=\"dataframe\">\n",
       "  <thead>\n",
       "    <tr style=\"text-align: right;\">\n",
       "      <th></th>\n",
       "      <th>id</th>\n",
       "      <th>name</th>\n",
       "      <th>latitude</th>\n",
       "      <th>longitude</th>\n",
       "      <th>free_bikes</th>\n",
       "      <th>network_id</th>\n",
       "    </tr>\n",
       "  </thead>\n",
       "  <tbody>\n",
       "    <tr>\n",
       "      <th>0</th>\n",
       "      <td>78ec9186acd18a0b30bd3156d24b9f8d</td>\n",
       "      <td>Benjamin Godard - Victor Hugo</td>\n",
       "      <td>48.865983</td>\n",
       "      <td>2.275725</td>\n",
       "      <td>1</td>\n",
       "      <td>velib</td>\n",
       "    </tr>\n",
       "    <tr>\n",
       "      <th>1</th>\n",
       "      <td>43c856353b954711f2bbee185a1f9d04</td>\n",
       "      <td>André Mazet - Saint-André des Arts</td>\n",
       "      <td>48.853756</td>\n",
       "      <td>2.339096</td>\n",
       "      <td>2</td>\n",
       "      <td>velib</td>\n",
       "    </tr>\n",
       "    <tr>\n",
       "      <th>2</th>\n",
       "      <td>9b2700f3b19beb1dd9df2fd6a013789f</td>\n",
       "      <td>Faubourg Du Temple - Republique</td>\n",
       "      <td>48.867872</td>\n",
       "      <td>2.364898</td>\n",
       "      <td>5</td>\n",
       "      <td>velib</td>\n",
       "    </tr>\n",
       "    <tr>\n",
       "      <th>3</th>\n",
       "      <td>80778031e1a033712bfc3a27a190d5dd</td>\n",
       "      <td>Beaux-Arts - Bonaparte</td>\n",
       "      <td>48.856452</td>\n",
       "      <td>2.334852</td>\n",
       "      <td>1</td>\n",
       "      <td>velib</td>\n",
       "    </tr>\n",
       "    <tr>\n",
       "      <th>4</th>\n",
       "      <td>f8f9ec30d28856f9b7fad103be9e4674</td>\n",
       "      <td>Toudouze - Clauzel</td>\n",
       "      <td>48.879296</td>\n",
       "      <td>2.337360</td>\n",
       "      <td>0</td>\n",
       "      <td>velib</td>\n",
       "    </tr>\n",
       "  </tbody>\n",
       "</table>\n",
       "</div>"
      ],
      "text/plain": [
       "                                 id                                name  \\\n",
       "0  78ec9186acd18a0b30bd3156d24b9f8d       Benjamin Godard - Victor Hugo   \n",
       "1  43c856353b954711f2bbee185a1f9d04  André Mazet - Saint-André des Arts   \n",
       "2  9b2700f3b19beb1dd9df2fd6a013789f     Faubourg Du Temple - Republique   \n",
       "3  80778031e1a033712bfc3a27a190d5dd              Beaux-Arts - Bonaparte   \n",
       "4  f8f9ec30d28856f9b7fad103be9e4674                  Toudouze - Clauzel   \n",
       "\n",
       "    latitude  longitude  free_bikes network_id  \n",
       "0  48.865983   2.275725           1      velib  \n",
       "1  48.853756   2.339096           2      velib  \n",
       "2  48.867872   2.364898           5      velib  \n",
       "3  48.856452   2.334852           1      velib  \n",
       "4  48.879296   2.337360           0      velib  "
      ]
     },
     "execution_count": 174,
     "metadata": {},
     "output_type": "execute_result"
    }
   ],
   "source": [
    "stations_df=stations[['id','name','latitude', 'longitude', 'free_bikes','network_id']].copy()\n",
    "stations_df.head()"
   ]
  },
  {
   "cell_type": "markdown",
   "metadata": {},
   "source": [
    "***Put your parsed results into a DataFrame.***"
   ]
  },
  {
   "cell_type": "code",
   "execution_count": 144,
   "metadata": {},
   "outputs": [],
   "source": [
    "# first lets do some exploration and cleaning"
   ]
  },
  {
   "cell_type": "code",
   "execution_count": 175,
   "metadata": {},
   "outputs": [],
   "source": [
    "stations_df.rename(columns={\"id\": \"station_id\",\"name\":\"station\", \"free_bikes\": \"no_of_bikes\"},inplace=True)"
   ]
  },
  {
   "cell_type": "code",
   "execution_count": 176,
   "metadata": {},
   "outputs": [
    {
     "name": "stdout",
     "output_type": "stream",
     "text": [
      "<class 'pandas.core.frame.DataFrame'>\n",
      "RangeIndex: 1459 entries, 0 to 1458\n",
      "Data columns (total 6 columns):\n",
      " #   Column       Non-Null Count  Dtype  \n",
      "---  ------       --------------  -----  \n",
      " 0   station_id   1459 non-null   object \n",
      " 1   station      1459 non-null   object \n",
      " 2   latitude     1459 non-null   float64\n",
      " 3   longitude    1459 non-null   float64\n",
      " 4   no_of_bikes  1459 non-null   int64  \n",
      " 5   network_id   1459 non-null   object \n",
      "dtypes: float64(2), int64(1), object(3)\n",
      "memory usage: 68.5+ KB\n"
     ]
    }
   ],
   "source": [
    "stations_df.info()"
   ]
  },
  {
   "cell_type": "markdown",
   "metadata": {},
   "source": [
    "***Note:*** The above data shows there is no null or missing values. For now we consider it clean and save the data in csv for future use."
   ]
  },
  {
   "cell_type": "code",
   "execution_count": 177,
   "metadata": {},
   "outputs": [],
   "source": [
    "stations_df.to_csv('../data/paris_stations.csv', index=False) #data about only city named Paris"
   ]
  },
  {
   "cell_type": "code",
   "execution_count": null,
   "metadata": {},
   "outputs": [],
   "source": []
  }
 ],
 "metadata": {
  "kernelspec": {
   "display_name": "Python 3 (ipykernel)",
   "language": "python",
   "name": "python3"
  },
  "language_info": {
   "codemirror_mode": {
    "name": "ipython",
    "version": 3
   },
   "file_extension": ".py",
   "mimetype": "text/x-python",
   "name": "python",
   "nbconvert_exporter": "python",
   "pygments_lexer": "ipython3",
   "version": "3.9.13"
  }
 },
 "nbformat": 4,
 "nbformat_minor": 4
}
