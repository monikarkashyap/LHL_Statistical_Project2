{
 "cells": [
  {
   "cell_type": "markdown",
   "metadata": {},
   "source": [
    "***Data Source1:  [Foursquare](https://developer.foursquare.com/places) API***"
   ]
  },
  {
   "cell_type": "markdown",
   "metadata": {},
   "source": [
    "***Data Source2: [Yelp](https://www.yelp.com/developers/documentation/v3/get_started) API***"
   ]
  },
  {
   "cell_type": "markdown",
   "metadata": {},
   "source": [
    "***Data Source3:  [CityBikes](https://citybik.es/) API***"
   ]
  },
  {
   "cell_type": "code",
   "execution_count": 2,
   "metadata": {},
   "outputs": [],
   "source": [
    "# imports\n",
    "import pandas as pd\n",
    "import requests\n",
    "import os\n",
    "import time"
   ]
  },
  {
   "cell_type": "markdown",
   "metadata": {},
   "source": [
    "# Foursquare"
   ]
  },
  {
   "cell_type": "code",
   "execution_count": 3,
   "metadata": {},
   "outputs": [],
   "source": [
    "#foursquare requires an authorization key. it is a best prectice to save this key in environment variable\n",
    "# Lets fetch that key from system using os library\n",
    "FOURSQUARE_KEY = os.getenv('FOURSQUARE_API_KEY')"
   ]
  },
  {
   "cell_type": "markdown",
   "metadata": {},
   "source": [
    "***Send a request to Foursquare with a small radius (1000m) for all the bike stations in your city of choice.***"
   ]
  },
  {
   "cell_type": "code",
   "execution_count": 299,
   "metadata": {},
   "outputs": [
    {
     "data": {
      "text/html": [
       "<div>\n",
       "<style scoped>\n",
       "    .dataframe tbody tr th:only-of-type {\n",
       "        vertical-align: middle;\n",
       "    }\n",
       "\n",
       "    .dataframe tbody tr th {\n",
       "        vertical-align: top;\n",
       "    }\n",
       "\n",
       "    .dataframe thead th {\n",
       "        text-align: right;\n",
       "    }\n",
       "</style>\n",
       "<table border=\"1\" class=\"dataframe\">\n",
       "  <thead>\n",
       "    <tr style=\"text-align: right;\">\n",
       "      <th></th>\n",
       "      <th>station_id</th>\n",
       "      <th>station</th>\n",
       "      <th>latitude</th>\n",
       "      <th>longitude</th>\n",
       "      <th>no_of_bikes</th>\n",
       "      <th>network_id</th>\n",
       "    </tr>\n",
       "  </thead>\n",
       "  <tbody>\n",
       "    <tr>\n",
       "      <th>0</th>\n",
       "      <td>78ec9186acd18a0b30bd3156d24b9f8d</td>\n",
       "      <td>Benjamin Godard - Victor Hugo</td>\n",
       "      <td>48.865983</td>\n",
       "      <td>2.275725</td>\n",
       "      <td>1</td>\n",
       "      <td>velib</td>\n",
       "    </tr>\n",
       "    <tr>\n",
       "      <th>1</th>\n",
       "      <td>43c856353b954711f2bbee185a1f9d04</td>\n",
       "      <td>André Mazet - Saint-André des Arts</td>\n",
       "      <td>48.853756</td>\n",
       "      <td>2.339096</td>\n",
       "      <td>2</td>\n",
       "      <td>velib</td>\n",
       "    </tr>\n",
       "    <tr>\n",
       "      <th>2</th>\n",
       "      <td>9b2700f3b19beb1dd9df2fd6a013789f</td>\n",
       "      <td>Faubourg Du Temple - Republique</td>\n",
       "      <td>48.867872</td>\n",
       "      <td>2.364898</td>\n",
       "      <td>5</td>\n",
       "      <td>velib</td>\n",
       "    </tr>\n",
       "    <tr>\n",
       "      <th>3</th>\n",
       "      <td>80778031e1a033712bfc3a27a190d5dd</td>\n",
       "      <td>Beaux-Arts - Bonaparte</td>\n",
       "      <td>48.856452</td>\n",
       "      <td>2.334852</td>\n",
       "      <td>1</td>\n",
       "      <td>velib</td>\n",
       "    </tr>\n",
       "    <tr>\n",
       "      <th>4</th>\n",
       "      <td>f8f9ec30d28856f9b7fad103be9e4674</td>\n",
       "      <td>Toudouze - Clauzel</td>\n",
       "      <td>48.879296</td>\n",
       "      <td>2.337360</td>\n",
       "      <td>0</td>\n",
       "      <td>velib</td>\n",
       "    </tr>\n",
       "  </tbody>\n",
       "</table>\n",
       "</div>"
      ],
      "text/plain": [
       "                         station_id                             station  \\\n",
       "0  78ec9186acd18a0b30bd3156d24b9f8d       Benjamin Godard - Victor Hugo   \n",
       "1  43c856353b954711f2bbee185a1f9d04  André Mazet - Saint-André des Arts   \n",
       "2  9b2700f3b19beb1dd9df2fd6a013789f     Faubourg Du Temple - Republique   \n",
       "3  80778031e1a033712bfc3a27a190d5dd              Beaux-Arts - Bonaparte   \n",
       "4  f8f9ec30d28856f9b7fad103be9e4674                  Toudouze - Clauzel   \n",
       "\n",
       "    latitude  longitude  no_of_bikes network_id  \n",
       "0  48.865983   2.275725            1      velib  \n",
       "1  48.853756   2.339096            2      velib  \n",
       "2  48.867872   2.364898            5      velib  \n",
       "3  48.856452   2.334852            1      velib  \n",
       "4  48.879296   2.337360            0      velib  "
      ]
     },
     "execution_count": 299,
     "metadata": {},
     "output_type": "execute_result"
    }
   ],
   "source": [
    "stations_df=pd.read_csv('../data/paris_stations.csv') # load the stations from the csv file\n",
    "stations_df.head()"
   ]
  },
  {
   "cell_type": "code",
   "execution_count": 24,
   "metadata": {},
   "outputs": [],
   "source": [
    "def fetch_foursquare(latitude, longitude, radius, api_key): \n",
    "    '''\n",
    "        Funtion to fetch the foursquare places according to latitude and longitude\n",
    "    '''\n",
    "    try:\n",
    "        url = \"https://api.foursquare.com/v3/places/search\"\n",
    "        headers = {\"accept\": \"application/json\",\n",
    "               \"Authorization\": api_key}\n",
    "        params = {\n",
    "            \"ll\": f\"{latitude},{longitude}\",\n",
    "            \"radius\": radius,\n",
    "            \"fields\": \"fsq_id,name,categories,rating,popularity,price,geocodes\",\n",
    "            \"sort\": \"rating\"\n",
    "        }\n",
    "        response = requests.get(url, headers=headers,params=params)\n",
    "        response.raise_for_status()\n",
    "        return response\n",
    "    except requests.exceptions.HTTPError as errh:\n",
    "        print(\"HTTP Error\")\n",
    "        print(errh.args[0])\n",
    "   "
   ]
  },
  {
   "cell_type": "code",
   "execution_count": 29,
   "metadata": {},
   "outputs": [],
   "source": [
    "def fetch_foursquare_of_city():\n",
    "    ''' \n",
    "        Function to iterate all the stations of city Paris and retrive the foursquare places from (fetch_foursquare) function\n",
    "    '''\n",
    "    places=pd.DataFrame()\n",
    "    try:\n",
    "        temp_counter=0\n",
    "        for index, row in stations_df.iterrows():\n",
    "            if temp_counter%20==0:\n",
    "                time.sleep(2) #wait for 2 sec\n",
    "            temp_counter=temp_counter+1\n",
    "            res = fetch_foursquare(latitude=row['latitude'], longitude=row['longitude'], radius=1000, api_key=FOURSQUARE_KEY) \n",
    "            df=pd.json_normalize(res.json()['results'])\n",
    "            df['station']=row['station']\n",
    "            places=pd.concat([places,df], ignore_index=True)\n",
    "    except:\n",
    "        print(\"Error occured\")\n",
    "    else:\n",
    "        print(\"Process Completed\")\n",
    "    return places\n"
   ]
  },
  {
   "cell_type": "code",
   "execution_count": 30,
   "metadata": {},
   "outputs": [
    {
     "name": "stdout",
     "output_type": "stream",
     "text": [
      "Process Completed\n"
     ]
    },
    {
     "data": {
      "text/html": [
       "<div>\n",
       "<style scoped>\n",
       "    .dataframe tbody tr th:only-of-type {\n",
       "        vertical-align: middle;\n",
       "    }\n",
       "\n",
       "    .dataframe tbody tr th {\n",
       "        vertical-align: top;\n",
       "    }\n",
       "\n",
       "    .dataframe thead th {\n",
       "        text-align: right;\n",
       "    }\n",
       "</style>\n",
       "<table border=\"1\" class=\"dataframe\">\n",
       "  <thead>\n",
       "    <tr style=\"text-align: right;\">\n",
       "      <th></th>\n",
       "      <th>fsq_id</th>\n",
       "      <th>categories</th>\n",
       "      <th>name</th>\n",
       "      <th>popularity</th>\n",
       "      <th>rating</th>\n",
       "      <th>geocodes.main.latitude</th>\n",
       "      <th>geocodes.main.longitude</th>\n",
       "      <th>geocodes.roof.latitude</th>\n",
       "      <th>geocodes.roof.longitude</th>\n",
       "      <th>price</th>\n",
       "      <th>geocodes.drop_off.latitude</th>\n",
       "      <th>geocodes.drop_off.longitude</th>\n",
       "      <th>station</th>\n",
       "      <th>geocodes.front_door.latitude</th>\n",
       "      <th>geocodes.front_door.longitude</th>\n",
       "    </tr>\n",
       "  </thead>\n",
       "  <tbody>\n",
       "    <tr>\n",
       "      <th>0</th>\n",
       "      <td>4bb381b7eb3e9521d738cb0a</td>\n",
       "      <td>[{'id': 16041, 'name': 'Plaza', 'icon': {'pref...</td>\n",
       "      <td>Place du Trocadéro</td>\n",
       "      <td>0.999984</td>\n",
       "      <td>9.4</td>\n",
       "      <td>48.861949</td>\n",
       "      <td>2.287887</td>\n",
       "      <td>48.861949</td>\n",
       "      <td>2.287887</td>\n",
       "      <td>NaN</td>\n",
       "      <td>NaN</td>\n",
       "      <td>NaN</td>\n",
       "      <td>Benjamin Godard - Victor Hugo</td>\n",
       "      <td>NaN</td>\n",
       "      <td>NaN</td>\n",
       "    </tr>\n",
       "    <tr>\n",
       "      <th>1</th>\n",
       "      <td>5bd848f89de23b003984d7a9</td>\n",
       "      <td>[{'id': 13236, 'name': 'Italian Restaurant', '...</td>\n",
       "      <td>Marzo Rive Droite</td>\n",
       "      <td>0.969506</td>\n",
       "      <td>9.1</td>\n",
       "      <td>48.867113</td>\n",
       "      <td>2.287484</td>\n",
       "      <td>48.867113</td>\n",
       "      <td>2.287484</td>\n",
       "      <td>2.0</td>\n",
       "      <td>NaN</td>\n",
       "      <td>NaN</td>\n",
       "      <td>Benjamin Godard - Victor Hugo</td>\n",
       "      <td>NaN</td>\n",
       "      <td>NaN</td>\n",
       "    </tr>\n",
       "    <tr>\n",
       "      <th>2</th>\n",
       "      <td>4adcda10f964a5209a3521e3</td>\n",
       "      <td>[{'id': 10027, 'name': 'Museum', 'icon': {'pre...</td>\n",
       "      <td>Musée Marmottan Monet</td>\n",
       "      <td>0.993032</td>\n",
       "      <td>9.1</td>\n",
       "      <td>48.859320</td>\n",
       "      <td>2.267321</td>\n",
       "      <td>48.859254</td>\n",
       "      <td>2.267410</td>\n",
       "      <td>NaN</td>\n",
       "      <td>NaN</td>\n",
       "      <td>NaN</td>\n",
       "      <td>Benjamin Godard - Victor Hugo</td>\n",
       "      <td>NaN</td>\n",
       "      <td>NaN</td>\n",
       "    </tr>\n",
       "    <tr>\n",
       "      <th>3</th>\n",
       "      <td>5b61826df193c0002cfec9d5</td>\n",
       "      <td>[{'id': 13065, 'name': 'Restaurant', 'icon': {...</td>\n",
       "      <td>La Suite Girafe</td>\n",
       "      <td>0.999502</td>\n",
       "      <td>9.0</td>\n",
       "      <td>48.861949</td>\n",
       "      <td>2.287887</td>\n",
       "      <td>48.861949</td>\n",
       "      <td>2.287887</td>\n",
       "      <td>NaN</td>\n",
       "      <td>NaN</td>\n",
       "      <td>NaN</td>\n",
       "      <td>Benjamin Godard - Victor Hugo</td>\n",
       "      <td>NaN</td>\n",
       "      <td>NaN</td>\n",
       "    </tr>\n",
       "    <tr>\n",
       "      <th>4</th>\n",
       "      <td>4adcda14f964a5203a3721e3</td>\n",
       "      <td>[{'id': 13036, 'name': 'Tea Room', 'icon': {'p...</td>\n",
       "      <td>Carette</td>\n",
       "      <td>0.999974</td>\n",
       "      <td>9.0</td>\n",
       "      <td>48.863666</td>\n",
       "      <td>2.287205</td>\n",
       "      <td>48.863666</td>\n",
       "      <td>2.287205</td>\n",
       "      <td>3.0</td>\n",
       "      <td>NaN</td>\n",
       "      <td>NaN</td>\n",
       "      <td>Benjamin Godard - Victor Hugo</td>\n",
       "      <td>NaN</td>\n",
       "      <td>NaN</td>\n",
       "    </tr>\n",
       "  </tbody>\n",
       "</table>\n",
       "</div>"
      ],
      "text/plain": [
       "                     fsq_id  \\\n",
       "0  4bb381b7eb3e9521d738cb0a   \n",
       "1  5bd848f89de23b003984d7a9   \n",
       "2  4adcda10f964a5209a3521e3   \n",
       "3  5b61826df193c0002cfec9d5   \n",
       "4  4adcda14f964a5203a3721e3   \n",
       "\n",
       "                                          categories                   name  \\\n",
       "0  [{'id': 16041, 'name': 'Plaza', 'icon': {'pref...     Place du Trocadéro   \n",
       "1  [{'id': 13236, 'name': 'Italian Restaurant', '...      Marzo Rive Droite   \n",
       "2  [{'id': 10027, 'name': 'Museum', 'icon': {'pre...  Musée Marmottan Monet   \n",
       "3  [{'id': 13065, 'name': 'Restaurant', 'icon': {...        La Suite Girafe   \n",
       "4  [{'id': 13036, 'name': 'Tea Room', 'icon': {'p...                Carette   \n",
       "\n",
       "   popularity  rating  geocodes.main.latitude  geocodes.main.longitude  \\\n",
       "0    0.999984     9.4               48.861949                 2.287887   \n",
       "1    0.969506     9.1               48.867113                 2.287484   \n",
       "2    0.993032     9.1               48.859320                 2.267321   \n",
       "3    0.999502     9.0               48.861949                 2.287887   \n",
       "4    0.999974     9.0               48.863666                 2.287205   \n",
       "\n",
       "   geocodes.roof.latitude  geocodes.roof.longitude  price  \\\n",
       "0               48.861949                 2.287887    NaN   \n",
       "1               48.867113                 2.287484    2.0   \n",
       "2               48.859254                 2.267410    NaN   \n",
       "3               48.861949                 2.287887    NaN   \n",
       "4               48.863666                 2.287205    3.0   \n",
       "\n",
       "   geocodes.drop_off.latitude  geocodes.drop_off.longitude  \\\n",
       "0                         NaN                          NaN   \n",
       "1                         NaN                          NaN   \n",
       "2                         NaN                          NaN   \n",
       "3                         NaN                          NaN   \n",
       "4                         NaN                          NaN   \n",
       "\n",
       "                         station  geocodes.front_door.latitude  \\\n",
       "0  Benjamin Godard - Victor Hugo                           NaN   \n",
       "1  Benjamin Godard - Victor Hugo                           NaN   \n",
       "2  Benjamin Godard - Victor Hugo                           NaN   \n",
       "3  Benjamin Godard - Victor Hugo                           NaN   \n",
       "4  Benjamin Godard - Victor Hugo                           NaN   \n",
       "\n",
       "   geocodes.front_door.longitude  \n",
       "0                            NaN  \n",
       "1                            NaN  \n",
       "2                            NaN  \n",
       "3                            NaN  \n",
       "4                            NaN  "
      ]
     },
     "execution_count": 30,
     "metadata": {},
     "output_type": "execute_result"
    }
   ],
   "source": [
    "places=fetch_foursquare_of_city() #It may takes some time to finish\n",
    "places.head() \n",
    "    "
   ]
  },
  {
   "cell_type": "code",
   "execution_count": 32,
   "metadata": {},
   "outputs": [
    {
     "data": {
      "text/plain": [
       "(14580, 15)"
      ]
     },
     "execution_count": 32,
     "metadata": {},
     "output_type": "execute_result"
    }
   ],
   "source": [
    "places.shape"
   ]
  },
  {
   "cell_type": "markdown",
   "metadata": {},
   "source": [
    "***Note:*** \n",
    "- We set a sleep time to 2 second to hault the query process after few queries as API have some sort of Rate Limit set.This timer is to make sure our process would not exceed the limit in any case.\n",
    "- Save this DataFrame into csv file to avoid requering the API again"
   ]
  },
  {
   "cell_type": "code",
   "execution_count": 31,
   "metadata": {},
   "outputs": [],
   "source": [
    "places.to_csv('../data/raw_places.csv', index=False)"
   ]
  },
  {
   "cell_type": "code",
   "execution_count": 33,
   "metadata": {},
   "outputs": [],
   "source": [
    "#places=pd.read_csv('../data/raw_places.csv')\n"
   ]
  },
  {
   "cell_type": "markdown",
   "metadata": {},
   "source": [
    "***Parse through the response to get the POI (such as restaurants, bars, etc) details you want (ratings, name, location, etc)***"
   ]
  },
  {
   "cell_type": "code",
   "execution_count": 35,
   "metadata": {},
   "outputs": [
    {
     "data": {
      "text/plain": [
       "Index(['fsq_id', 'categories', 'name', 'popularity', 'rating',\n",
       "       'geocodes.main.latitude', 'geocodes.main.longitude',\n",
       "       'geocodes.roof.latitude', 'geocodes.roof.longitude', 'price',\n",
       "       'geocodes.drop_off.latitude', 'geocodes.drop_off.longitude', 'station',\n",
       "       'geocodes.front_door.latitude', 'geocodes.front_door.longitude'],\n",
       "      dtype='object')"
      ]
     },
     "execution_count": 35,
     "metadata": {},
     "output_type": "execute_result"
    }
   ],
   "source": [
    "places.columns"
   ]
  },
  {
   "cell_type": "code",
   "execution_count": null,
   "metadata": {},
   "outputs": [],
   "source": [
    "# Cleaning places dataset"
   ]
  },
  {
   "cell_type": "code",
   "execution_count": 36,
   "metadata": {},
   "outputs": [],
   "source": [
    "places.drop(['geocodes.roof.latitude','geocodes.roof.longitude',\n",
    "             'geocodes.drop_off.latitude', 'geocodes.drop_off.longitude',\n",
    "             'geocodes.front_door.latitude', 'geocodes.front_door.longitude'], axis=1,inplace=True)"
   ]
  },
  {
   "cell_type": "code",
   "execution_count": 38,
   "metadata": {},
   "outputs": [],
   "source": [
    "places.rename(columns={'geocodes.main.latitude':'latitude','geocodes.main.longitude':'longitude'},inplace=True)"
   ]
  },
  {
   "cell_type": "code",
   "execution_count": 39,
   "metadata": {},
   "outputs": [
    {
     "data": {
      "text/plain": [
       "Index(['fsq_id', 'categories', 'name', 'popularity', 'rating', 'latitude',\n",
       "       'longitude', 'price', 'station'],\n",
       "      dtype='object')"
      ]
     },
     "execution_count": 39,
     "metadata": {},
     "output_type": "execute_result"
    }
   ],
   "source": [
    "places.columns"
   ]
  },
  {
   "cell_type": "code",
   "execution_count": 40,
   "metadata": {},
   "outputs": [],
   "source": [
    "places.drop_duplicates(subset=places.columns.difference(['station']),inplace=True)# drop the duplicate rows from the dataset"
   ]
  },
  {
   "cell_type": "markdown",
   "metadata": {},
   "source": [
    "***Note:*** we exclude station column from the duplicates filter as this column is inserted by us therefore could contain diffrent value for duplicate records from the API"
   ]
  },
  {
   "cell_type": "code",
   "execution_count": 41,
   "metadata": {},
   "outputs": [
    {
     "data": {
      "text/plain": [
       "(2318, 9)"
      ]
     },
     "execution_count": 41,
     "metadata": {},
     "output_type": "execute_result"
    }
   ],
   "source": [
    "places.shape"
   ]
  },
  {
   "cell_type": "markdown",
   "metadata": {},
   "source": [
    "***Note:*** we can see that shape of the places dataset changed drastically. That means most of the records from the API were duplicate."
   ]
  },
  {
   "cell_type": "code",
   "execution_count": null,
   "metadata": {},
   "outputs": [],
   "source": [
    "# check for missing values"
   ]
  },
  {
   "cell_type": "code",
   "execution_count": 42,
   "metadata": {},
   "outputs": [
    {
     "name": "stdout",
     "output_type": "stream",
     "text": [
      "<class 'pandas.core.frame.DataFrame'>\n",
      "Int64Index: 2318 entries, 0 to 14579\n",
      "Data columns (total 9 columns):\n",
      " #   Column      Non-Null Count  Dtype  \n",
      "---  ------      --------------  -----  \n",
      " 0   fsq_id      2318 non-null   object \n",
      " 1   categories  2318 non-null   object \n",
      " 2   name        2318 non-null   object \n",
      " 3   popularity  2318 non-null   float64\n",
      " 4   rating      1621 non-null   float64\n",
      " 5   latitude    2318 non-null   float64\n",
      " 6   longitude   2318 non-null   float64\n",
      " 7   price       917 non-null    float64\n",
      " 8   station     2318 non-null   object \n",
      "dtypes: float64(5), object(4)\n",
      "memory usage: 181.1+ KB\n"
     ]
    }
   ],
   "source": [
    "places.info()"
   ]
  },
  {
   "cell_type": "markdown",
   "metadata": {},
   "source": [
    "***Note:*** The above summary shows that the column 'rating' and 'price' have some null values as their non-null count is less than the total no of rows in dataset.\n",
    "- Also as both of these columns are numeric columns so we can easily fill the missing values with 0"
   ]
  },
  {
   "cell_type": "code",
   "execution_count": 43,
   "metadata": {},
   "outputs": [],
   "source": [
    "places['rating'].fillna(0,inplace=True) # fill the null value with 0"
   ]
  },
  {
   "cell_type": "code",
   "execution_count": 44,
   "metadata": {},
   "outputs": [],
   "source": [
    "places['price'].fillna(0,inplace=True)"
   ]
  },
  {
   "cell_type": "code",
   "execution_count": 45,
   "metadata": {},
   "outputs": [
    {
     "name": "stdout",
     "output_type": "stream",
     "text": [
      "<class 'pandas.core.frame.DataFrame'>\n",
      "Int64Index: 2318 entries, 0 to 14579\n",
      "Data columns (total 9 columns):\n",
      " #   Column      Non-Null Count  Dtype  \n",
      "---  ------      --------------  -----  \n",
      " 0   fsq_id      2318 non-null   object \n",
      " 1   categories  2318 non-null   object \n",
      " 2   name        2318 non-null   object \n",
      " 3   popularity  2318 non-null   float64\n",
      " 4   rating      2318 non-null   float64\n",
      " 5   latitude    2318 non-null   float64\n",
      " 6   longitude   2318 non-null   float64\n",
      " 7   price       2318 non-null   float64\n",
      " 8   station     2318 non-null   object \n",
      "dtypes: float64(5), object(4)\n",
      "memory usage: 181.1+ KB\n"
     ]
    }
   ],
   "source": [
    "places.info() #perfect"
   ]
  },
  {
   "cell_type": "code",
   "execution_count": null,
   "metadata": {},
   "outputs": [],
   "source": [
    "#Normalizing the categories as these are in the form of a list in places DF"
   ]
  },
  {
   "cell_type": "code",
   "execution_count": 48,
   "metadata": {},
   "outputs": [
    {
     "data": {
      "text/plain": [
       "4bb381b7eb3e9521d738cb0a    1\n",
       "52b7fc67498e98b1c15f59cd    1\n",
       "57122311498e1a08e988a1cf    1\n",
       "4b8772c8f964a52094bf31e3    1\n",
       "51c18854498efff560dadcf5    1\n",
       "                           ..\n",
       "4bd1726841b9ef3bececfbe5    1\n",
       "5eb335371e10f900071bd05c    1\n",
       "5e0b7752ee0f6000087107eb    1\n",
       "bc8ac35839524d52f0169f9b    1\n",
       "4b0b081af964a520e42b23e3    1\n",
       "Name: fsq_id, Length: 2318, dtype: int64"
      ]
     },
     "execution_count": 48,
     "metadata": {},
     "output_type": "execute_result"
    }
   ],
   "source": [
    "places['fsq_id'].value_counts() # counts the unique values in a column and group it"
   ]
  },
  {
   "cell_type": "markdown",
   "metadata": {},
   "source": [
    "***Note:*** Above output shows that fsq_id is unique throughout the dataset. Therefore we can use it as a key to connect categories with places dataset"
   ]
  },
  {
   "cell_type": "code",
   "execution_count": 50,
   "metadata": {},
   "outputs": [
    {
     "data": {
      "text/html": [
       "<div>\n",
       "<style scoped>\n",
       "    .dataframe tbody tr th:only-of-type {\n",
       "        vertical-align: middle;\n",
       "    }\n",
       "\n",
       "    .dataframe tbody tr th {\n",
       "        vertical-align: top;\n",
       "    }\n",
       "\n",
       "    .dataframe thead th {\n",
       "        text-align: right;\n",
       "    }\n",
       "</style>\n",
       "<table border=\"1\" class=\"dataframe\">\n",
       "  <thead>\n",
       "    <tr style=\"text-align: right;\">\n",
       "      <th></th>\n",
       "      <th>fsq_id</th>\n",
       "      <th>categories</th>\n",
       "    </tr>\n",
       "  </thead>\n",
       "  <tbody>\n",
       "    <tr>\n",
       "      <th>0</th>\n",
       "      <td>4bb381b7eb3e9521d738cb0a</td>\n",
       "      <td>[{'id': 16041, 'name': 'Plaza', 'icon': {'pref...</td>\n",
       "    </tr>\n",
       "    <tr>\n",
       "      <th>1</th>\n",
       "      <td>5bd848f89de23b003984d7a9</td>\n",
       "      <td>[{'id': 13236, 'name': 'Italian Restaurant', '...</td>\n",
       "    </tr>\n",
       "    <tr>\n",
       "      <th>2</th>\n",
       "      <td>4adcda10f964a5209a3521e3</td>\n",
       "      <td>[{'id': 10027, 'name': 'Museum', 'icon': {'pre...</td>\n",
       "    </tr>\n",
       "    <tr>\n",
       "      <th>3</th>\n",
       "      <td>5b61826df193c0002cfec9d5</td>\n",
       "      <td>[{'id': 13065, 'name': 'Restaurant', 'icon': {...</td>\n",
       "    </tr>\n",
       "    <tr>\n",
       "      <th>4</th>\n",
       "      <td>4adcda14f964a5203a3721e3</td>\n",
       "      <td>[{'id': 13036, 'name': 'Tea Room', 'icon': {'p...</td>\n",
       "    </tr>\n",
       "  </tbody>\n",
       "</table>\n",
       "</div>"
      ],
      "text/plain": [
       "                     fsq_id                                         categories\n",
       "0  4bb381b7eb3e9521d738cb0a  [{'id': 16041, 'name': 'Plaza', 'icon': {'pref...\n",
       "1  5bd848f89de23b003984d7a9  [{'id': 13236, 'name': 'Italian Restaurant', '...\n",
       "2  4adcda10f964a5209a3521e3  [{'id': 10027, 'name': 'Museum', 'icon': {'pre...\n",
       "3  5b61826df193c0002cfec9d5  [{'id': 13065, 'name': 'Restaurant', 'icon': {...\n",
       "4  4adcda14f964a5203a3721e3  [{'id': 13036, 'name': 'Tea Room', 'icon': {'p..."
      ]
     },
     "execution_count": 50,
     "metadata": {},
     "output_type": "execute_result"
    }
   ],
   "source": [
    "fsq_category=places[['fsq_id','categories']].copy()\n",
    "fsq_category.head()"
   ]
  },
  {
   "cell_type": "code",
   "execution_count": 51,
   "metadata": {},
   "outputs": [
    {
     "data": {
      "text/html": [
       "<div>\n",
       "<style scoped>\n",
       "    .dataframe tbody tr th:only-of-type {\n",
       "        vertical-align: middle;\n",
       "    }\n",
       "\n",
       "    .dataframe tbody tr th {\n",
       "        vertical-align: top;\n",
       "    }\n",
       "\n",
       "    .dataframe thead th {\n",
       "        text-align: right;\n",
       "    }\n",
       "</style>\n",
       "<table border=\"1\" class=\"dataframe\">\n",
       "  <thead>\n",
       "    <tr style=\"text-align: right;\">\n",
       "      <th></th>\n",
       "      <th>id</th>\n",
       "      <th>name</th>\n",
       "      <th>icon</th>\n",
       "      <th>fsq_id</th>\n",
       "    </tr>\n",
       "  </thead>\n",
       "  <tbody>\n",
       "    <tr>\n",
       "      <th>0</th>\n",
       "      <td>16041</td>\n",
       "      <td>Plaza</td>\n",
       "      <td>{'prefix': 'https://ss3.4sqi.net/img/categorie...</td>\n",
       "      <td>4bb381b7eb3e9521d738cb0a</td>\n",
       "    </tr>\n",
       "    <tr>\n",
       "      <th>1</th>\n",
       "      <td>13236</td>\n",
       "      <td>Italian Restaurant</td>\n",
       "      <td>{'prefix': 'https://ss3.4sqi.net/img/categorie...</td>\n",
       "      <td>5bd848f89de23b003984d7a9</td>\n",
       "    </tr>\n",
       "    <tr>\n",
       "      <th>2</th>\n",
       "      <td>10027</td>\n",
       "      <td>Museum</td>\n",
       "      <td>{'prefix': 'https://ss3.4sqi.net/img/categorie...</td>\n",
       "      <td>4adcda10f964a5209a3521e3</td>\n",
       "    </tr>\n",
       "    <tr>\n",
       "      <th>3</th>\n",
       "      <td>13065</td>\n",
       "      <td>Restaurant</td>\n",
       "      <td>{'prefix': 'https://ss3.4sqi.net/img/categorie...</td>\n",
       "      <td>5b61826df193c0002cfec9d5</td>\n",
       "    </tr>\n",
       "    <tr>\n",
       "      <th>4</th>\n",
       "      <td>13036</td>\n",
       "      <td>Tea Room</td>\n",
       "      <td>{'prefix': 'https://ss3.4sqi.net/img/categorie...</td>\n",
       "      <td>4adcda14f964a5203a3721e3</td>\n",
       "    </tr>\n",
       "  </tbody>\n",
       "</table>\n",
       "</div>"
      ],
      "text/plain": [
       "      id                name  \\\n",
       "0  16041               Plaza   \n",
       "1  13236  Italian Restaurant   \n",
       "2  10027              Museum   \n",
       "3  13065          Restaurant   \n",
       "4  13036            Tea Room   \n",
       "\n",
       "                                                icon                    fsq_id  \n",
       "0  {'prefix': 'https://ss3.4sqi.net/img/categorie...  4bb381b7eb3e9521d738cb0a  \n",
       "1  {'prefix': 'https://ss3.4sqi.net/img/categorie...  5bd848f89de23b003984d7a9  \n",
       "2  {'prefix': 'https://ss3.4sqi.net/img/categorie...  4adcda10f964a5209a3521e3  \n",
       "3  {'prefix': 'https://ss3.4sqi.net/img/categorie...  5b61826df193c0002cfec9d5  \n",
       "4  {'prefix': 'https://ss3.4sqi.net/img/categorie...  4adcda14f964a5203a3721e3  "
      ]
     },
     "execution_count": 51,
     "metadata": {},
     "output_type": "execute_result"
    }
   ],
   "source": [
    "def dict_list_to_df(dff,col,id_col):\n",
    "    ''' \n",
    "        Function to convert the list of categories into a Dataframe\n",
    "    '''\n",
    "    rows = []\n",
    "    for index, row in dff[col].iteritems():\n",
    "        for item in list(eval((row))):\n",
    "            item[id_col]=dff[id_col][index]\n",
    "            rows.append(item)\n",
    "    df = pd.DataFrame(rows)\n",
    "    return df\n",
    "\n",
    "fsq_category_df = dict_list_to_df(fsq_category,'categories','fsq_id')\n",
    "fsq_category_df.head()"
   ]
  },
  {
   "cell_type": "code",
   "execution_count": 52,
   "metadata": {},
   "outputs": [],
   "source": [
    "fsq_category_df.drop(['icon'],axis=1,inplace=True) # we don't need that column so drop it"
   ]
  },
  {
   "cell_type": "code",
   "execution_count": 57,
   "metadata": {},
   "outputs": [],
   "source": [
    "fsq_category_df.drop_duplicates(inplace=True)"
   ]
  },
  {
   "cell_type": "markdown",
   "metadata": {},
   "source": [
    "***Note:*** So now we have all the categories and corresponding 'fsq_id' in dataframe.We will save this in csv file for future use. from this dataset we can query the places and filter them using either category 'id' or 'name'. 'fsq_id' will work as a key to connect 'category' with the 'places' dataset"
   ]
  },
  {
   "cell_type": "code",
   "execution_count": 58,
   "metadata": {},
   "outputs": [],
   "source": [
    "fsq_category_df.rename(columns={'id':'category_id','name':'category'},inplace=True)"
   ]
  },
  {
   "cell_type": "code",
   "execution_count": 59,
   "metadata": {},
   "outputs": [
    {
     "name": "stdout",
     "output_type": "stream",
     "text": [
      "<class 'pandas.core.frame.DataFrame'>\n",
      "Int64Index: 3258 entries, 0 to 3258\n",
      "Data columns (total 3 columns):\n",
      " #   Column       Non-Null Count  Dtype \n",
      "---  ------       --------------  ----- \n",
      " 0   category_id  3258 non-null   int64 \n",
      " 1   category     3258 non-null   object\n",
      " 2   fsq_id       3258 non-null   object\n",
      "dtypes: int64(1), object(2)\n",
      "memory usage: 101.8+ KB\n"
     ]
    }
   ],
   "source": [
    "fsq_category_df.info()"
   ]
  },
  {
   "cell_type": "code",
   "execution_count": 61,
   "metadata": {},
   "outputs": [],
   "source": [
    "fsq_category_df.to_csv('../data/fsq_category.csv', index=False)"
   ]
  },
  {
   "cell_type": "markdown",
   "metadata": {},
   "source": [
    "***Note:*** We can drop the 'categories' column from 'places' dataframe"
   ]
  },
  {
   "cell_type": "code",
   "execution_count": 62,
   "metadata": {},
   "outputs": [],
   "source": [
    "places.drop(['categories'],axis=1,inplace=True)"
   ]
  },
  {
   "cell_type": "code",
   "execution_count": 63,
   "metadata": {},
   "outputs": [
    {
     "name": "stdout",
     "output_type": "stream",
     "text": [
      "<class 'pandas.core.frame.DataFrame'>\n",
      "Int64Index: 2318 entries, 0 to 14579\n",
      "Data columns (total 8 columns):\n",
      " #   Column      Non-Null Count  Dtype  \n",
      "---  ------      --------------  -----  \n",
      " 0   fsq_id      2318 non-null   object \n",
      " 1   name        2318 non-null   object \n",
      " 2   popularity  2318 non-null   float64\n",
      " 3   rating      2318 non-null   float64\n",
      " 4   latitude    2318 non-null   float64\n",
      " 5   longitude   2318 non-null   float64\n",
      " 6   price       2318 non-null   float64\n",
      " 7   station     2318 non-null   object \n",
      "dtypes: float64(5), object(3)\n",
      "memory usage: 227.5+ KB\n"
     ]
    }
   ],
   "source": [
    "places.info()"
   ]
  },
  {
   "cell_type": "markdown",
   "metadata": {},
   "source": [
    "***Note:*** This is our refined places dataset from the Foursquare API. Save this in a csv"
   ]
  },
  {
   "cell_type": "code",
   "execution_count": 64,
   "metadata": {},
   "outputs": [],
   "source": [
    "places.to_csv('../data/places.csv', index=False)"
   ]
  },
  {
   "cell_type": "markdown",
   "metadata": {},
   "source": [
    "***Note:*** lets search for a category and find some features about the places.\n"
   ]
  },
  {
   "cell_type": "code",
   "execution_count": 82,
   "metadata": {},
   "outputs": [],
   "source": [
    "#places=pd.read_csv('../data/places.csv')"
   ]
  },
  {
   "cell_type": "code",
   "execution_count": 98,
   "metadata": {},
   "outputs": [],
   "source": [
    "def search_places(category):\n",
    "    ''' \n",
    "        Function to search the places by particular category\n",
    "    '''\n",
    "    temp_cat_df=fsq_category_df[(fsq_category_df['category'].str.contains(category.strip(),case=False)) ]\n",
    "    search_result = pd.merge(temp_cat_df, places, on='fsq_id') #combine the category detail and places in pne DF\n",
    "    return search_result\n",
    "    "
   ]
  },
  {
   "cell_type": "code",
   "execution_count": 103,
   "metadata": {},
   "outputs": [
    {
     "data": {
      "text/html": [
       "<div>\n",
       "<style scoped>\n",
       "    .dataframe tbody tr th:only-of-type {\n",
       "        vertical-align: middle;\n",
       "    }\n",
       "\n",
       "    .dataframe tbody tr th {\n",
       "        vertical-align: top;\n",
       "    }\n",
       "\n",
       "    .dataframe thead th {\n",
       "        text-align: right;\n",
       "    }\n",
       "</style>\n",
       "<table border=\"1\" class=\"dataframe\">\n",
       "  <thead>\n",
       "    <tr style=\"text-align: right;\">\n",
       "      <th></th>\n",
       "      <th>category_id</th>\n",
       "      <th>category</th>\n",
       "      <th>fsq_id</th>\n",
       "      <th>name</th>\n",
       "      <th>popularity</th>\n",
       "      <th>rating</th>\n",
       "      <th>latitude</th>\n",
       "      <th>longitude</th>\n",
       "      <th>price</th>\n",
       "      <th>station</th>\n",
       "    </tr>\n",
       "  </thead>\n",
       "  <tbody>\n",
       "    <tr>\n",
       "      <th>0</th>\n",
       "      <td>13013</td>\n",
       "      <td>Hotel Bar</td>\n",
       "      <td>4b77f147f964a52097af2ee3</td>\n",
       "      <td>Saint-James Club</td>\n",
       "      <td>0.985926</td>\n",
       "      <td>8.7</td>\n",
       "      <td>48.870401</td>\n",
       "      <td>2.279922</td>\n",
       "      <td>3.0</td>\n",
       "      <td>Benjamin Godard - Victor Hugo</td>\n",
       "    </tr>\n",
       "    <tr>\n",
       "      <th>1</th>\n",
       "      <td>13025</td>\n",
       "      <td>Wine Bar</td>\n",
       "      <td>4b68a117f964a520c8832be3</td>\n",
       "      <td>Le Barav</td>\n",
       "      <td>0.979990</td>\n",
       "      <td>9.3</td>\n",
       "      <td>48.865121</td>\n",
       "      <td>2.363202</td>\n",
       "      <td>2.0</td>\n",
       "      <td>Faubourg Du Temple - Republique</td>\n",
       "    </tr>\n",
       "    <tr>\n",
       "      <th>2</th>\n",
       "      <td>13009</td>\n",
       "      <td>Cocktail Bar</td>\n",
       "      <td>5415ae4f498e9aee38f6a39e</td>\n",
       "      <td>CopperBay</td>\n",
       "      <td>0.979023</td>\n",
       "      <td>9.2</td>\n",
       "      <td>48.869835</td>\n",
       "      <td>2.357114</td>\n",
       "      <td>3.0</td>\n",
       "      <td>Faubourg Du Temple - Republique</td>\n",
       "    </tr>\n",
       "    <tr>\n",
       "      <th>3</th>\n",
       "      <td>13025</td>\n",
       "      <td>Wine Bar</td>\n",
       "      <td>548cbfba498e8beca9c22ef9</td>\n",
       "      <td>Le Ballon Rouge</td>\n",
       "      <td>0.972475</td>\n",
       "      <td>9.2</td>\n",
       "      <td>48.867587</td>\n",
       "      <td>2.356783</td>\n",
       "      <td>0.0</td>\n",
       "      <td>Faubourg Du Temple - Republique</td>\n",
       "    </tr>\n",
       "    <tr>\n",
       "      <th>4</th>\n",
       "      <td>13059</td>\n",
       "      <td>Juice Bar</td>\n",
       "      <td>5dd296bdd3fbb90007e2e259</td>\n",
       "      <td>Joe &amp; The Juice</td>\n",
       "      <td>0.999604</td>\n",
       "      <td>9.2</td>\n",
       "      <td>48.873729</td>\n",
       "      <td>2.332113</td>\n",
       "      <td>1.0</td>\n",
       "      <td>Toudouze - Clauzel</td>\n",
       "    </tr>\n",
       "  </tbody>\n",
       "</table>\n",
       "</div>"
      ],
      "text/plain": [
       "   category_id      category                    fsq_id              name  \\\n",
       "0        13013     Hotel Bar  4b77f147f964a52097af2ee3  Saint-James Club   \n",
       "1        13025      Wine Bar  4b68a117f964a520c8832be3          Le Barav   \n",
       "2        13009  Cocktail Bar  5415ae4f498e9aee38f6a39e         CopperBay   \n",
       "3        13025      Wine Bar  548cbfba498e8beca9c22ef9   Le Ballon Rouge   \n",
       "4        13059     Juice Bar  5dd296bdd3fbb90007e2e259   Joe & The Juice   \n",
       "\n",
       "   popularity  rating   latitude  longitude  price  \\\n",
       "0    0.985926     8.7  48.870401   2.279922    3.0   \n",
       "1    0.979990     9.3  48.865121   2.363202    2.0   \n",
       "2    0.979023     9.2  48.869835   2.357114    3.0   \n",
       "3    0.972475     9.2  48.867587   2.356783    0.0   \n",
       "4    0.999604     9.2  48.873729   2.332113    1.0   \n",
       "\n",
       "                           station  \n",
       "0    Benjamin Godard - Victor Hugo  \n",
       "1  Faubourg Du Temple - Republique  \n",
       "2  Faubourg Du Temple - Republique  \n",
       "3  Faubourg Du Temple - Republique  \n",
       "4               Toudouze - Clauzel  "
      ]
     },
     "execution_count": 103,
     "metadata": {},
     "output_type": "execute_result"
    }
   ],
   "source": [
    "category='bar'\n",
    "search_result=search_places(category)\n",
    "search_result.head()"
   ]
  },
  {
   "cell_type": "markdown",
   "metadata": {},
   "source": [
    "***Put your parsed results into a DataFrame***"
   ]
  },
  {
   "cell_type": "markdown",
   "metadata": {},
   "source": [
    "***Note:*** Our result is in 'search_result' DataFrame"
   ]
  },
  {
   "cell_type": "markdown",
   "metadata": {},
   "source": [
    "# Yelp"
   ]
  },
  {
   "cell_type": "markdown",
   "metadata": {},
   "source": [
    "***Send a request to Yelp with a small radius (1000m) for all the bike stations in your city of choice.***"
   ]
  },
  {
   "cell_type": "code",
   "execution_count": 117,
   "metadata": {},
   "outputs": [],
   "source": [
    "YELP_KEY = os.getenv('YELP_API_KEY') #Yelp API key"
   ]
  },
  {
   "cell_type": "code",
   "execution_count": 161,
   "metadata": {},
   "outputs": [],
   "source": [
    "def fetch_yelp(latitude, longitude, radius, api_key):\n",
    "    '''\n",
    "        Funtion to fetch the yelp places according to latitude and longitude\n",
    "    '''\n",
    "    #try:\n",
    "    url = \"https://api.yelp.com/v3/businesses/search\"\n",
    "    headers = {\"accept\": \"application/json\",\n",
    "            \"Authorization\": f\"Bearer {api_key}\" }\n",
    "    params = {\n",
    "        \"latitude\": latitude,\n",
    "        \"longitude\": longitude,\n",
    "        \"radius\": radius,\n",
    "        \"limit\": 20,\n",
    "        \"sort_by\": \"rating\"\n",
    "    }\n",
    "    response = requests.get(url, headers=headers,params=params)\n",
    "    #response.raise_for_status()\n",
    "    return response\n",
    "   # except requests.exceptions.HTTPError as errh:\n",
    "      #  print(\"HTTP Error\")\n",
    "      #  print(errh.args[0])"
   ]
  },
  {
   "cell_type": "code",
   "execution_count": 207,
   "metadata": {},
   "outputs": [],
   "source": [
    "def fetch_yelp_of_city():\n",
    "    ''' \n",
    "        Function to iterate all the stations of city Paris and retrive the Yelp places from (fetch_yelp) function\n",
    "    '''\n",
    "    yelp_places=pd.DataFrame()\n",
    "    #try:\n",
    "    temp_counter1=0\n",
    "    for index, row in stations_df.iterrows():\n",
    "        if temp_counter1%20==0:\n",
    "            time.sleep(2)\n",
    "        temp_counter1=temp_counter1+1\n",
    "    res1 = fetch_yelp(latitude=row['latitude'], longitude=row['longitude'], radius=1000, api_key=YELP_KEY) \n",
    "    df1=pd.json_normalize(res1.json()['businesses'])\n",
    "    df1['station']=row['station']\n",
    "    yelp_places=pd.concat([yelp_places,df1], ignore_index=True)\n",
    "    #except:\n",
    "    #    print(\"Error occured\")\n",
    "    #else:\n",
    "   #     print(\"Process Completed\")\n",
    "    return yelp_places\n"
   ]
  },
  {
   "cell_type": "code",
   "execution_count": 166,
   "metadata": {},
   "outputs": [],
   "source": [
    "yelp_places=pd.DataFrame()"
   ]
  },
  {
   "cell_type": "code",
   "execution_count": 208,
   "metadata": {},
   "outputs": [],
   "source": [
    "yelp_places=fetch_yelp_of_city()\n",
    "yelp_places.head()"
   ]
  },
  {
   "cell_type": "code",
   "execution_count": 209,
   "metadata": {},
   "outputs": [
    {
     "data": {
      "text/plain": [
       "(2503, 25)"
      ]
     },
     "execution_count": 209,
     "metadata": {},
     "output_type": "execute_result"
    }
   ],
   "source": [
    "yelp_places.shape"
   ]
  },
  {
   "cell_type": "code",
   "execution_count": null,
   "metadata": {},
   "outputs": [],
   "source": []
  },
  {
   "cell_type": "code",
   "execution_count": 210,
   "metadata": {},
   "outputs": [],
   "source": [
    "yelp_places.to_csv('../data/raw_yelp_places.csv', index=False)"
   ]
  },
  {
   "cell_type": "code",
   "execution_count": 220,
   "metadata": {},
   "outputs": [],
   "source": [
    "#yelp_places=pd.read_csv('../data/raw_yelp_places.csv')"
   ]
  },
  {
   "cell_type": "code",
   "execution_count": null,
   "metadata": {},
   "outputs": [],
   "source": [
    "#explore and clean yelp_places dataset"
   ]
  },
  {
   "cell_type": "code",
   "execution_count": 221,
   "metadata": {},
   "outputs": [
    {
     "data": {
      "text/html": [
       "<div>\n",
       "<style scoped>\n",
       "    .dataframe tbody tr th:only-of-type {\n",
       "        vertical-align: middle;\n",
       "    }\n",
       "\n",
       "    .dataframe tbody tr th {\n",
       "        vertical-align: top;\n",
       "    }\n",
       "\n",
       "    .dataframe thead th {\n",
       "        text-align: right;\n",
       "    }\n",
       "</style>\n",
       "<table border=\"1\" class=\"dataframe\">\n",
       "  <thead>\n",
       "    <tr style=\"text-align: right;\">\n",
       "      <th></th>\n",
       "      <th>id</th>\n",
       "      <th>alias</th>\n",
       "      <th>name</th>\n",
       "      <th>image_url</th>\n",
       "      <th>is_closed</th>\n",
       "      <th>url</th>\n",
       "      <th>review_count</th>\n",
       "      <th>categories</th>\n",
       "      <th>rating</th>\n",
       "      <th>transactions</th>\n",
       "      <th>...</th>\n",
       "      <th>location.address1</th>\n",
       "      <th>location.address2</th>\n",
       "      <th>location.address3</th>\n",
       "      <th>location.city</th>\n",
       "      <th>location.zip_code</th>\n",
       "      <th>location.country</th>\n",
       "      <th>location.state</th>\n",
       "      <th>location.display_address</th>\n",
       "      <th>price</th>\n",
       "      <th>station</th>\n",
       "    </tr>\n",
       "  </thead>\n",
       "  <tbody>\n",
       "    <tr>\n",
       "      <th>0</th>\n",
       "      <td>JNbPJxM07pzJ-6JiXkZu6g</td>\n",
       "      <td>la-galerie-dior-paris</td>\n",
       "      <td>La Galerie Dior</td>\n",
       "      <td>https://s3-media4.fl.yelpcdn.com/bphoto/YOFtdj...</td>\n",
       "      <td>False</td>\n",
       "      <td>https://www.yelp.com/biz/la-galerie-dior-paris...</td>\n",
       "      <td>9.0</td>\n",
       "      <td>[{'alias': 'museums', 'title': 'Museums'}, {'a...</td>\n",
       "      <td>5.0</td>\n",
       "      <td>[]</td>\n",
       "      <td>...</td>\n",
       "      <td>11 Rue François 1er</td>\n",
       "      <td>NaN</td>\n",
       "      <td>NaN</td>\n",
       "      <td>Paris</td>\n",
       "      <td>75008.0</td>\n",
       "      <td>FR</td>\n",
       "      <td>NaN</td>\n",
       "      <td>['11 Rue François 1er', '75008 Paris', 'France']</td>\n",
       "      <td>NaN</td>\n",
       "      <td>Boétie - Ponthieu</td>\n",
       "    </tr>\n",
       "    <tr>\n",
       "      <th>1</th>\n",
       "      <td>3zZOFdwxA_JDcAKEKomknA</td>\n",
       "      <td>merci-jérôme-paris-12</td>\n",
       "      <td>Merci Jérôme</td>\n",
       "      <td>https://s3-media1.fl.yelpcdn.com/bphoto/okW5Ok...</td>\n",
       "      <td>False</td>\n",
       "      <td>https://www.yelp.com/biz/merci-j%C3%A9r%C3%B4m...</td>\n",
       "      <td>5.0</td>\n",
       "      <td>[{'alias': 'bakeries', 'title': 'Bakeries'}, {...</td>\n",
       "      <td>5.0</td>\n",
       "      <td>[]</td>\n",
       "      <td>...</td>\n",
       "      <td>270 rue du Faubourg Saint-Honoré</td>\n",
       "      <td>NaN</td>\n",
       "      <td>NaN</td>\n",
       "      <td>Paris</td>\n",
       "      <td>75008.0</td>\n",
       "      <td>FR</td>\n",
       "      <td>75.0</td>\n",
       "      <td>['270 rue du Faubourg Saint-Honoré', '75008 Pa...</td>\n",
       "      <td>NaN</td>\n",
       "      <td>Boétie - Ponthieu</td>\n",
       "    </tr>\n",
       "    <tr>\n",
       "      <th>2</th>\n",
       "      <td>pjuZB_Qf-bFzvLDiEqApjA</td>\n",
       "      <td>helen-paris</td>\n",
       "      <td>Helen</td>\n",
       "      <td>https://s3-media3.fl.yelpcdn.com/bphoto/ks8vNi...</td>\n",
       "      <td>False</td>\n",
       "      <td>https://www.yelp.com/biz/helen-paris?adjust_cr...</td>\n",
       "      <td>5.0</td>\n",
       "      <td>[{'alias': 'french', 'title': 'French'}, {'ali...</td>\n",
       "      <td>5.0</td>\n",
       "      <td>[]</td>\n",
       "      <td>...</td>\n",
       "      <td>3 rue Berryer</td>\n",
       "      <td>NaN</td>\n",
       "      <td>NaN</td>\n",
       "      <td>Paris</td>\n",
       "      <td>75008.0</td>\n",
       "      <td>FR</td>\n",
       "      <td>75.0</td>\n",
       "      <td>['3 rue Berryer', '75008 Paris', 'France']</td>\n",
       "      <td>€€€€</td>\n",
       "      <td>Boétie - Ponthieu</td>\n",
       "    </tr>\n",
       "    <tr>\n",
       "      <th>3</th>\n",
       "      <td>zpRDPVf_Izk5B7foS9yd8Q</td>\n",
       "      <td>le-colisée-paris-2</td>\n",
       "      <td>Le Colisée</td>\n",
       "      <td>https://s3-media1.fl.yelpcdn.com/bphoto/FeCNMC...</td>\n",
       "      <td>False</td>\n",
       "      <td>https://www.yelp.com/biz/le-colis%C3%A9e-paris...</td>\n",
       "      <td>6.0</td>\n",
       "      <td>[{'alias': 'french', 'title': 'French'}, {'ali...</td>\n",
       "      <td>5.0</td>\n",
       "      <td>[]</td>\n",
       "      <td>...</td>\n",
       "      <td>17 rue du Colisée</td>\n",
       "      <td>NaN</td>\n",
       "      <td>NaN</td>\n",
       "      <td>Paris</td>\n",
       "      <td>75008.0</td>\n",
       "      <td>FR</td>\n",
       "      <td>75.0</td>\n",
       "      <td>['17 rue du Colisée', '75008 Paris', 'France']</td>\n",
       "      <td>NaN</td>\n",
       "      <td>Boétie - Ponthieu</td>\n",
       "    </tr>\n",
       "    <tr>\n",
       "      <th>4</th>\n",
       "      <td>7bHtpYzGmCrvvXGWmnszNQ</td>\n",
       "      <td>la-cour-jardin-paris</td>\n",
       "      <td>La Cour Jardin</td>\n",
       "      <td>https://s3-media2.fl.yelpcdn.com/bphoto/t4GAXD...</td>\n",
       "      <td>False</td>\n",
       "      <td>https://www.yelp.com/biz/la-cour-jardin-paris?...</td>\n",
       "      <td>5.0</td>\n",
       "      <td>[{'alias': 'french', 'title': 'French'}]</td>\n",
       "      <td>5.0</td>\n",
       "      <td>[]</td>\n",
       "      <td>...</td>\n",
       "      <td>25 avenue Montaigne</td>\n",
       "      <td>NaN</td>\n",
       "      <td>NaN</td>\n",
       "      <td>Paris</td>\n",
       "      <td>75008.0</td>\n",
       "      <td>FR</td>\n",
       "      <td>75.0</td>\n",
       "      <td>['25 avenue Montaigne', '75008 Paris', 'France']</td>\n",
       "      <td>NaN</td>\n",
       "      <td>Boétie - Ponthieu</td>\n",
       "    </tr>\n",
       "  </tbody>\n",
       "</table>\n",
       "<p>5 rows × 25 columns</p>\n",
       "</div>"
      ],
      "text/plain": [
       "                       id                  alias             name  \\\n",
       "0  JNbPJxM07pzJ-6JiXkZu6g  la-galerie-dior-paris  La Galerie Dior   \n",
       "1  3zZOFdwxA_JDcAKEKomknA  merci-jérôme-paris-12     Merci Jérôme   \n",
       "2  pjuZB_Qf-bFzvLDiEqApjA            helen-paris            Helen   \n",
       "3  zpRDPVf_Izk5B7foS9yd8Q     le-colisée-paris-2       Le Colisée   \n",
       "4  7bHtpYzGmCrvvXGWmnszNQ   la-cour-jardin-paris   La Cour Jardin   \n",
       "\n",
       "                                           image_url  is_closed  \\\n",
       "0  https://s3-media4.fl.yelpcdn.com/bphoto/YOFtdj...      False   \n",
       "1  https://s3-media1.fl.yelpcdn.com/bphoto/okW5Ok...      False   \n",
       "2  https://s3-media3.fl.yelpcdn.com/bphoto/ks8vNi...      False   \n",
       "3  https://s3-media1.fl.yelpcdn.com/bphoto/FeCNMC...      False   \n",
       "4  https://s3-media2.fl.yelpcdn.com/bphoto/t4GAXD...      False   \n",
       "\n",
       "                                                 url  review_count  \\\n",
       "0  https://www.yelp.com/biz/la-galerie-dior-paris...           9.0   \n",
       "1  https://www.yelp.com/biz/merci-j%C3%A9r%C3%B4m...           5.0   \n",
       "2  https://www.yelp.com/biz/helen-paris?adjust_cr...           5.0   \n",
       "3  https://www.yelp.com/biz/le-colis%C3%A9e-paris...           6.0   \n",
       "4  https://www.yelp.com/biz/la-cour-jardin-paris?...           5.0   \n",
       "\n",
       "                                          categories  rating transactions  \\\n",
       "0  [{'alias': 'museums', 'title': 'Museums'}, {'a...     5.0           []   \n",
       "1  [{'alias': 'bakeries', 'title': 'Bakeries'}, {...     5.0           []   \n",
       "2  [{'alias': 'french', 'title': 'French'}, {'ali...     5.0           []   \n",
       "3  [{'alias': 'french', 'title': 'French'}, {'ali...     5.0           []   \n",
       "4           [{'alias': 'french', 'title': 'French'}]     5.0           []   \n",
       "\n",
       "   ...                 location.address1 location.address2  location.address3  \\\n",
       "0  ...               11 Rue François 1er               NaN                NaN   \n",
       "1  ...  270 rue du Faubourg Saint-Honoré               NaN                NaN   \n",
       "2  ...                     3 rue Berryer               NaN                NaN   \n",
       "3  ...                 17 rue du Colisée               NaN                NaN   \n",
       "4  ...               25 avenue Montaigne               NaN                NaN   \n",
       "\n",
       "   location.city  location.zip_code location.country location.state  \\\n",
       "0          Paris            75008.0               FR            NaN   \n",
       "1          Paris            75008.0               FR           75.0   \n",
       "2          Paris            75008.0               FR           75.0   \n",
       "3          Paris            75008.0               FR           75.0   \n",
       "4          Paris            75008.0               FR           75.0   \n",
       "\n",
       "                            location.display_address price            station  \n",
       "0   ['11 Rue François 1er', '75008 Paris', 'France']   NaN  Boétie - Ponthieu  \n",
       "1  ['270 rue du Faubourg Saint-Honoré', '75008 Pa...   NaN  Boétie - Ponthieu  \n",
       "2         ['3 rue Berryer', '75008 Paris', 'France']  €€€€  Boétie - Ponthieu  \n",
       "3     ['17 rue du Colisée', '75008 Paris', 'France']   NaN  Boétie - Ponthieu  \n",
       "4   ['25 avenue Montaigne', '75008 Paris', 'France']   NaN  Boétie - Ponthieu  \n",
       "\n",
       "[5 rows x 25 columns]"
      ]
     },
     "execution_count": 221,
     "metadata": {},
     "output_type": "execute_result"
    }
   ],
   "source": [
    "yelp_places.head()"
   ]
  },
  {
   "cell_type": "code",
   "execution_count": null,
   "metadata": {},
   "outputs": [],
   "source": [
    "# Drop the unneccesary columns "
   ]
  },
  {
   "cell_type": "code",
   "execution_count": 222,
   "metadata": {},
   "outputs": [
    {
     "data": {
      "text/plain": [
       "Index(['id', 'alias', 'name', 'image_url', 'is_closed', 'url', 'review_count',\n",
       "       'categories', 'rating', 'transactions', 'phone', 'display_phone',\n",
       "       'distance', 'coordinates.latitude', 'coordinates.longitude',\n",
       "       'location.address1', 'location.address2', 'location.address3',\n",
       "       'location.city', 'location.zip_code', 'location.country',\n",
       "       'location.state', 'location.display_address', 'price', 'station'],\n",
       "      dtype='object')"
      ]
     },
     "execution_count": 222,
     "metadata": {},
     "output_type": "execute_result"
    }
   ],
   "source": [
    "yelp_places.columns"
   ]
  },
  {
   "cell_type": "code",
   "execution_count": 223,
   "metadata": {},
   "outputs": [],
   "source": [
    "yelp_places.drop(columns=['alias','image_url', 'is_closed', 'url','transactions', 'phone', 'display_phone','distance',\n",
    "                          'location.address1', 'location.address2', 'location.address3',\n",
    "                          'location.city', 'location.zip_code', 'location.country',\n",
    "                          'location.state', 'location.display_address'\n",
    "                         ],inplace=True)\n"
   ]
  },
  {
   "cell_type": "code",
   "execution_count": 244,
   "metadata": {},
   "outputs": [],
   "source": [
    "yelp_places.astype(str).drop_duplicates(subset=yelp_places.columns.difference(['station']),inplace=True)# drop the duplicate rows from the dataset"
   ]
  },
  {
   "cell_type": "code",
   "execution_count": 225,
   "metadata": {},
   "outputs": [
    {
     "name": "stdout",
     "output_type": "stream",
     "text": [
      "<class 'pandas.core.frame.DataFrame'>\n",
      "RangeIndex: 2503 entries, 0 to 2502\n",
      "Data columns (total 9 columns):\n",
      " #   Column                 Non-Null Count  Dtype  \n",
      "---  ------                 --------------  -----  \n",
      " 0   id                     2503 non-null   object \n",
      " 1   name                   2503 non-null   object \n",
      " 2   review_count           2503 non-null   float64\n",
      " 3   categories             2503 non-null   object \n",
      " 4   rating                 2503 non-null   float64\n",
      " 5   coordinates.latitude   2503 non-null   float64\n",
      " 6   coordinates.longitude  2503 non-null   float64\n",
      " 7   price                  1415 non-null   object \n",
      " 8   station                2503 non-null   object \n",
      "dtypes: float64(4), object(5)\n",
      "memory usage: 176.1+ KB\n"
     ]
    }
   ],
   "source": [
    "yelp_places.info()"
   ]
  },
  {
   "cell_type": "code",
   "execution_count": 237,
   "metadata": {},
   "outputs": [],
   "source": [
    "yelp_places.rename(columns={'coordinates.latitude':'latitude','coordinates.longitude':'longitude'},inplace=True)"
   ]
  },
  {
   "cell_type": "code",
   "execution_count": 226,
   "metadata": {},
   "outputs": [],
   "source": [
    "# Above summary shows price have sum null values. Fill these with 0\n",
    "yelp_places['price'].fillna(0,inplace=True)"
   ]
  },
  {
   "cell_type": "markdown",
   "metadata": {},
   "source": [
    "***Note:*** Here we exclude 'station' from the duplicate check. \n",
    "- We choose 'station' for the same reason as in case of Foursquare API"
   ]
  },
  {
   "cell_type": "code",
   "execution_count": 227,
   "metadata": {},
   "outputs": [],
   "source": [
    "# Normalize the categories"
   ]
  },
  {
   "cell_type": "code",
   "execution_count": 229,
   "metadata": {},
   "outputs": [
    {
     "data": {
      "text/html": [
       "<div>\n",
       "<style scoped>\n",
       "    .dataframe tbody tr th:only-of-type {\n",
       "        vertical-align: middle;\n",
       "    }\n",
       "\n",
       "    .dataframe tbody tr th {\n",
       "        vertical-align: top;\n",
       "    }\n",
       "\n",
       "    .dataframe thead th {\n",
       "        text-align: right;\n",
       "    }\n",
       "</style>\n",
       "<table border=\"1\" class=\"dataframe\">\n",
       "  <thead>\n",
       "    <tr style=\"text-align: right;\">\n",
       "      <th></th>\n",
       "      <th>id</th>\n",
       "      <th>categories</th>\n",
       "    </tr>\n",
       "  </thead>\n",
       "  <tbody>\n",
       "    <tr>\n",
       "      <th>0</th>\n",
       "      <td>JNbPJxM07pzJ-6JiXkZu6g</td>\n",
       "      <td>[{'alias': 'museums', 'title': 'Museums'}, {'a...</td>\n",
       "    </tr>\n",
       "    <tr>\n",
       "      <th>1</th>\n",
       "      <td>3zZOFdwxA_JDcAKEKomknA</td>\n",
       "      <td>[{'alias': 'bakeries', 'title': 'Bakeries'}, {...</td>\n",
       "    </tr>\n",
       "    <tr>\n",
       "      <th>2</th>\n",
       "      <td>pjuZB_Qf-bFzvLDiEqApjA</td>\n",
       "      <td>[{'alias': 'french', 'title': 'French'}, {'ali...</td>\n",
       "    </tr>\n",
       "    <tr>\n",
       "      <th>3</th>\n",
       "      <td>zpRDPVf_Izk5B7foS9yd8Q</td>\n",
       "      <td>[{'alias': 'french', 'title': 'French'}, {'ali...</td>\n",
       "    </tr>\n",
       "    <tr>\n",
       "      <th>4</th>\n",
       "      <td>7bHtpYzGmCrvvXGWmnszNQ</td>\n",
       "      <td>[{'alias': 'french', 'title': 'French'}]</td>\n",
       "    </tr>\n",
       "  </tbody>\n",
       "</table>\n",
       "</div>"
      ],
      "text/plain": [
       "                       id                                         categories\n",
       "0  JNbPJxM07pzJ-6JiXkZu6g  [{'alias': 'museums', 'title': 'Museums'}, {'a...\n",
       "1  3zZOFdwxA_JDcAKEKomknA  [{'alias': 'bakeries', 'title': 'Bakeries'}, {...\n",
       "2  pjuZB_Qf-bFzvLDiEqApjA  [{'alias': 'french', 'title': 'French'}, {'ali...\n",
       "3  zpRDPVf_Izk5B7foS9yd8Q  [{'alias': 'french', 'title': 'French'}, {'ali...\n",
       "4  7bHtpYzGmCrvvXGWmnszNQ           [{'alias': 'french', 'title': 'French'}]"
      ]
     },
     "execution_count": 229,
     "metadata": {},
     "output_type": "execute_result"
    }
   ],
   "source": [
    "yelp_category=yelp_places[['id','categories']]\n",
    "yelp_category.head()"
   ]
  },
  {
   "cell_type": "code",
   "execution_count": 230,
   "metadata": {},
   "outputs": [
    {
     "data": {
      "text/html": [
       "<div>\n",
       "<style scoped>\n",
       "    .dataframe tbody tr th:only-of-type {\n",
       "        vertical-align: middle;\n",
       "    }\n",
       "\n",
       "    .dataframe tbody tr th {\n",
       "        vertical-align: top;\n",
       "    }\n",
       "\n",
       "    .dataframe thead th {\n",
       "        text-align: right;\n",
       "    }\n",
       "</style>\n",
       "<table border=\"1\" class=\"dataframe\">\n",
       "  <thead>\n",
       "    <tr style=\"text-align: right;\">\n",
       "      <th></th>\n",
       "      <th>alias</th>\n",
       "      <th>title</th>\n",
       "      <th>id</th>\n",
       "    </tr>\n",
       "  </thead>\n",
       "  <tbody>\n",
       "    <tr>\n",
       "      <th>0</th>\n",
       "      <td>museums</td>\n",
       "      <td>Museums</td>\n",
       "      <td>JNbPJxM07pzJ-6JiXkZu6g</td>\n",
       "    </tr>\n",
       "    <tr>\n",
       "      <th>1</th>\n",
       "      <td>arttours</td>\n",
       "      <td>Art Tours</td>\n",
       "      <td>JNbPJxM07pzJ-6JiXkZu6g</td>\n",
       "    </tr>\n",
       "    <tr>\n",
       "      <th>2</th>\n",
       "      <td>fashion</td>\n",
       "      <td>Fashion</td>\n",
       "      <td>JNbPJxM07pzJ-6JiXkZu6g</td>\n",
       "    </tr>\n",
       "    <tr>\n",
       "      <th>3</th>\n",
       "      <td>bakeries</td>\n",
       "      <td>Bakeries</td>\n",
       "      <td>3zZOFdwxA_JDcAKEKomknA</td>\n",
       "    </tr>\n",
       "    <tr>\n",
       "      <th>4</th>\n",
       "      <td>breakfast_brunch</td>\n",
       "      <td>Breakfast &amp; Brunch</td>\n",
       "      <td>3zZOFdwxA_JDcAKEKomknA</td>\n",
       "    </tr>\n",
       "    <tr>\n",
       "      <th>...</th>\n",
       "      <td>...</td>\n",
       "      <td>...</td>\n",
       "      <td>...</td>\n",
       "    </tr>\n",
       "    <tr>\n",
       "      <th>3664</th>\n",
       "      <td>parks</td>\n",
       "      <td>Parks</td>\n",
       "      <td>L4tYXryUg-uYk6fsU2qVNQ</td>\n",
       "    </tr>\n",
       "    <tr>\n",
       "      <th>3665</th>\n",
       "      <td>auto</td>\n",
       "      <td>Automotive</td>\n",
       "      <td>lmvpdXnfgz6k5NMmX-zwxg</td>\n",
       "    </tr>\n",
       "    <tr>\n",
       "      <th>3666</th>\n",
       "      <td>bars</td>\n",
       "      <td>Bars</td>\n",
       "      <td>lmvpdXnfgz6k5NMmX-zwxg</td>\n",
       "    </tr>\n",
       "    <tr>\n",
       "      <th>3667</th>\n",
       "      <td>trainstations</td>\n",
       "      <td>Train Stations</td>\n",
       "      <td>lmvpdXnfgz6k5NMmX-zwxg</td>\n",
       "    </tr>\n",
       "    <tr>\n",
       "      <th>3668</th>\n",
       "      <td>amusementparks</td>\n",
       "      <td>Amusement Parks</td>\n",
       "      <td>p7we0TEB1MzcJRlQYTjogA</td>\n",
       "    </tr>\n",
       "  </tbody>\n",
       "</table>\n",
       "<p>3669 rows × 3 columns</p>\n",
       "</div>"
      ],
      "text/plain": [
       "                 alias               title                      id\n",
       "0              museums             Museums  JNbPJxM07pzJ-6JiXkZu6g\n",
       "1             arttours           Art Tours  JNbPJxM07pzJ-6JiXkZu6g\n",
       "2              fashion             Fashion  JNbPJxM07pzJ-6JiXkZu6g\n",
       "3             bakeries            Bakeries  3zZOFdwxA_JDcAKEKomknA\n",
       "4     breakfast_brunch  Breakfast & Brunch  3zZOFdwxA_JDcAKEKomknA\n",
       "...                ...                 ...                     ...\n",
       "3664             parks               Parks  L4tYXryUg-uYk6fsU2qVNQ\n",
       "3665              auto          Automotive  lmvpdXnfgz6k5NMmX-zwxg\n",
       "3666              bars                Bars  lmvpdXnfgz6k5NMmX-zwxg\n",
       "3667     trainstations      Train Stations  lmvpdXnfgz6k5NMmX-zwxg\n",
       "3668    amusementparks     Amusement Parks  p7we0TEB1MzcJRlQYTjogA\n",
       "\n",
       "[3669 rows x 3 columns]"
      ]
     },
     "execution_count": 230,
     "metadata": {},
     "output_type": "execute_result"
    }
   ],
   "source": [
    "yelp_category = dict_list_to_df(yelp_category,'categories','id')\n",
    "yelp_category"
   ]
  },
  {
   "cell_type": "code",
   "execution_count": 231,
   "metadata": {},
   "outputs": [],
   "source": [
    "yelp_category.rename(columns={'alias':'category_alias','title':'category_title'},inplace=True)"
   ]
  },
  {
   "cell_type": "code",
   "execution_count": 257,
   "metadata": {},
   "outputs": [],
   "source": [
    "yelp_category.drop_duplicates(inplace=True)"
   ]
  },
  {
   "cell_type": "code",
   "execution_count": 258,
   "metadata": {},
   "outputs": [],
   "source": [
    "yelp_category.to_csv('../data/yelp_category.csv', index=False) #save to csv file"
   ]
  },
  {
   "cell_type": "code",
   "execution_count": 233,
   "metadata": {},
   "outputs": [],
   "source": [
    "#yelp_category=pd.read_csv('../data/yelp_category.csv')"
   ]
  },
  {
   "cell_type": "code",
   "execution_count": 234,
   "metadata": {},
   "outputs": [],
   "source": [
    "yelp_places.drop(['categories'],axis=1,inplace=True) #Drop category from yelp_places as now these are in yelp_category DF"
   ]
  },
  {
   "cell_type": "code",
   "execution_count": 252,
   "metadata": {},
   "outputs": [],
   "source": [
    "yelp_places.drop_duplicates(subset=yelp_places.columns.difference(['station']),inplace=True)"
   ]
  },
  {
   "cell_type": "code",
   "execution_count": 254,
   "metadata": {},
   "outputs": [
    {
     "name": "stdout",
     "output_type": "stream",
     "text": [
      "<class 'pandas.core.frame.DataFrame'>\n",
      "Int64Index: 1176 entries, 0 to 2502\n",
      "Data columns (total 8 columns):\n",
      " #   Column        Non-Null Count  Dtype  \n",
      "---  ------        --------------  -----  \n",
      " 0   id            1176 non-null   object \n",
      " 1   name          1176 non-null   object \n",
      " 2   review_count  1176 non-null   float64\n",
      " 3   rating        1176 non-null   float64\n",
      " 4   latitude      1176 non-null   float64\n",
      " 5   longitude     1176 non-null   float64\n",
      " 6   price         1176 non-null   object \n",
      " 7   station       1176 non-null   object \n",
      "dtypes: float64(4), object(4)\n",
      "memory usage: 82.7+ KB\n"
     ]
    }
   ],
   "source": [
    "yelp_places.info() #data is cleaned from null values"
   ]
  },
  {
   "cell_type": "code",
   "execution_count": 255,
   "metadata": {},
   "outputs": [],
   "source": [
    "yelp_places.to_csv('../data/yelp_places.csv', index=False) #save for later use"
   ]
  },
  {
   "cell_type": "markdown",
   "metadata": {},
   "source": [
    "***Note:*** Above process is similar to the process followed for Foursquare API "
   ]
  },
  {
   "cell_type": "markdown",
   "metadata": {},
   "source": [
    "Parse through the response to get the POI (such as restaurants, bars, etc) details you want (ratings, name, location, etc)"
   ]
  },
  {
   "cell_type": "code",
   "execution_count": 87,
   "metadata": {},
   "outputs": [],
   "source": [
    "#yelp_places=pd.read_csv('../data/yelp_places.csv')"
   ]
  },
  {
   "cell_type": "code",
   "execution_count": 241,
   "metadata": {},
   "outputs": [],
   "source": [
    "def search_yelp_places(category):\n",
    "    temp_cat_df1=yelp_category[(yelp_category['category_alias'].str.contains(category.strip(),case=False)) |\n",
    "                               (yelp_category['category_title'].str.contains(category.strip(),case=False)) ]\n",
    "    search_yelp_result = pd.merge(temp_cat_df1, yelp_places, on='id')\n",
    "    return search_yelp_result"
   ]
  },
  {
   "cell_type": "code",
   "execution_count": 259,
   "metadata": {},
   "outputs": [
    {
     "data": {
      "text/html": [
       "<div>\n",
       "<style scoped>\n",
       "    .dataframe tbody tr th:only-of-type {\n",
       "        vertical-align: middle;\n",
       "    }\n",
       "\n",
       "    .dataframe tbody tr th {\n",
       "        vertical-align: top;\n",
       "    }\n",
       "\n",
       "    .dataframe thead th {\n",
       "        text-align: right;\n",
       "    }\n",
       "</style>\n",
       "<table border=\"1\" class=\"dataframe\">\n",
       "  <thead>\n",
       "    <tr style=\"text-align: right;\">\n",
       "      <th></th>\n",
       "      <th>category_alias</th>\n",
       "      <th>category_title</th>\n",
       "      <th>id</th>\n",
       "      <th>name</th>\n",
       "      <th>review_count</th>\n",
       "      <th>rating</th>\n",
       "      <th>latitude</th>\n",
       "      <th>longitude</th>\n",
       "      <th>price</th>\n",
       "      <th>station</th>\n",
       "    </tr>\n",
       "  </thead>\n",
       "  <tbody>\n",
       "    <tr>\n",
       "      <th>0</th>\n",
       "      <td>cocktailbars</td>\n",
       "      <td>Cocktail Bars</td>\n",
       "      <td>G2OzmHeJnDaQwXsFBRYC3g</td>\n",
       "      <td>Les Ambassadeurs</td>\n",
       "      <td>9.0</td>\n",
       "      <td>5.0</td>\n",
       "      <td>48.867300</td>\n",
       "      <td>2.321130</td>\n",
       "      <td>0</td>\n",
       "      <td>Boétie - Ponthieu</td>\n",
       "    </tr>\n",
       "    <tr>\n",
       "      <th>1</th>\n",
       "      <td>champagne_bars</td>\n",
       "      <td>Champagne Bars</td>\n",
       "      <td>G2OzmHeJnDaQwXsFBRYC3g</td>\n",
       "      <td>Les Ambassadeurs</td>\n",
       "      <td>9.0</td>\n",
       "      <td>5.0</td>\n",
       "      <td>48.867300</td>\n",
       "      <td>2.321130</td>\n",
       "      <td>0</td>\n",
       "      <td>Boétie - Ponthieu</td>\n",
       "    </tr>\n",
       "    <tr>\n",
       "      <th>2</th>\n",
       "      <td>sushi</td>\n",
       "      <td>Sushi Bars</td>\n",
       "      <td>GzWfXIXbGwacNHfJZyr-aw</td>\n",
       "      <td>Sushi Okuda</td>\n",
       "      <td>4.0</td>\n",
       "      <td>5.0</td>\n",
       "      <td>48.867095</td>\n",
       "      <td>2.302471</td>\n",
       "      <td>0</td>\n",
       "      <td>Boétie - Ponthieu</td>\n",
       "    </tr>\n",
       "    <tr>\n",
       "      <th>3</th>\n",
       "      <td>beerbar</td>\n",
       "      <td>Beer Bar</td>\n",
       "      <td>NEEgRG1lU4yb4RfugrR43A</td>\n",
       "      <td>Tony</td>\n",
       "      <td>7.0</td>\n",
       "      <td>5.0</td>\n",
       "      <td>48.872910</td>\n",
       "      <td>2.354240</td>\n",
       "      <td>€€</td>\n",
       "      <td>Jemmapes - Ecluses Saint-Martin</td>\n",
       "    </tr>\n",
       "    <tr>\n",
       "      <th>4</th>\n",
       "      <td>cocktailbars</td>\n",
       "      <td>Cocktail Bars</td>\n",
       "      <td>NEEgRG1lU4yb4RfugrR43A</td>\n",
       "      <td>Tony</td>\n",
       "      <td>7.0</td>\n",
       "      <td>5.0</td>\n",
       "      <td>48.872910</td>\n",
       "      <td>2.354240</td>\n",
       "      <td>€€</td>\n",
       "      <td>Jemmapes - Ecluses Saint-Martin</td>\n",
       "    </tr>\n",
       "  </tbody>\n",
       "</table>\n",
       "</div>"
      ],
      "text/plain": [
       "   category_alias  category_title                      id              name  \\\n",
       "0    cocktailbars   Cocktail Bars  G2OzmHeJnDaQwXsFBRYC3g  Les Ambassadeurs   \n",
       "1  champagne_bars  Champagne Bars  G2OzmHeJnDaQwXsFBRYC3g  Les Ambassadeurs   \n",
       "2           sushi      Sushi Bars  GzWfXIXbGwacNHfJZyr-aw       Sushi Okuda   \n",
       "3         beerbar        Beer Bar  NEEgRG1lU4yb4RfugrR43A              Tony   \n",
       "4    cocktailbars   Cocktail Bars  NEEgRG1lU4yb4RfugrR43A              Tony   \n",
       "\n",
       "   review_count  rating   latitude  longitude price  \\\n",
       "0           9.0     5.0  48.867300   2.321130     0   \n",
       "1           9.0     5.0  48.867300   2.321130     0   \n",
       "2           4.0     5.0  48.867095   2.302471     0   \n",
       "3           7.0     5.0  48.872910   2.354240    €€   \n",
       "4           7.0     5.0  48.872910   2.354240    €€   \n",
       "\n",
       "                           station  \n",
       "0                Boétie - Ponthieu  \n",
       "1                Boétie - Ponthieu  \n",
       "2                Boétie - Ponthieu  \n",
       "3  Jemmapes - Ecluses Saint-Martin  \n",
       "4  Jemmapes - Ecluses Saint-Martin  "
      ]
     },
     "execution_count": 259,
     "metadata": {},
     "output_type": "execute_result"
    }
   ],
   "source": [
    "#Search places according to category\n",
    "category1='bar'\n",
    "search_result1=search_yelp_places(category1)\n",
    "search_result1.head()"
   ]
  },
  {
   "cell_type": "markdown",
   "metadata": {},
   "source": [
    "***Put your parsed results into a DataFrame***"
   ]
  },
  {
   "cell_type": "markdown",
   "metadata": {},
   "source": [
    "***Note:*** Our result is in 'search_result1' DataFrame"
   ]
  },
  {
   "cell_type": "markdown",
   "metadata": {},
   "source": [
    "# Comparing Results"
   ]
  },
  {
   "cell_type": "markdown",
   "metadata": {},
   "source": [
    "***Which API provided you with more complete data? Provide an explanation. ***"
   ]
  },
  {
   "cell_type": "markdown",
   "metadata": {},
   "source": [
    "- No doubt both the APIs gives the similar type of information about a place\n",
    "- But in Foursquare we have the flexibility to filter out only the required fields while initializing a request. Which helps alot and saves time and resources.\n"
   ]
  },
  {
   "cell_type": "markdown",
   "metadata": {},
   "source": [
    "- If we see overall Foursquare API provides more no of records as compare to Yelp API"
   ]
  },
  {
   "cell_type": "code",
   "execution_count": 261,
   "metadata": {},
   "outputs": [
    {
     "name": "stdout",
     "output_type": "stream",
     "text": [
      "Foursquare places  (2318, 8)\n",
      "Yelp places  (1176, 8)\n"
     ]
    }
   ],
   "source": [
    "print('Foursquare places ',places.shape)\n",
    "print('Yelp places ',yelp_places.shape)"
   ]
  },
  {
   "cell_type": "markdown",
   "metadata": {},
   "source": [
    "- Yelp provides only limited no of fields.On the other hand Foursquare provides vast range of fields including the \n",
    "more in-depth fields like chains,related_places etc"
   ]
  },
  {
   "cell_type": "code",
   "execution_count": 276,
   "metadata": {},
   "outputs": [
    {
     "data": {
      "text/html": [
       "<div>\n",
       "<style scoped>\n",
       "    .dataframe tbody tr th:only-of-type {\n",
       "        vertical-align: middle;\n",
       "    }\n",
       "\n",
       "    .dataframe tbody tr th {\n",
       "        vertical-align: top;\n",
       "    }\n",
       "\n",
       "    .dataframe thead th {\n",
       "        text-align: right;\n",
       "    }\n",
       "</style>\n",
       "<table border=\"1\" class=\"dataframe\">\n",
       "  <thead>\n",
       "    <tr style=\"text-align: right;\">\n",
       "      <th></th>\n",
       "      <th>rating_x</th>\n",
       "      <th>station</th>\n",
       "      <th>rating_y</th>\n",
       "    </tr>\n",
       "  </thead>\n",
       "  <tbody>\n",
       "    <tr>\n",
       "      <th>0</th>\n",
       "      <td>9.2</td>\n",
       "      <td>Boétie - Ponthieu</td>\n",
       "      <td>5.0</td>\n",
       "    </tr>\n",
       "    <tr>\n",
       "      <th>20</th>\n",
       "      <td>9.1</td>\n",
       "      <td>Boétie - Ponthieu</td>\n",
       "      <td>5.0</td>\n",
       "    </tr>\n",
       "    <tr>\n",
       "      <th>80</th>\n",
       "      <td>8.8</td>\n",
       "      <td>Pajol - Place Herbert</td>\n",
       "      <td>5.0</td>\n",
       "    </tr>\n",
       "    <tr>\n",
       "      <th>81</th>\n",
       "      <td>8.8</td>\n",
       "      <td>Pajol - Place Herbert</td>\n",
       "      <td>4.5</td>\n",
       "    </tr>\n",
       "    <tr>\n",
       "      <th>97</th>\n",
       "      <td>8.8</td>\n",
       "      <td>Pajol - Place Herbert</td>\n",
       "      <td>4.0</td>\n",
       "    </tr>\n",
       "    <tr>\n",
       "      <th>100</th>\n",
       "      <td>8.6</td>\n",
       "      <td>Pajol - Place Herbert</td>\n",
       "      <td>5.0</td>\n",
       "    </tr>\n",
       "    <tr>\n",
       "      <th>101</th>\n",
       "      <td>8.6</td>\n",
       "      <td>Pajol - Place Herbert</td>\n",
       "      <td>4.5</td>\n",
       "    </tr>\n",
       "    <tr>\n",
       "      <th>117</th>\n",
       "      <td>8.6</td>\n",
       "      <td>Pajol - Place Herbert</td>\n",
       "      <td>4.0</td>\n",
       "    </tr>\n",
       "    <tr>\n",
       "      <th>120</th>\n",
       "      <td>8.4</td>\n",
       "      <td>Pajol - Place Herbert</td>\n",
       "      <td>5.0</td>\n",
       "    </tr>\n",
       "    <tr>\n",
       "      <th>121</th>\n",
       "      <td>8.4</td>\n",
       "      <td>Pajol - Place Herbert</td>\n",
       "      <td>4.5</td>\n",
       "    </tr>\n",
       "  </tbody>\n",
       "</table>\n",
       "</div>"
      ],
      "text/plain": [
       "     rating_x                station  rating_y\n",
       "0         9.2      Boétie - Ponthieu       5.0\n",
       "20        9.1      Boétie - Ponthieu       5.0\n",
       "80        8.8  Pajol - Place Herbert       5.0\n",
       "81        8.8  Pajol - Place Herbert       4.5\n",
       "97        8.8  Pajol - Place Herbert       4.0\n",
       "100       8.6  Pajol - Place Herbert       5.0\n",
       "101       8.6  Pajol - Place Herbert       4.5\n",
       "117       8.6  Pajol - Place Herbert       4.0\n",
       "120       8.4  Pajol - Place Herbert       5.0\n",
       "121       8.4  Pajol - Place Herbert       4.5"
      ]
     },
     "execution_count": 276,
     "metadata": {},
     "output_type": "execute_result"
    }
   ],
   "source": [
    "#compare the ratings of the stations\n",
    "merge_APIS = pd.merge(places[['rating','station']], yelp_places[['rating','station']], on='station')\n",
    "merge_APIS.drop_duplicates(inplace=True)\n",
    "merge_APIS.head(10)"
   ]
  },
  {
   "cell_type": "code",
   "execution_count": 297,
   "metadata": {},
   "outputs": [
    {
     "data": {
      "image/png": "[encoded data removed]",
      "text/plain": [
       "<Figure size 1000x600 with 1 Axes>"
      ]
     },
     "metadata": {},
     "output_type": "display_data"
    }
   ],
   "source": [
    "# Plot this comparison\n",
    "import matplotlib.pyplot as plt\n",
    "plt.figure(figsize=(10,6))\n",
    "y1=merge_APIS['rating_x'] # Foursquare places\n",
    "y2=merge_APIS['rating_y'] # yelp places\n",
    "x=merge_APIS.index # we use index only just to compare two ratings with each other\n",
    "\n",
    "# plot data in line chart\n",
    "plt.plot(x, y1,  color='cyan')\n",
    "plt.plot(x, y2,  color='orange')\n",
    "plt.xlabel(\"Station (Index)\")\n",
    "plt.ylabel(\"Rating\")\n",
    "plt.legend([\"Foursquare Rating\", \"Yelp Rating\"])\n",
    "plt.title(\"Comparison Between Ratings Of Stations From Both The APIs\")\n",
    "plt.show()"
   ]
  },
  {
   "cell_type": "markdown",
   "metadata": {},
   "source": [
    "***Note:*** Both the ratings have different boundry limits.But the graph shows that Yelp have more information about the ratings as compare to Foursquare beacuse line for Yelp is more tightly stacked"
   ]
  },
  {
   "cell_type": "markdown",
   "metadata": {},
   "source": [
    "***Result:*** \n",
    "- So the data in Yelp provides the more coverage.\n",
    "- Foursquare API does not provide the review detail"
   ]
  },
  {
   "cell_type": "markdown",
   "metadata": {},
   "source": [
    "***Get the top 10 restaurants according to their rating***"
   ]
  },
  {
   "cell_type": "markdown",
   "metadata": {},
   "source": [
    "-Foursuare API"
   ]
  },
  {
   "cell_type": "code",
   "execution_count": 265,
   "metadata": {},
   "outputs": [
    {
     "data": {
      "text/html": [
       "<div>\n",
       "<style scoped>\n",
       "    .dataframe tbody tr th:only-of-type {\n",
       "        vertical-align: middle;\n",
       "    }\n",
       "\n",
       "    .dataframe tbody tr th {\n",
       "        vertical-align: top;\n",
       "    }\n",
       "\n",
       "    .dataframe thead th {\n",
       "        text-align: right;\n",
       "    }\n",
       "</style>\n",
       "<table border=\"1\" class=\"dataframe\">\n",
       "  <thead>\n",
       "    <tr style=\"text-align: right;\">\n",
       "      <th></th>\n",
       "      <th>category_id</th>\n",
       "      <th>category</th>\n",
       "      <th>fsq_id</th>\n",
       "      <th>name</th>\n",
       "      <th>popularity</th>\n",
       "      <th>rating</th>\n",
       "      <th>latitude</th>\n",
       "      <th>longitude</th>\n",
       "      <th>price</th>\n",
       "      <th>station</th>\n",
       "    </tr>\n",
       "  </thead>\n",
       "  <tbody>\n",
       "    <tr>\n",
       "      <th>5</th>\n",
       "      <td>13065</td>\n",
       "      <td>Restaurant</td>\n",
       "      <td>5b394cae92e7a9002c724cf9</td>\n",
       "      <td>La Maison d'Isabelle</td>\n",
       "      <td>0.998147</td>\n",
       "      <td>9.4</td>\n",
       "      <td>48.849807</td>\n",
       "      <td>2.348409</td>\n",
       "      <td>1.0</td>\n",
       "      <td>André Mazet - Saint-André des Arts</td>\n",
       "    </tr>\n",
       "    <tr>\n",
       "      <th>8</th>\n",
       "      <td>13322</td>\n",
       "      <td>Peruvian Restaurant</td>\n",
       "      <td>5d6ae3b0ca1763000823441b</td>\n",
       "      <td>Coya Paris</td>\n",
       "      <td>0.996460</td>\n",
       "      <td>9.3</td>\n",
       "      <td>48.854281</td>\n",
       "      <td>2.324369</td>\n",
       "      <td>2.0</td>\n",
       "      <td>Beaux-Arts - Bonaparte</td>\n",
       "    </tr>\n",
       "    <tr>\n",
       "      <th>6</th>\n",
       "      <td>13065</td>\n",
       "      <td>Restaurant</td>\n",
       "      <td>4b5eec5df964a520129e29e3</td>\n",
       "      <td>Du Pain et des Idées</td>\n",
       "      <td>0.996735</td>\n",
       "      <td>9.2</td>\n",
       "      <td>48.871214</td>\n",
       "      <td>2.362942</td>\n",
       "      <td>2.0</td>\n",
       "      <td>Faubourg Du Temple - Republique</td>\n",
       "    </tr>\n",
       "    <tr>\n",
       "      <th>7</th>\n",
       "      <td>13065</td>\n",
       "      <td>Restaurant</td>\n",
       "      <td>548cbfba498e8beca9c22ef9</td>\n",
       "      <td>Le Ballon Rouge</td>\n",
       "      <td>0.972475</td>\n",
       "      <td>9.2</td>\n",
       "      <td>48.867587</td>\n",
       "      <td>2.356783</td>\n",
       "      <td>0.0</td>\n",
       "      <td>Faubourg Du Temple - Republique</td>\n",
       "    </tr>\n",
       "    <tr>\n",
       "      <th>9</th>\n",
       "      <td>13065</td>\n",
       "      <td>Restaurant</td>\n",
       "      <td>4d541304d4a6721e9b5691ac</td>\n",
       "      <td>Boulangerie Alexine</td>\n",
       "      <td>0.989563</td>\n",
       "      <td>9.2</td>\n",
       "      <td>48.886093</td>\n",
       "      <td>2.334619</td>\n",
       "      <td>1.0</td>\n",
       "      <td>Toudouze - Clauzel</td>\n",
       "    </tr>\n",
       "    <tr>\n",
       "      <th>0</th>\n",
       "      <td>13236</td>\n",
       "      <td>Italian Restaurant</td>\n",
       "      <td>5bd848f89de23b003984d7a9</td>\n",
       "      <td>Marzo Rive Droite</td>\n",
       "      <td>0.969506</td>\n",
       "      <td>9.1</td>\n",
       "      <td>48.867113</td>\n",
       "      <td>2.287484</td>\n",
       "      <td>2.0</td>\n",
       "      <td>Benjamin Godard - Victor Hugo</td>\n",
       "    </tr>\n",
       "    <tr>\n",
       "      <th>1</th>\n",
       "      <td>13065</td>\n",
       "      <td>Restaurant</td>\n",
       "      <td>5b61826df193c0002cfec9d5</td>\n",
       "      <td>La Suite Girafe</td>\n",
       "      <td>0.999502</td>\n",
       "      <td>9.0</td>\n",
       "      <td>48.861949</td>\n",
       "      <td>2.287887</td>\n",
       "      <td>0.0</td>\n",
       "      <td>Benjamin Godard - Victor Hugo</td>\n",
       "    </tr>\n",
       "    <tr>\n",
       "      <th>2</th>\n",
       "      <td>13145</td>\n",
       "      <td>Fast Food Restaurant</td>\n",
       "      <td>4adcda14f964a5203a3721e3</td>\n",
       "      <td>Carette</td>\n",
       "      <td>0.999974</td>\n",
       "      <td>9.0</td>\n",
       "      <td>48.863666</td>\n",
       "      <td>2.287205</td>\n",
       "      <td>3.0</td>\n",
       "      <td>Benjamin Godard - Victor Hugo</td>\n",
       "    </tr>\n",
       "    <tr>\n",
       "      <th>3</th>\n",
       "      <td>13068</td>\n",
       "      <td>American Restaurant</td>\n",
       "      <td>4d59643f296d5481838b58b1</td>\n",
       "      <td>Schwartz's</td>\n",
       "      <td>0.996604</td>\n",
       "      <td>8.8</td>\n",
       "      <td>48.863709</td>\n",
       "      <td>2.285596</td>\n",
       "      <td>2.0</td>\n",
       "      <td>Benjamin Godard - Victor Hugo</td>\n",
       "    </tr>\n",
       "    <tr>\n",
       "      <th>4</th>\n",
       "      <td>13148</td>\n",
       "      <td>French Restaurant</td>\n",
       "      <td>4bf54e03ff90c9b68b2d5628</td>\n",
       "      <td>Le Petit Rétro</td>\n",
       "      <td>0.964768</td>\n",
       "      <td>8.7</td>\n",
       "      <td>48.868750</td>\n",
       "      <td>2.284861</td>\n",
       "      <td>3.0</td>\n",
       "      <td>Benjamin Godard - Victor Hugo</td>\n",
       "    </tr>\n",
       "  </tbody>\n",
       "</table>\n",
       "</div>"
      ],
      "text/plain": [
       "   category_id              category                    fsq_id  \\\n",
       "5        13065            Restaurant  5b394cae92e7a9002c724cf9   \n",
       "8        13322   Peruvian Restaurant  5d6ae3b0ca1763000823441b   \n",
       "6        13065            Restaurant  4b5eec5df964a520129e29e3   \n",
       "7        13065            Restaurant  548cbfba498e8beca9c22ef9   \n",
       "9        13065            Restaurant  4d541304d4a6721e9b5691ac   \n",
       "0        13236    Italian Restaurant  5bd848f89de23b003984d7a9   \n",
       "1        13065            Restaurant  5b61826df193c0002cfec9d5   \n",
       "2        13145  Fast Food Restaurant  4adcda14f964a5203a3721e3   \n",
       "3        13068   American Restaurant  4d59643f296d5481838b58b1   \n",
       "4        13148     French Restaurant  4bf54e03ff90c9b68b2d5628   \n",
       "\n",
       "                   name  popularity  rating   latitude  longitude  price  \\\n",
       "5  La Maison d'Isabelle    0.998147     9.4  48.849807   2.348409    1.0   \n",
       "8            Coya Paris    0.996460     9.3  48.854281   2.324369    2.0   \n",
       "6  Du Pain et des Idées    0.996735     9.2  48.871214   2.362942    2.0   \n",
       "7       Le Ballon Rouge    0.972475     9.2  48.867587   2.356783    0.0   \n",
       "9   Boulangerie Alexine    0.989563     9.2  48.886093   2.334619    1.0   \n",
       "0     Marzo Rive Droite    0.969506     9.1  48.867113   2.287484    2.0   \n",
       "1       La Suite Girafe    0.999502     9.0  48.861949   2.287887    0.0   \n",
       "2               Carette    0.999974     9.0  48.863666   2.287205    3.0   \n",
       "3            Schwartz's    0.996604     8.8  48.863709   2.285596    2.0   \n",
       "4        Le Petit Rétro    0.964768     8.7  48.868750   2.284861    3.0   \n",
       "\n",
       "                              station  \n",
       "5  André Mazet - Saint-André des Arts  \n",
       "8              Beaux-Arts - Bonaparte  \n",
       "6     Faubourg Du Temple - Republique  \n",
       "7     Faubourg Du Temple - Republique  \n",
       "9                  Toudouze - Clauzel  \n",
       "0       Benjamin Godard - Victor Hugo  \n",
       "1       Benjamin Godard - Victor Hugo  \n",
       "2       Benjamin Godard - Victor Hugo  \n",
       "3       Benjamin Godard - Victor Hugo  \n",
       "4       Benjamin Godard - Victor Hugo  "
      ]
     },
     "execution_count": 265,
     "metadata": {},
     "output_type": "execute_result"
    }
   ],
   "source": [
    "category='restaurant'\n",
    "search_result=search_places(category)\n",
    "search_result.loc[0:9].sort_values(by='rating',ascending=False)"
   ]
  },
  {
   "cell_type": "markdown",
   "metadata": {},
   "source": [
    "- Yelp API"
   ]
  },
  {
   "cell_type": "code",
   "execution_count": 266,
   "metadata": {},
   "outputs": [
    {
     "data": {
      "text/html": [
       "<div>\n",
       "<style scoped>\n",
       "    .dataframe tbody tr th:only-of-type {\n",
       "        vertical-align: middle;\n",
       "    }\n",
       "\n",
       "    .dataframe tbody tr th {\n",
       "        vertical-align: top;\n",
       "    }\n",
       "\n",
       "    .dataframe thead th {\n",
       "        text-align: right;\n",
       "    }\n",
       "</style>\n",
       "<table border=\"1\" class=\"dataframe\">\n",
       "  <thead>\n",
       "    <tr style=\"text-align: right;\">\n",
       "      <th></th>\n",
       "      <th>category_alias</th>\n",
       "      <th>category_title</th>\n",
       "      <th>id</th>\n",
       "      <th>name</th>\n",
       "      <th>review_count</th>\n",
       "      <th>rating</th>\n",
       "      <th>latitude</th>\n",
       "      <th>longitude</th>\n",
       "      <th>price</th>\n",
       "      <th>station</th>\n",
       "    </tr>\n",
       "  </thead>\n",
       "  <tbody>\n",
       "    <tr>\n",
       "      <th>0</th>\n",
       "      <td>restaurants</td>\n",
       "      <td>Restaurants</td>\n",
       "      <td>vS9_lZDvPPkoQndrqKo79Q</td>\n",
       "      <td>HABILE.</td>\n",
       "      <td>6.0</td>\n",
       "      <td>5.0</td>\n",
       "      <td>48.869650</td>\n",
       "      <td>2.360670</td>\n",
       "      <td>0</td>\n",
       "      <td>Jemmapes - Ecluses Saint-Martin</td>\n",
       "    </tr>\n",
       "    <tr>\n",
       "      <th>2</th>\n",
       "      <td>restaurants</td>\n",
       "      <td>Restaurants</td>\n",
       "      <td>l71FXlZrExpRs5RqX9Ty-A</td>\n",
       "      <td>Petrus Exploitation</td>\n",
       "      <td>5.0</td>\n",
       "      <td>5.0</td>\n",
       "      <td>48.885220</td>\n",
       "      <td>2.296530</td>\n",
       "      <td>0</td>\n",
       "      <td>Anatole France - Louise Michel</td>\n",
       "    </tr>\n",
       "    <tr>\n",
       "      <th>3</th>\n",
       "      <td>restaurants</td>\n",
       "      <td>Restaurants</td>\n",
       "      <td>LYxAyKTwXol9figyY3A6qA</td>\n",
       "      <td>Muraille d'or</td>\n",
       "      <td>2.0</td>\n",
       "      <td>5.0</td>\n",
       "      <td>48.902193</td>\n",
       "      <td>2.385702</td>\n",
       "      <td>0</td>\n",
       "      <td>Bordier - Félix Faure</td>\n",
       "    </tr>\n",
       "    <tr>\n",
       "      <th>4</th>\n",
       "      <td>restaurants</td>\n",
       "      <td>Restaurants</td>\n",
       "      <td>uBDdjVzoiMzQ9e19PDkyvQ</td>\n",
       "      <td>Espace Vert</td>\n",
       "      <td>1.0</td>\n",
       "      <td>5.0</td>\n",
       "      <td>48.903220</td>\n",
       "      <td>2.392380</td>\n",
       "      <td>0</td>\n",
       "      <td>Bordier - Félix Faure</td>\n",
       "    </tr>\n",
       "    <tr>\n",
       "      <th>5</th>\n",
       "      <td>restaurants</td>\n",
       "      <td>Restaurants</td>\n",
       "      <td>qovtaOGnFK4c3KpADY9ezg</td>\n",
       "      <td>Café Henri</td>\n",
       "      <td>1.0</td>\n",
       "      <td>5.0</td>\n",
       "      <td>48.901620</td>\n",
       "      <td>2.389120</td>\n",
       "      <td>0</td>\n",
       "      <td>Bordier - Félix Faure</td>\n",
       "    </tr>\n",
       "    <tr>\n",
       "      <th>1</th>\n",
       "      <td>restaurants</td>\n",
       "      <td>Restaurants</td>\n",
       "      <td>pf4wbF0FiRkgkrJY6nCCyQ</td>\n",
       "      <td>Thai 18</td>\n",
       "      <td>6.0</td>\n",
       "      <td>4.5</td>\n",
       "      <td>48.890030</td>\n",
       "      <td>2.360210</td>\n",
       "      <td>€€</td>\n",
       "      <td>Pajol - Place Herbert</td>\n",
       "    </tr>\n",
       "    <tr>\n",
       "      <th>6</th>\n",
       "      <td>restaurants</td>\n",
       "      <td>Restaurants</td>\n",
       "      <td>F0Ba9IJc78CHd8LcIU_z9w</td>\n",
       "      <td>Akasaka</td>\n",
       "      <td>11.0</td>\n",
       "      <td>4.5</td>\n",
       "      <td>48.858320</td>\n",
       "      <td>2.280500</td>\n",
       "      <td>€€€€</td>\n",
       "      <td>Flandrin - Henri Martin</td>\n",
       "    </tr>\n",
       "    <tr>\n",
       "      <th>7</th>\n",
       "      <td>restaurants</td>\n",
       "      <td>Restaurants</td>\n",
       "      <td>2V2yDdQdf7xPu4gdZt8Tjw</td>\n",
       "      <td>Amira chicha</td>\n",
       "      <td>1.0</td>\n",
       "      <td>4.0</td>\n",
       "      <td>48.911856</td>\n",
       "      <td>2.333764</td>\n",
       "      <td>0</td>\n",
       "      <td>Carrefour Pleyel</td>\n",
       "    </tr>\n",
       "    <tr>\n",
       "      <th>8</th>\n",
       "      <td>restaurants</td>\n",
       "      <td>Restaurants</td>\n",
       "      <td>lc41IrM0HbxYR69YmIePaA</td>\n",
       "      <td>Cafe Loom</td>\n",
       "      <td>1.0</td>\n",
       "      <td>4.0</td>\n",
       "      <td>48.911856</td>\n",
       "      <td>2.333764</td>\n",
       "      <td>0</td>\n",
       "      <td>Carrefour Pleyel</td>\n",
       "    </tr>\n",
       "    <tr>\n",
       "      <th>9</th>\n",
       "      <td>restaurants</td>\n",
       "      <td>Restaurants</td>\n",
       "      <td>Sj9cEeQ8ATTL32TXQLU_mQ</td>\n",
       "      <td>Le Casino</td>\n",
       "      <td>2.0</td>\n",
       "      <td>4.0</td>\n",
       "      <td>48.820050</td>\n",
       "      <td>2.477030</td>\n",
       "      <td>0</td>\n",
       "      <td>Place de Verdun</td>\n",
       "    </tr>\n",
       "  </tbody>\n",
       "</table>\n",
       "</div>"
      ],
      "text/plain": [
       "  category_alias category_title                      id                 name  \\\n",
       "0    restaurants    Restaurants  vS9_lZDvPPkoQndrqKo79Q              HABILE.   \n",
       "2    restaurants    Restaurants  l71FXlZrExpRs5RqX9Ty-A  Petrus Exploitation   \n",
       "3    restaurants    Restaurants  LYxAyKTwXol9figyY3A6qA        Muraille d'or   \n",
       "4    restaurants    Restaurants  uBDdjVzoiMzQ9e19PDkyvQ          Espace Vert   \n",
       "5    restaurants    Restaurants  qovtaOGnFK4c3KpADY9ezg           Café Henri   \n",
       "1    restaurants    Restaurants  pf4wbF0FiRkgkrJY6nCCyQ              Thai 18   \n",
       "6    restaurants    Restaurants  F0Ba9IJc78CHd8LcIU_z9w              Akasaka   \n",
       "7    restaurants    Restaurants  2V2yDdQdf7xPu4gdZt8Tjw         Amira chicha   \n",
       "8    restaurants    Restaurants  lc41IrM0HbxYR69YmIePaA            Cafe Loom   \n",
       "9    restaurants    Restaurants  Sj9cEeQ8ATTL32TXQLU_mQ            Le Casino   \n",
       "\n",
       "   review_count  rating   latitude  longitude price  \\\n",
       "0           6.0     5.0  48.869650   2.360670     0   \n",
       "2           5.0     5.0  48.885220   2.296530     0   \n",
       "3           2.0     5.0  48.902193   2.385702     0   \n",
       "4           1.0     5.0  48.903220   2.392380     0   \n",
       "5           1.0     5.0  48.901620   2.389120     0   \n",
       "1           6.0     4.5  48.890030   2.360210    €€   \n",
       "6          11.0     4.5  48.858320   2.280500  €€€€   \n",
       "7           1.0     4.0  48.911856   2.333764     0   \n",
       "8           1.0     4.0  48.911856   2.333764     0   \n",
       "9           2.0     4.0  48.820050   2.477030     0   \n",
       "\n",
       "                           station  \n",
       "0  Jemmapes - Ecluses Saint-Martin  \n",
       "2   Anatole France - Louise Michel  \n",
       "3            Bordier - Félix Faure  \n",
       "4            Bordier - Félix Faure  \n",
       "5            Bordier - Félix Faure  \n",
       "1            Pajol - Place Herbert  \n",
       "6          Flandrin - Henri Martin  \n",
       "7                 Carrefour Pleyel  \n",
       "8                 Carrefour Pleyel  \n",
       "9                  Place de Verdun  "
      ]
     },
     "execution_count": 266,
     "metadata": {},
     "output_type": "execute_result"
    }
   ],
   "source": [
    "search_result1=search_yelp_places(category)\n",
    "search_result1.loc[0:9].sort_values(by='rating',ascending=False)"
   ]
  },
  {
   "cell_type": "code",
   "execution_count": null,
   "metadata": {},
   "outputs": [],
   "source": []
  }
 ],
 "metadata": {
  "kernelspec": {
   "display_name": "Python 3 (ipykernel)",
   "language": "python",
   "name": "python3"
  },
  "language_info": {
   "codemirror_mode": {
    "name": "ipython",
    "version": 3
   },
   "file_extension": ".py",
   "mimetype": "text/x-python",
   "name": "python",
   "nbconvert_exporter": "python",
   "pygments_lexer": "ipython3",
   "version": "3.9.13"
  }
 },
 "nbformat": 4,
 "nbformat_minor": 4
}
